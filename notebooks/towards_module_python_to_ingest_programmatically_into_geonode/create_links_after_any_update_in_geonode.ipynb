{
 "cells": [
  {
   "cell_type": "markdown",
   "metadata": {},
   "source": [
    "# Notebook to create links after zipping files with cmd lines [create_download_link_in_geonode_for_raster.py](https://github.com/CONABIO/geonode/blob/master/python3_package_for_geonode/geonode_conabio/create_download_link_in_geonode_for_raster.py) or [create_download_link_in_geonode_for_vector.py](https://github.com/CONABIO/geonode/blob/master/python3_package_for_geonode/geonode_conabio/create_download_link_in_geonode_for_vector.py)  \n",
    "\n",
    "(using this because some updates in geonode delete links)"
   ]
  },
  {
   "cell_type": "code",
   "execution_count": 1,
   "metadata": {},
   "outputs": [],
   "source": [
    "import os\n",
    "from geonode_conabio.utils_docker import create_link_in_geonode_for_zip_file_via_docker"
   ]
  },
  {
   "cell_type": "code",
   "execution_count": 26,
   "metadata": {},
   "outputs": [],
   "source": [
    "zip_path = \"/data/var/ftp/pub/\"\n",
    "zip_filename = \"National_validation_MAD-Mex_sentinel2_lc_2018_31_classes.zip\"\n",
    "zip_file = os.path.join(zip_path, zip_filename)\n",
    "download_path = \"ftp://geonode.conabio.gob.mx/pub\"\n",
    "title_layer = \"National validation dataset for 31 land cover classes classification 2018\""
   ]
  },
  {
   "cell_type": "code",
   "execution_count": 27,
   "metadata": {},
   "outputs": [],
   "source": [
    "download_url = os.path.join(download_path, os.path.basename(zip_file))"
   ]
  },
  {
   "cell_type": "code",
   "execution_count": 28,
   "metadata": {},
   "outputs": [
    {
     "data": {
      "text/plain": [
       "'ftp://geonode.conabio.gob.mx/pub/National_validation_MAD-Mex_sentinel2_lc_2018_31_classes.zip'"
      ]
     },
     "execution_count": 28,
     "metadata": {},
     "output_type": "execute_result"
    }
   ],
   "source": [
    "download_url"
   ]
  },
  {
   "cell_type": "code",
   "execution_count": 29,
   "metadata": {},
   "outputs": [
    {
     "name": "stdout",
     "output_type": "stream",
     "text": [
      "exists\n"
     ]
    }
   ],
   "source": [
    "if os.path.exists(zip_file):\n",
    "    print(\"exists\")\n",
    "    create_link_in_geonode_for_zip_file_via_docker(download_url, title_layer) "
   ]
  },
  {
   "cell_type": "code",
   "execution_count": null,
   "metadata": {},
   "outputs": [],
   "source": []
  }
 ],
 "metadata": {
  "kernelspec": {
   "display_name": "Python 3",
   "language": "python",
   "name": "python3"
  },
  "language_info": {
   "codemirror_mode": {
    "name": "ipython",
    "version": 3
   },
   "file_extension": ".py",
   "mimetype": "text/x-python",
   "name": "python",
   "nbconvert_exporter": "python",
   "pygments_lexer": "ipython3",
   "version": "3.6.9"
  }
 },
 "nbformat": 4,
 "nbformat_minor": 4
}
