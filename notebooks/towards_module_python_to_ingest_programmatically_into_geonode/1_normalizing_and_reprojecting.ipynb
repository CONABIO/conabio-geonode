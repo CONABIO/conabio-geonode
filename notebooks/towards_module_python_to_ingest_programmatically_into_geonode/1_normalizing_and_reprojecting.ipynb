{
 "cells": [
  {
   "cell_type": "markdown",
   "metadata": {},
   "source": [
    "# Large size vectors: lcc MAD-Mex"
   ]
  },
  {
   "cell_type": "markdown",
   "metadata": {},
   "source": [
    "## Normalize, reproject to wgs84"
   ]
  },
  {
   "cell_type": "code",
   "execution_count": 1,
   "metadata": {},
   "outputs": [],
   "source": [
    "import unicodedata\n",
    "\n",
    "from pyproj import Proj\n",
    "\n",
    "import fiona\n",
    "from fiona.crs import to_string\n",
    "from rasterio.warp import transform_geom\n",
    "from rasterio.crs import CRS as CRS_rio"
   ]
  },
  {
   "cell_type": "code",
   "execution_count": 2,
   "metadata": {},
   "outputs": [],
   "source": [
    "direc = '/LUSTRE/MADMEX/products/landcoverchange/landsat/mosaics/2017_2018'"
   ]
  },
  {
   "cell_type": "code",
   "execution_count": 3,
   "metadata": {},
   "outputs": [],
   "source": [
    "input_filename = direc + '/madmex_landsat_changes_2017-2018.shp'\n",
    "output_filename = direc + '/madmex_landsat_changes_2017-2018_wgs84_using_fiona.shp'\n",
    "layer = 'madmex_landsat_changes_2017-2018_wgs84_using_fiona'\n",
    "\n",
    "dst_crs = '4326'\n",
    "name_attribute1='t1_dsc_31'\n",
    "name_attribute2='t2_dsc_31'\n",
    "name_attribute3='t1_dsc_17'\n",
    "name_attribute4='t2_dsc_17'\n",
    "name_attribute5='cmb_dsc_31'\n",
    "name_attribute6='cmb_dsc_17'"
   ]
  },
  {
   "cell_type": "code",
   "execution_count": 4,
   "metadata": {},
   "outputs": [],
   "source": [
    "list_name_attributes = [name_attribute1, name_attribute2,\n",
    "                        name_attribute3, name_attribute4,\n",
    "                        name_attribute5, name_attribute6]"
   ]
  },
  {
   "cell_type": "code",
   "execution_count": 5,
   "metadata": {},
   "outputs": [],
   "source": [
    "def reproj_geom(geom, source_crs, destiny_crs):\n",
    "    return transform_geom(CRS_rio.from_proj4(source_crs), CRS_rio.from_epsg(destiny_crs),\n",
    "                          geom)"
   ]
  },
  {
   "cell_type": "code",
   "execution_count": 6,
   "metadata": {},
   "outputs": [],
   "source": [
    "def normalize_name_classes(string):\n",
    "    return unicodedata.normalize('NFKD', string).encode('ASCII','ignore').decode('utf-8')"
   ]
  },
  {
   "cell_type": "code",
   "execution_count": 7,
   "metadata": {},
   "outputs": [],
   "source": [
    "def wrapper_reproj_normalize_and_write_vector(feature_collection, source_crs, destiny_crs,\n",
    "                                        is_geographic = True):\n",
    "    dst = fiona.open(output_filename, 'w',\n",
    "                     driver = 'ESRI Shapefile',\n",
    "                     layer = layer,\n",
    "                     crs = CRS_rio.from_epsg(dst_crs).to_proj4(),\n",
    "                     schema = fc_schema)\n",
    "    dst.close()\n",
    "    with fiona.open(output_filename, 'a',\n",
    "                    driver = 'ESRI Shapefile',\n",
    "                    layer = layer,\n",
    "                    crs = CRS_rio.from_epsg(destiny_crs).to_proj4(),\n",
    "                    schema = fc_schema) as dst:\n",
    "        for feature in feature_collection:\n",
    "            if not is_geographic:\n",
    "                feature['geometry'] = reproj_geom(feature['geometry'],\n",
    "                                                  source_crs,\n",
    "                                                  destiny_crs)\n",
    "            for att in list_name_attributes:\n",
    "                feature['properties'][att] = normalize_name_classes(feature['properties'][att])\n",
    "            dst.write(feature)"
   ]
  },
  {
   "cell_type": "code",
   "execution_count": null,
   "metadata": {},
   "outputs": [],
   "source": [
    "with fiona.open(input_filename) as src:\n",
    "    fc = (feature for feature in src if not None in [feature['properties'][att] for att in list_name_attributes])\n",
    "    src_crs = to_string(src.crs)\n",
    "    proj_crs = Proj(src_crs)\n",
    "    fc_schema = src.schema\n",
    "    if not proj_crs.crs.is_geographic:\n",
    "        wrapper_reproj_normalize_and_write_vector(fc, src_crs, \n",
    "                                                  dst_crs, is_geographic = False)\n",
    "    else:\n",
    "        wrapper_reproj_normalize_and_write_vector(fc, src_crs, dst_crs)\n",
    "        "
   ]
  },
  {
   "cell_type": "markdown",
   "metadata": {},
   "source": [
    "# Example: register large vector layer in geonode"
   ]
  },
  {
   "cell_type": "markdown",
   "metadata": {},
   "source": [
    "**Make sure stack deployment of geonode is up and running**"
   ]
  },
  {
   "cell_type": "markdown",
   "metadata": {},
   "source": [
    "**1) Create `~/.pgpass` with contents: `hostname:port:database:username:password` and `chmod 0600 ~/.pass`**"
   ]
  },
  {
   "cell_type": "code",
   "execution_count": 1,
   "metadata": {},
   "outputs": [],
   "source": [
    "import subprocess"
   ]
  },
  {
   "cell_type": "code",
   "execution_count": 2,
   "metadata": {},
   "outputs": [],
   "source": [
    "l_cmd1 = [\"shp2pgsql\",\n",
    "          \"/LUSTRE/MADMEX/products/landcoverchange/landsat/mosaics/2017_2018/madmex_landsat_changes_2017-2018_wgs84_using_fiona.shp\",\n",
    "          \"madmex_landsat_2017-2018_lcc\",\n",
    "          \"public.madmex_landsat_changes_2017-2018_wgs84.shp\"]"
   ]
  },
  {
   "cell_type": "code",
   "execution_count": 3,
   "metadata": {},
   "outputs": [],
   "source": [
    "p1 = subprocess.Popen(l_cmd1, stdout=subprocess.PIPE)"
   ]
  },
  {
   "cell_type": "code",
   "execution_count": 4,
   "metadata": {},
   "outputs": [],
   "source": [
    "l_cmd2 = [\"psql\",\n",
    "          \"-q\",\n",
    "          \"-h\",\n",
    "          \"geonode.conabio.gob.mx\",\n",
    "          \"-d\",\n",
    "          \"geonode_data\",\n",
    "          \"-U\", \n",
    "          \"geonode\"]"
   ]
  },
  {
   "cell_type": "code",
   "execution_count": 5,
   "metadata": {},
   "outputs": [],
   "source": [
    "p2 = subprocess.Popen(l_cmd2, stdin=p1.stdout, stderr=subprocess.PIPE)"
   ]
  },
  {
   "cell_type": "code",
   "execution_count": 7,
   "metadata": {},
   "outputs": [
    {
     "data": {
      "text/plain": [
       "(None, b'')"
      ]
     },
     "execution_count": 7,
     "metadata": {},
     "output_type": "execute_result"
    }
   ],
   "source": [
    "p2.communicate()"
   ]
  },
  {
   "cell_type": "code",
   "execution_count": 8,
   "metadata": {},
   "outputs": [
    {
     "data": {
      "text/plain": [
       "0"
      ]
     },
     "execution_count": 8,
     "metadata": {},
     "output_type": "execute_result"
    }
   ],
   "source": [
    "p2.poll()"
   ]
  },
  {
   "cell_type": "code",
   "execution_count": 10,
   "metadata": {},
   "outputs": [],
   "source": [
    "p1.terminate()"
   ]
  },
  {
   "cell_type": "code",
   "execution_count": 9,
   "metadata": {},
   "outputs": [],
   "source": [
    "p2.terminate()"
   ]
  },
  {
   "cell_type": "markdown",
   "metadata": {},
   "source": [
    "**2) Add to geoserver from geonode_data database**. Need to follow: https://training.geonode.geo-solutions.it/004_admin_workshop/007_loading_data_into_geonode/geoserver.html"
   ]
  },
  {
   "cell_type": "markdown",
   "metadata": {},
   "source": [
    "**3) Update layers using docker container `spcgeonode_django_1`**"
   ]
  },
  {
   "cell_type": "code",
   "execution_count": 12,
   "metadata": {},
   "outputs": [],
   "source": [
    "from docker import APIClient"
   ]
  },
  {
   "cell_type": "code",
   "execution_count": 13,
   "metadata": {},
   "outputs": [],
   "source": [
    "c = APIClient(base_url='unix://var/run/docker.sock')"
   ]
  },
  {
   "cell_type": "code",
   "execution_count": 14,
   "metadata": {},
   "outputs": [
    {
     "data": {
      "text/plain": [
       "<docker.api.client.APIClient at 0x7f0844f2f208>"
      ]
     },
     "execution_count": 14,
     "metadata": {},
     "output_type": "execute_result"
    }
   ],
   "source": [
    "c"
   ]
  },
  {
   "cell_type": "code",
   "execution_count": 15,
   "metadata": {},
   "outputs": [],
   "source": [
    "cmd = 'python manage.py updatelayers -s geonode_data -w geonode -f ' + \\\n",
    "      'madmex_landsat_2017-2018_lcc ' + \\\n",
    "      '--settings=geonode.local_settings'"
   ]
  },
  {
   "cell_type": "code",
   "execution_count": 16,
   "metadata": {},
   "outputs": [],
   "source": [
    "ex = c.exec_create(container = 'spcgeonode_django_1', \n",
    "                   cmd = cmd)"
   ]
  },
  {
   "cell_type": "code",
   "execution_count": 17,
   "metadata": {},
   "outputs": [],
   "source": [
    "ex_start = c.exec_start(exec_id=ex, stream=True)"
   ]
  },
  {
   "cell_type": "markdown",
   "metadata": {},
   "source": [
    "**To retrieve output:**"
   ]
  },
  {
   "cell_type": "code",
   "execution_count": 25,
   "metadata": {},
   "outputs": [],
   "source": [
    "#for val in ex_start:\n",
    "#    print(val)"
   ]
  },
  {
   "cell_type": "markdown",
   "metadata": {},
   "source": [
    "# Example: `importlayers` for large raster"
   ]
  },
  {
   "cell_type": "markdown",
   "metadata": {},
   "source": [
    "**Reproject and compress tif**"
   ]
  },
  {
   "cell_type": "code",
   "execution_count": 1,
   "metadata": {},
   "outputs": [],
   "source": [
    "import numpy as np\n",
    "\n",
    "from pyproj import Proj\n",
    "import rasterio\n",
    "from rasterio.warp import calculate_default_transform, reproject, Resampling"
   ]
  },
  {
   "cell_type": "code",
   "execution_count": 2,
   "metadata": {},
   "outputs": [],
   "source": [
    "#direc = '/LUSTRE/MADMEX/products/landcover/sentinel2/2017/31'\n",
    "#direc = '/LUSTRE/MADMEX/products/landcover/sentinel2/2017/estados/Aguascalientes/31/'\n",
    "direc = '/LUSTRE/MADMEX/products/landcover/sentinel2/2017/estados/Hidalgo/31/'"
   ]
  },
  {
   "cell_type": "code",
   "execution_count": 3,
   "metadata": {},
   "outputs": [],
   "source": [
    "#input_filename = ''.join([direc, '/madmex_sentinel2_2017_31.tif'])\n",
    "#output_filename = ''.join([direc, '/madmex_sentinel2_2017_31_wgs84_tiled_rasterio.tif'])\n",
    "#input_filename = ''.join([direc, '/Aguascalientes_2017_31.tif'])\n",
    "#output_filename = ''.join([direc, '/Aguascalientes_2017_31_wgs84_tiled_rasterio.tif'])\n",
    "input_filename = ''.join([direc, '/Hidalgo_2017_31_wgs84.tif'])\n",
    "output_filename = ''.join([direc, '/Hidalgo_2017_31_wgs84_tiled_rasterio2.tif'])\n",
    "dst_crs = 'EPSG:4326'"
   ]
  },
  {
   "cell_type": "code",
   "execution_count": 4,
   "metadata": {},
   "outputs": [],
   "source": [
    "def wrapper_reproj_and_write(source_dataset, destiny_crs, output_filename,\n",
    "                             is_geographic = True):\n",
    "    source_meta = source_dataset.meta.copy()\n",
    "    source_transform = source_dataset.transform\n",
    "    source_width = source_dataset.width\n",
    "    source_height = source_dataset.height\n",
    "    source_crs = source_dataset.crs\n",
    "    if not is_geographic:\n",
    "        transform, width, height = calculate_default_transform(source_crs, destiny_crs, \n",
    "                                                               source_width, source_height, \n",
    "                                                               *source_dataset.bounds)\n",
    "        source_meta.update({'crs': destiny_crs,\n",
    "                           'transform': transform,\n",
    "                           'width': width,\n",
    "                           'height': height\n",
    "                            })\n",
    "    else:\n",
    "        transform, width, height = source_transform, source_width, source_height\n",
    "    \n",
    "    source_meta.update({'driver': 'GTiff',\n",
    "                        'count': 1,\n",
    "                        'dtype': rasterio.uint8,\n",
    "                        'compress': 'lzw',\n",
    "                        'tiled': True\n",
    "                        })\n",
    "    with rasterio.open(output_filename, 'w', **source_meta,\n",
    "                       ) as dst:\n",
    "        array = np.zeros((height, width), dtype=rasterio.uint8)\n",
    "        reproject(source=rasterio.band(source_dataset, 1),\n",
    "                  #destination=rasterio.band(dst, 1),\n",
    "                  destination=array,\n",
    "                  src_transform=source_transform,\n",
    "                  src_crs=source_crs,\n",
    "                  dst_transform=transform,\n",
    "                  dst_crs=dst_crs,\n",
    "                  resampling=Resampling.nearest\n",
    "                  )\n",
    "        \n",
    "        dst.write(array, 1)\n",
    "        \n",
    "\n",
    "    "
   ]
  },
  {
   "cell_type": "code",
   "execution_count": 5,
   "metadata": {},
   "outputs": [],
   "source": [
    "with rasterio.open(input_filename) as src:\n",
    "    src_crs = src.crs.to_string()\n",
    "    proj_crs = Proj(src_crs)\n",
    "    if not proj_crs.crs.is_geographic:\n",
    "        wrapper_reproj_and_write(src, dst_crs, output_filename,\n",
    "                                 is_geographic=False)\n",
    "    else:\n",
    "        wrapper_reproj_and_write(src, dst_crs, output_filename)"
   ]
  },
  {
   "cell_type": "code",
   "execution_count": null,
   "metadata": {},
   "outputs": [],
   "source": []
  },
  {
   "cell_type": "code",
   "execution_count": null,
   "metadata": {},
   "outputs": [],
   "source": []
  },
  {
   "cell_type": "code",
   "execution_count": 19,
   "metadata": {},
   "outputs": [],
   "source": [
    "cmd = 'python manage.py importlayers ' + \\\n",
    "      '-v 3 -i -o -n ' + \\\n",
    "      'madmex_sentinel2_2017_31_tiled ' + \\\n",
    "      '-t ' + 'madmex_sentinel2_2017_31_tiled ' + \\\n",
    "      '-a \"Sentinel2 MAD-Mex lc\" ' + \\\n",
    "      '-k \"MAD-Mex, Sentinel2, GeoTIFF, WCS\" ' + \\\n",
    "      '-r \"Mexico, North America, Latin America\" ' + \\\n",
    "      '/LUSTRE/MADMEX/products/landcover/sentinel2/2017/31/madmex_sentinel2_2017_31_wgs84_tiled.tif ' + \\\n",
    "      '--settings=geonode.local_settings'"
   ]
  },
  {
   "cell_type": "code",
   "execution_count": 20,
   "metadata": {},
   "outputs": [
    {
     "data": {
      "text/plain": [
       "'python manage.py importlayers -v 3 -i -o -n madmex_sentinel2_2017_31_tiled -t madmex_sentinel2_2017_31_tiled -a \"Sentinel2 MAD-Mex lc\" -k \"MAD-Mex, Sentinel2, GeoTIFF, WCS\" -r \"Mexico, North America, Latin America\" /LUSTRE/MADMEX/products/landcover/sentinel2/2017/31/madmex_sentinel2_2017_31_wgs84_tiled.tif --settings=geonode.local_settings'"
      ]
     },
     "execution_count": 20,
     "metadata": {},
     "output_type": "execute_result"
    }
   ],
   "source": [
    "cmd"
   ]
  },
  {
   "cell_type": "code",
   "execution_count": 21,
   "metadata": {},
   "outputs": [],
   "source": [
    "ex = c.exec_create(container = 'spcgeonode_django_1', \n",
    "                   cmd = cmd)"
   ]
  },
  {
   "cell_type": "code",
   "execution_count": 22,
   "metadata": {},
   "outputs": [],
   "source": [
    "ex_start = c.exec_start(exec_id=ex, stream=True)"
   ]
  },
  {
   "cell_type": "markdown",
   "metadata": {},
   "source": [
    "**To retrieve output:**"
   ]
  },
  {
   "cell_type": "code",
   "execution_count": 24,
   "metadata": {},
   "outputs": [],
   "source": [
    "#for val in ex_start:\n",
    "#    print(val)"
   ]
  },
  {
   "cell_type": "markdown",
   "metadata": {},
   "source": [
    "## Small to Medium size vectors"
   ]
  },
  {
   "cell_type": "code",
   "execution_count": 1,
   "metadata": {},
   "outputs": [],
   "source": [
    "import geopandas as gpd"
   ]
  },
  {
   "cell_type": "markdown",
   "metadata": {},
   "source": [
    "## Landsat"
   ]
  },
  {
   "cell_type": "code",
   "execution_count": 2,
   "metadata": {},
   "outputs": [],
   "source": [
    "direc = '/datos/products/landcoverchange/sentinel2/2017_2018/indi50k/estados/AGUASCALIENTES'"
   ]
  },
  {
   "cell_type": "code",
   "execution_count": 6,
   "metadata": {},
   "outputs": [],
   "source": [
    "input_file = direc + '/AGUASCALIENTES_merge.shp'\n",
    "out_filename = direc + '/AGUASCALIENTES_merge_wgs84_using_fiona.shp'\n",
    "layer = 'AGUASCALIENTES_merge_wgs84_using_fiona'"
   ]
  },
  {
   "cell_type": "code",
   "execution_count": 7,
   "metadata": {},
   "outputs": [],
   "source": [
    "gdf = gpd.read_file(input_file)"
   ]
  },
  {
   "cell_type": "code",
   "execution_count": null,
   "metadata": {},
   "outputs": [],
   "source": [
    "crs_src = gdf.crs"
   ]
  },
  {
   "cell_type": "code",
   "execution_count": null,
   "metadata": {},
   "outputs": [],
   "source": [
    "crs_dst = \"EPSG:4326\""
   ]
  },
  {
   "cell_type": "code",
   "execution_count": null,
   "metadata": {},
   "outputs": [],
   "source": [
    "gdf_reproj = gpd.to_crs(crs_dst)"
   ]
  }
 ],
 "metadata": {
  "kernelspec": {
   "display_name": "Python 3",
   "language": "python",
   "name": "python3"
  },
  "language_info": {
   "codemirror_mode": {
    "name": "ipython",
    "version": 3
   },
   "file_extension": ".py",
   "mimetype": "text/x-python",
   "name": "python",
   "nbconvert_exporter": "python",
   "pygments_lexer": "ipython3",
   "version": "3.6.9"
  }
 },
 "nbformat": 4,
 "nbformat_minor": 4
}
