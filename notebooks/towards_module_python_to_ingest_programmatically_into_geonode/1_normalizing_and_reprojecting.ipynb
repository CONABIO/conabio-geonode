{
 "cells": [
  {
   "cell_type": "markdown",
   "metadata": {},
   "source": [
    "# 1) Large size vectors: lcc MAD-Mex"
   ]
  },
  {
   "cell_type": "markdown",
   "metadata": {},
   "source": [
    "## a) Normalize, reproject to wgs84"
   ]
  },
  {
   "cell_type": "code",
   "execution_count": 1,
   "metadata": {},
   "outputs": [],
   "source": [
    "import os"
   ]
  },
  {
   "cell_type": "code",
   "execution_count": 2,
   "metadata": {},
   "outputs": [],
   "source": [
    "cur_directory = os.getcwd()"
   ]
  },
  {
   "cell_type": "code",
   "execution_count": 3,
   "metadata": {},
   "outputs": [],
   "source": [
    "dir_alg_python = '/LUSTRE/MADMEX/tasks/2020/6_geonode/geonode-issue-3/python3_package_for_geonode/geonode_conabio'"
   ]
  },
  {
   "cell_type": "code",
   "execution_count": 4,
   "metadata": {},
   "outputs": [],
   "source": [
    "os.chdir(dir_alg_python)"
   ]
  },
  {
   "cell_type": "code",
   "execution_count": 5,
   "metadata": {},
   "outputs": [],
   "source": [
    "import fiona\n",
    "from pyproj import Proj\n",
    "from fiona.crs import to_string\n",
    "\n",
    "from wrappers import reproj_normalize_and_write_large_vector\n"
   ]
  },
  {
   "cell_type": "code",
   "execution_count": 7,
   "metadata": {},
   "outputs": [],
   "source": [
    "#direc = \"/LUSTRE/MADMEX/products/landcoverchange/landsat/mosaics/2017_2018\"\n",
    "direc = \"/LUSTRE/MADMEX/products/landcoverchange/sentinel2/2017_2018/indi50k/estados/HIDALGO/\""
   ]
  },
  {
   "cell_type": "code",
   "execution_count": 8,
   "metadata": {},
   "outputs": [],
   "source": [
    "#input_filename = direc + \"/madmex_landsat_changes_2017-2018.shp\"\n",
    "#output_filename = direc + \"/madmex_landsat_changes_2017-2018_wgs84_using_fiona.shp\"\n",
    "#layer = \"madmex_landsat_changes_2017-2018_wgs84_using_fiona\"\n",
    "input_filename = direc + \"HIDALGO_merge.shp\"\n",
    "output_filename = direc + \"HIDALGO_merge_wgs84_using_fiona.shp\"\n",
    "layer = \"HIDALGO_merge_wgs84_using_fiona\"\n",
    "#dst_crs = \"4326\"\n",
    "name_attribute1 = \"t1_dsc_31\"\n",
    "name_attribute2 = \"t2_dsc_31\"\n",
    "name_attribute3 = \"t1_dsc_17\"\n",
    "name_attribute4 = \"t2_dsc_17\"\n",
    "name_attribute5 = \"cmb_dsc_31\"\n",
    "name_attribute6 = \"cmb_dsc_17\""
   ]
  },
  {
   "cell_type": "code",
   "execution_count": 9,
   "metadata": {},
   "outputs": [],
   "source": [
    "list_name_attributes = [name_attribute1, name_attribute2,\n",
    "                        name_attribute3, name_attribute4,\n",
    "                        name_attribute5, name_attribute6]"
   ]
  },
  {
   "cell_type": "markdown",
   "metadata": {},
   "source": [
    "**Read and call wrapper**"
   ]
  },
  {
   "cell_type": "code",
   "execution_count": 13,
   "metadata": {},
   "outputs": [],
   "source": [
    "with fiona.open(input_filename) as src:\n",
    "    fc = (feature for feature in src if not None in [feature['properties'][att] for att in list_name_attributes] and\n",
    "                                                     feature['geometry'] is not None)\n",
    "    src_crs = to_string(src.crs)\n",
    "    proj_src_crs = Proj(src_crs)\n",
    "    fc_schema = src.schema\n",
    "    if not proj_src_crs.crs.is_geographic:\n",
    "        reproj_normalize_and_write_large_vector(fc, fc_schema,\n",
    "                                                list_name_attributes,\n",
    "                                                layer,\n",
    "                                                output_filename,\n",
    "                                                src_crs, \n",
    "                                                is_geographic = False\n",
    "                                                )\n",
    "    else:\n",
    "        reproj_normalize_and_write_large_vector(fc, fc_schema, \n",
    "                                                list_name_attributes,\n",
    "                                                layer,\n",
    "                                                output_filename,\n",
    "                                                src_crs\n",
    "                                                )\n",
    "        "
   ]
  },
  {
   "cell_type": "markdown",
   "metadata": {},
   "source": [
    "## b) Register large vector layer in geonode via `shp2pgsql` and `updatelayers`"
   ]
  },
  {
   "cell_type": "markdown",
   "metadata": {},
   "source": [
    "**Make sure stack deployment of geonode is up and running**"
   ]
  },
  {
   "cell_type": "markdown",
   "metadata": {},
   "source": [
    "**1) Create `~/.pgpass` with contents: `hostname:port:database:username:password` and `chmod 0600 ~/.pgpass`**"
   ]
  },
  {
   "cell_type": "code",
   "execution_count": 9,
   "metadata": {},
   "outputs": [],
   "source": [
    "from utils_cli import create_table_via_shp2pgsql"
   ]
  },
  {
   "cell_type": "code",
   "execution_count": 10,
   "metadata": {},
   "outputs": [],
   "source": [
    "#next need to be in lowercase\n",
    "name_table = \"hidalgo_madmex_lcc_2017_2018_fiona\" #madmex_landsat_2017-2018_lcc\n"
   ]
  },
  {
   "cell_type": "code",
   "execution_count": 24,
   "metadata": {},
   "outputs": [
    {
     "name": "stdout",
     "output_type": "stream",
     "text": [
      "hidalgo_madmex_lcc_2017_2018_fiona\n",
      "after wait\n"
     ]
    }
   ],
   "source": [
    "[result_create_table, name_table, out, err] = create_table_via_shp2pgsql(output_filename, name_table)"
   ]
  },
  {
   "cell_type": "code",
   "execution_count": 25,
   "metadata": {},
   "outputs": [
    {
     "name": "stdout",
     "output_type": "stream",
     "text": [
      "(0, None, b'')\n"
     ]
    }
   ],
   "source": [
    "print((result_create_table, out, err))"
   ]
  },
  {
   "cell_type": "markdown",
   "metadata": {},
   "source": [
    "**2) Add to geoserver from geonode_data database**. Need to follow: https://training.geonode.geo-solutions.it/004_admin_workshop/007_loading_data_into_geonode/geoserver.html"
   ]
  },
  {
   "cell_type": "markdown",
   "metadata": {},
   "source": [
    "**3) Update layers using docker container `spcgeonode_django_1`**"
   ]
  },
  {
   "cell_type": "code",
   "execution_count": 11,
   "metadata": {},
   "outputs": [],
   "source": [
    "from utils_docker import update_layers_via_docker"
   ]
  },
  {
   "cell_type": "code",
   "execution_count": 12,
   "metadata": {},
   "outputs": [],
   "source": [
    "result_update = update_layers_via_docker(name_table)"
   ]
  },
  {
   "cell_type": "code",
   "execution_count": 14,
   "metadata": {},
   "outputs": [],
   "source": [
    "#print(result_update)"
   ]
  },
  {
   "cell_type": "markdown",
   "metadata": {},
   "source": [
    "**4) Make sure you are able to download it and see thumbnail. If not click to button refresh attributes and statistics for the layer in geonode. For thumbnail increase nginx conf proxy_read_timeout parameter.**"
   ]
  },
  {
   "cell_type": "markdown",
   "metadata": {},
   "source": [
    "# 2) Small, medium or large size raster: lc MAD-Mex"
   ]
  },
  {
   "cell_type": "markdown",
   "metadata": {},
   "source": [
    "## a) Reproject to wgs84, compress and tile it"
   ]
  },
  {
   "cell_type": "markdown",
   "metadata": {},
   "source": [
    "Based on: \n",
    "\n",
    "https://rasterio.readthedocs.io/en/latest/topics/reproject.html\n",
    "\n",
    "https://rasterio.readthedocs.io/en/latest/topics/image_options.html"
   ]
  },
  {
   "cell_type": "code",
   "execution_count": 5,
   "metadata": {},
   "outputs": [],
   "source": [
    "from pyproj import Proj\n",
    "import rasterio\n",
    "\n",
    "from wrappers import reproj_and_write_one_band_raster"
   ]
  },
  {
   "cell_type": "code",
   "execution_count": 7,
   "metadata": {},
   "outputs": [],
   "source": [
    "#direc = '/LUSTRE/MADMEX/products/landcover/sentinel2/2017/31'\n",
    "#direc = '/LUSTRE/MADMEX/products/landcover/sentinel2/2017/estados/Aguascalientes/31/'\n",
    "direc = '/LUSTRE/MADMEX/products/landcover/sentinel2/2017/estados/Hidalgo/31/'"
   ]
  },
  {
   "cell_type": "code",
   "execution_count": 8,
   "metadata": {},
   "outputs": [],
   "source": [
    "#input_filename = ''.join([direc, '/madmex_sentinel2_2017_31.tif'])\n",
    "#output_filename = ''.join([direc, '/madmex_sentinel2_2017_31_wgs84_tiled_rasterio.tif'])\n",
    "#input_filename = ''.join([direc, '/Aguascalientes_2017_31.tif'])\n",
    "#output_filename = ''.join([direc, '/Aguascalientes_2017_31_wgs84_tiled_rasterio.tif'])\n",
    "input_filename = ''.join([direc, '/Hidalgo_2017_31.tif'])\n",
    "output_filename = ''.join([direc, '/Hidalgo_2017_31_wgs84_tiled_rasterio.tif'])\n",
    "#dst_crs = 'EPSG:4326'"
   ]
  },
  {
   "cell_type": "code",
   "execution_count": 10,
   "metadata": {},
   "outputs": [],
   "source": [
    "with rasterio.open(input_filename) as src:\n",
    "    src_crs = src.crs.to_string()\n",
    "    proj_crs = Proj(src_crs)\n",
    "    if not proj_crs.crs.is_geographic:\n",
    "        reproj_and_write_one_band_raster(src, output_filename,\n",
    "                                         is_geographic=False)\n",
    "    else:\n",
    "        reproj_and_write_one_band_raster(src, output_filename)"
   ]
  },
  {
   "cell_type": "markdown",
   "metadata": {},
   "source": [
    "## b) Register small, medium or large raster layer in geonode via `importlayers`"
   ]
  },
  {
   "cell_type": "markdown",
   "metadata": {},
   "source": [
    "**1) Importlayers cmd**"
   ]
  },
  {
   "cell_type": "code",
   "execution_count": 9,
   "metadata": {},
   "outputs": [],
   "source": [
    "region = \"\".join([\"\\\"Hidalgo, Mexico, North America, Latin America\\\"\"])\n",
    "name = \"\\\"sentinel2_Hidalgo_2017_31_tiled\\\"\"\n",
    "title = \"\\\"sentinel2_Hidalgo_2017_31_tiled\\\"\"\n",
    "abstract = \"\\\"Sentinel2 MAD-Mex land cover classification\\\"\"\n",
    "kw = \"\\\"MAD-Mex, Sentinel2, GeoTIFF, WCS\\\"\"\n"
   ]
  },
  {
   "cell_type": "code",
   "execution_count": 10,
   "metadata": {},
   "outputs": [],
   "source": [
    "from utils_docker import import_layers_via_docker"
   ]
  },
  {
   "cell_type": "code",
   "execution_count": 12,
   "metadata": {},
   "outputs": [],
   "source": [
    "result_import = import_layers_via_docker(region, name, title,\n",
    "                                         abstract, kw,\n",
    "                                         output_filename\n",
    "                                         )"
   ]
  },
  {
   "cell_type": "code",
   "execution_count": 14,
   "metadata": {},
   "outputs": [],
   "source": [
    "#print(result_import)"
   ]
  },
  {
   "cell_type": "markdown",
   "metadata": {},
   "source": [
    "**2) Make sure you are able to download it and see thumbnail. If not click to button refresh attributes and statistics for the layer in geonode. For thumbnail increase nginx conf proxy_read_timeout parameter.**"
   ]
  },
  {
   "cell_type": "markdown",
   "metadata": {},
   "source": [
    "# 3) Small to Medium size vectors: lcc MAD-Mex\n"
   ]
  },
  {
   "cell_type": "markdown",
   "metadata": {},
   "source": [
    "## a) Normalize, reproject to wgs84"
   ]
  },
  {
   "cell_type": "code",
   "execution_count": 5,
   "metadata": {},
   "outputs": [],
   "source": [
    "import geopandas as gpd\n",
    "from pyproj import Proj\n",
    "\n",
    "from wrappers import reproj_normalize_and_write_small_medium_size_vector"
   ]
  },
  {
   "cell_type": "code",
   "execution_count": 7,
   "metadata": {},
   "outputs": [],
   "source": [
    "direc = '/LUSTRE/MADMEX/products/landcoverchange/sentinel2/2017_2018/indi50k/estados/AGUASCALIENTES'"
   ]
  },
  {
   "cell_type": "code",
   "execution_count": 8,
   "metadata": {},
   "outputs": [],
   "source": [
    "input_file = direc + '/AGUASCALIENTES_merge.shp'\n",
    "output_filename = direc + '/AGUASCALIENTES_merge_wgs84_using_geopandas.shp'\n",
    "layer = 'AGUASCALIENTES_merge_wgs84_using_geopandas'"
   ]
  },
  {
   "cell_type": "code",
   "execution_count": 9,
   "metadata": {},
   "outputs": [],
   "source": [
    "name_attribute1 = \"t1_dsc_31\"\n",
    "name_attribute2 = \"t2_dsc_31\"\n",
    "name_attribute3 = \"t1_dsc_17\"\n",
    "name_attribute4 = \"t2_dsc_17\"\n",
    "name_attribute5 = \"cmb_dsc_31\"\n",
    "name_attribute6 = \"cmb_dsc_17\""
   ]
  },
  {
   "cell_type": "code",
   "execution_count": 10,
   "metadata": {},
   "outputs": [],
   "source": [
    "list_name_attributes = [name_attribute1, name_attribute2,\n",
    "                        name_attribute3, name_attribute4,\n",
    "                        name_attribute5, name_attribute6]"
   ]
  },
  {
   "cell_type": "markdown",
   "metadata": {},
   "source": [
    "**Read and call wrapper**"
   ]
  },
  {
   "cell_type": "code",
   "execution_count": 13,
   "metadata": {},
   "outputs": [],
   "source": [
    "gdf = gpd.read_file(input_file)\n",
    "#dropNA's\n",
    "gdf.dropna(subset=list_name_attributes, inplace=True)\n"
   ]
  },
  {
   "cell_type": "code",
   "execution_count": 14,
   "metadata": {},
   "outputs": [],
   "source": [
    "#check geographic proj\n",
    "crs_src = gdf.crs\n",
    "src_crs = crs_src.to_string()\n",
    "proj_src_crs = Proj(src_crs)\n",
    "if not proj_src_crs.crs.is_geographic:\n",
    "    reproj_normalize_and_write_small_medium_size_vector(gdf, \n",
    "                                                        list_name_attributes,\n",
    "                                                        layer, output_filename,\n",
    "                                                        is_geographic=False)\n",
    "else:\n",
    "    reproj_normalize_and_write_small_medium_size_vector(gdf, \n",
    "                                                        list_name_attributes,\n",
    "                                                        layer, output_filename)"
   ]
  },
  {
   "cell_type": "markdown",
   "metadata": {},
   "source": [
    "## b) Register vector layer in geonode via `importlayers`"
   ]
  },
  {
   "cell_type": "markdown",
   "metadata": {},
   "source": [
    "**1) Importlayers cmd**"
   ]
  },
  {
   "cell_type": "code",
   "execution_count": 15,
   "metadata": {},
   "outputs": [],
   "source": [
    "region = \"\".join([\"\\\"Aguascalientes, Mexico, North America, Latin America\\\"\"])\n",
    "name = \"\\\"madmex_sentinel2_aguascalientes_2017_2018_lcc_2\\\"\"\n",
    "title = \"\\\"madmex_sentinel2_aguascalientes_2017_2018_lcc_2\\\"\"\n",
    "abstract = \"\\\"Sentinel2 MAD-Mex land cover change\\\"\"\n",
    "kw = \"\\\"MAD-Mex, Sentinel2, GeoTIFF, WCS\\\"\"\n"
   ]
  },
  {
   "cell_type": "code",
   "execution_count": 16,
   "metadata": {},
   "outputs": [],
   "source": [
    "from utils_docker import import_layers_via_docker"
   ]
  },
  {
   "cell_type": "code",
   "execution_count": 17,
   "metadata": {},
   "outputs": [],
   "source": [
    "result_import = import_layers_via_docker(region, name, title,\n",
    "                                         abstract, kw,\n",
    "                                         output_filename\n",
    "                                         )"
   ]
  },
  {
   "cell_type": "code",
   "execution_count": 19,
   "metadata": {},
   "outputs": [],
   "source": [
    "#print(result_import)"
   ]
  },
  {
   "cell_type": "markdown",
   "metadata": {},
   "source": [
    "**2) Make sure you are able to download it and see thumbnail. If not click to button refresh attributes and statistics for the layer in geonode. For thumbnail increase nginx conf proxy_read_timeout parameter.**"
   ]
  },
  {
   "cell_type": "markdown",
   "metadata": {},
   "source": [
    "# Towards python3 package"
   ]
  },
  {
   "cell_type": "markdown",
   "metadata": {},
   "source": [
    "Following\n",
    "\n",
    "https://python-packaging.readthedocs.io/en/latest/minimal.html"
   ]
  }
 ],
 "metadata": {
  "kernelspec": {
   "display_name": "Python 3",
   "language": "python",
   "name": "python3"
  },
  "language_info": {
   "codemirror_mode": {
    "name": "ipython",
    "version": 3
   },
   "file_extension": ".py",
   "mimetype": "text/x-python",
   "name": "python",
   "nbconvert_exporter": "python",
   "pygments_lexer": "ipython3",
   "version": "3.6.9"
  }
 },
 "nbformat": 4,
 "nbformat_minor": 4
}
