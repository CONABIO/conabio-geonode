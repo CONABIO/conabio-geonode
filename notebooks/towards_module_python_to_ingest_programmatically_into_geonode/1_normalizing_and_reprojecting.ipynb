{
 "cells": [
  {
   "cell_type": "markdown",
   "metadata": {},
   "source": [
    "Run docker container as:"
   ]
  },
  {
   "cell_type": "markdown",
   "metadata": {},
   "source": [
    "```\n",
    "chmod o+wrx /var/run/docker.sock\n",
    "\n",
    "JUPYTERLAB_VERSION=1.1.0\n",
    "REPO_URL=palmoreck/jupyterlab_geopython_for_conabio_cluster\n",
    "\n",
    "docker run -dit -e LOCAL_USER_ID=$(id -u epalacios) --rm -v /var/run/docker.sock:/var/run/docker.sock -v /LUSTRE/MADMEX/:/LUSTRE/MADMEX --name jupyterlab_geopython -p 8888:8888 -d $REPO_URL:$JUPYTERLAB_VERSION bash\n",
    "\n",
    "\n",
    "docker exec -u=geonode_user -d jupyterlab_geopython bash -c \"/usr/local/bin/jupyter lab --ip=0.0.0.0 --no-browser\"\n",
    "```\n"
   ]
  },
  {
   "cell_type": "markdown",
   "metadata": {},
   "source": [
    "# Large size Vectors"
   ]
  },
  {
   "cell_type": "code",
   "execution_count": 1,
   "metadata": {},
   "outputs": [],
   "source": [
    "import unicodedata\n",
    "\n",
    "\n",
    "from pyproj import Proj\n",
    "\n",
    "import fiona\n",
    "from fiona.crs import to_string\n",
    "from rasterio.warp import transform_geom\n",
    "from rasterio.crs import CRS as CRS_rio"
   ]
  },
  {
   "cell_type": "code",
   "execution_count": 2,
   "metadata": {},
   "outputs": [],
   "source": [
    "direc = '/datos/products/landcoverchange/landsat/mosaics/2017_2018'"
   ]
  },
  {
   "cell_type": "code",
   "execution_count": 3,
   "metadata": {},
   "outputs": [],
   "source": [
    "input_file = direc + '/madmex_landsat_changes_2017-2018.shp'\n",
    "out_filename = direc + '/madmex_landsat_changes_2017-2018_wgs84_using_fiona.shp'\n",
    "layer = 'madmex_landsat_changes_2017-2018_wgs84_using_fiona'\n",
    "\n",
    "dst_crs = '4326'\n",
    "name_attribute1='t1_dsc_31'\n",
    "name_attribute2='t2_dsc_31'\n",
    "name_attribute3='t1_dsc_17'\n",
    "name_attribute4='t2_dsc_17'\n",
    "name_attribute5='cmb_dsc_31'\n",
    "name_attribute6='cmb_dsc_17'"
   ]
  },
  {
   "cell_type": "code",
   "execution_count": 4,
   "metadata": {},
   "outputs": [],
   "source": [
    "list_name_attributes = [name_attribute1, name_attribute2,\n",
    "                        name_attribute3, name_attribute4,\n",
    "                        name_attribute5, name_attribute6]"
   ]
  },
  {
   "cell_type": "code",
   "execution_count": 5,
   "metadata": {},
   "outputs": [],
   "source": [
    "def reproj_geom(geom, source_crs, destiny_crs):\n",
    "    return transform_geom(CRS_rio.from_proj4(source_crs), CRS_rio.from_epsg(destiny_crs),\n",
    "                          geom)"
   ]
  },
  {
   "cell_type": "code",
   "execution_count": 6,
   "metadata": {},
   "outputs": [],
   "source": [
    "def normalize_name_classes(string):\n",
    "    return unicodedata.normalize('NFKD', string).encode('ASCII','ignore').decode('utf-8')"
   ]
  },
  {
   "cell_type": "code",
   "execution_count": 7,
   "metadata": {},
   "outputs": [],
   "source": [
    "def wrapper_reproj_and_normalize_vector(feature_collection, source_crs, destiny_crs):\n",
    "    dst = fiona.open(out_filename, 'w',\n",
    "                     driver = 'ESRI Shapefile',\n",
    "                     layer = layer,\n",
    "                     crs = CRS_rio.from_epsg(dst_crs).to_proj4(),\n",
    "                     schema = fc_schema)\n",
    "    dst.close()\n",
    "    with fiona.open(out_filename, 'a',\n",
    "                    driver = 'ESRI Shapefile',\n",
    "                    layer = layer,\n",
    "                    crs = CRS_rio.from_epsg(destiny_crs).to_proj4(),\n",
    "                    schema = fc_schema) as dst:\n",
    "        for feature in feature_collection:\n",
    "            feature['geometry'] = reproj_geom(feature['geometry'],\n",
    "                                              source_crs,\n",
    "                                              destiny_crs)\n",
    "            feature['properties'][name_attribute1] = normalize_name_classes(feature['properties'][name_attribute1])\n",
    "            feature['properties'][name_attribute2] = normalize_name_classes(feature['properties'][name_attribute2])\n",
    "            feature['properties'][name_attribute3] = normalize_name_classes(feature['properties'][name_attribute3])\n",
    "            feature['properties'][name_attribute4] = normalize_name_classes(feature['properties'][name_attribute4])\n",
    "            feature['properties'][name_attribute5] = normalize_name_classes(feature['properties'][name_attribute5])\n",
    "            feature['properties'][name_attribute6] = normalize_name_classes(feature['properties'][name_attribute6])\n",
    "            dst.write(feature)"
   ]
  },
  {
   "cell_type": "code",
   "execution_count": null,
   "metadata": {},
   "outputs": [],
   "source": [
    "with fiona.open(input_file) as src:\n",
    "    #fc=[k for k in src]\n",
    "    fc = (feature for feature in src if feature['properties'][name_attribute1] is not None and\n",
    "                                        feature['properties'][name_attribute2] is not None and\n",
    "                                        feature['properties'][name_attribute3] is not None and\n",
    "                                        feature['properties'][name_attribute4] is not None and\n",
    "                                        feature['properties'][name_attribute5] is not None and\n",
    "                                        feature['properties'][name_attribute6] is not None\n",
    "         )\n",
    "    src_crs = to_string(src.crs)\n",
    "    proj_crs = Proj(src_crs)\n",
    "    fc_schema = src.schema\n",
    "    if not proj_crs.crs.is_geographic:\n",
    "        wrapper_reproj_and_normalize_vector(fc, src_crs, dst_crs)\n",
    "    else:\n",
    "        wrapper_normalize_vector(fc, src_crs, dst_crs)\n",
    "        "
   ]
  },
  {
   "cell_type": "markdown",
   "metadata": {},
   "source": [
    "# Insert in geonode"
   ]
  },
  {
   "cell_type": "markdown",
   "metadata": {},
   "source": [
    "**Make sure stack deployment of geonode is up and running**"
   ]
  },
  {
   "cell_type": "code",
   "execution_count": null,
   "metadata": {},
   "outputs": [],
   "source": [
    "%%bash\n",
    "sudo apt install -yq postgis postgresql-10-postgis-scripts"
   ]
  },
  {
   "cell_type": "markdown",
   "metadata": {},
   "source": [
    "**1) Create `~/.pgpass` with contents: `hostname:port:database:username:password` and `chmod 0600 ~/.pass`**"
   ]
  },
  {
   "cell_type": "code",
   "execution_count": null,
   "metadata": {},
   "outputs": [],
   "source": [
    "%%bash\n",
    "shp2pgsql /datos/products/landcoverchange/landsat/mosaics/2017_2018/madmex_landsat_changes_2017-2018_wgs84_using_fiona.shp madmex_landsat_2017-2018_lcc public.madmex_landsat_changes_2017-2018_wgs84.shp | psql -q -h geonode.conabio.gob.mx -d geonode_data -U geonode"
   ]
  },
  {
   "cell_type": "markdown",
   "metadata": {},
   "source": [
    "**2) Add to geoserver from geonode_data database**"
   ]
  },
  {
   "cell_type": "markdown",
   "metadata": {},
   "source": [
    "**3) Update layers inside docker container**"
   ]
  },
  {
   "cell_type": "markdown",
   "metadata": {},
   "source": [
    "**Create id_rsa.pub with `ssh-keygen` and add it to `/home/epalacios/.ssh/authorized_keys`**"
   ]
  },
  {
   "cell_type": "code",
   "execution_count": null,
   "metadata": {},
   "outputs": [],
   "source": [
    "%%bash\n",
    "#next are not working:\n",
    "ssh epalacios@172.17.0.1 docker exec spcgeonode_django_1 /bin/bash -c \"DJANGO_SETTINGS_MODULE=geonode.local_settings python manage.py updatelayers -s geonode_data -w geonode -f madmex_sentinel2_chihuahua_2017_2018_lcc\"\n",
    "ssh epalacios@172.17.0.1 docker exec -e file=madmex_landsat_2017-2018_lcc spcgeonode_django_1 /bin/bash -c \"bash /spcgeonode/script_updatelayers.sh $file\""
   ]
  },
  {
   "cell_type": "markdown",
   "metadata": {},
   "source": [
    "```\n",
    "pip3 install docker\n",
    "```"
   ]
  },
  {
   "cell_type": "code",
   "execution_count": 1,
   "metadata": {},
   "outputs": [],
   "source": [
    "from docker import APIClient"
   ]
  },
  {
   "cell_type": "code",
   "execution_count": 2,
   "metadata": {},
   "outputs": [],
   "source": [
    "c = APIClient(base_url='unix://var/run/docker.sock')"
   ]
  },
  {
   "cell_type": "code",
   "execution_count": 3,
   "metadata": {},
   "outputs": [
    {
     "data": {
      "text/plain": [
       "<docker.api.client.APIClient at 0x7efc4c7f7710>"
      ]
     },
     "execution_count": 3,
     "metadata": {},
     "output_type": "execute_result"
    }
   ],
   "source": [
    "c"
   ]
  },
  {
   "cell_type": "code",
   "execution_count": 100,
   "metadata": {},
   "outputs": [],
   "source": [
    "#c.info()"
   ]
  },
  {
   "cell_type": "code",
   "execution_count": 93,
   "metadata": {},
   "outputs": [],
   "source": [
    "cmd = 'python manage.py importlayers ' + \\\n",
    "      '-v 3 -i -o -n madmex_sentinel2_2017_31_tiled -t madmex_sentinel2_2017_31_tiled ' + \\\n",
    "      '-a \"Sentinel2 MAD-Mex lc\" ' + \\\n",
    "      '-k \"MAD-Mex, Sentinel2, GeoTIFF, WCS\" ' + \\\n",
    "      '-r \"Mexico, North America, Latin America\" ' + \\\n",
    "      '/LUSTRE/MADMEX/products/landcover/sentinel2/2017/31/madmex_sentinel2_2017_31_wgs84_tiled.tif ' + \\\n",
    "      '--settings=geonode.local_settings'"
   ]
  },
  {
   "cell_type": "code",
   "execution_count": 94,
   "metadata": {},
   "outputs": [
    {
     "data": {
      "text/plain": [
       "'python manage.py importlayers -v 3 -i -o -n madmex_sentinel2_2017_31_tiled -t madmex_sentinel2_2017_31_tiled -a \"Sentinel2 MAD-Mex lc\" -k \"MAD-Mex, Sentinel2, GeoTIFF, WCS\" /LUSTRE/MADMEX/products/landcover/sentinel2/2017/31/madmex_sentinel2_2017_31_wgs84_tiled.tif --settings=geonode.local_settings'"
      ]
     },
     "execution_count": 94,
     "metadata": {},
     "output_type": "execute_result"
    }
   ],
   "source": [
    "cmd"
   ]
  },
  {
   "cell_type": "code",
   "execution_count": 95,
   "metadata": {},
   "outputs": [],
   "source": [
    "ex = c.exec_create(container = 'spcgeonode_django_1', \n",
    "                   cmd = cmd)"
   ]
  },
  {
   "cell_type": "code",
   "execution_count": 96,
   "metadata": {},
   "outputs": [],
   "source": [
    "ex_start = c.exec_start(exec_id=ex, stream=True)"
   ]
  },
  {
   "cell_type": "code",
   "execution_count": 99,
   "metadata": {},
   "outputs": [],
   "source": [
    "#for val in ex_start:\n",
    "#    print(val)"
   ]
  },
  {
   "cell_type": "code",
   "execution_count": 43,
   "metadata": {},
   "outputs": [],
   "source": [
    "ex = c.exec_create(container = 'spcgeonode_django_1', \n",
    "                   cmd = 'bash /spcgeonode/script_updatelayers.sh ' + 'madmex_landsat_2017-2018_lcc')"
   ]
  },
  {
   "cell_type": "code",
   "execution_count": null,
   "metadata": {},
   "outputs": [],
   "source": [
    "#alternative:\n",
    "#cmd = 'python manage.py updatelayers -s geonode_data -w geonode -f ' + \\\n",
    "#      'madmex_landsat_2017-2018_lcc'\n",
    "#ex = c.exec_create(container = 'spcgeonode_django_1', \n",
    "#                   cmd = cmd)"
   ]
  },
  {
   "cell_type": "code",
   "execution_count": 44,
   "metadata": {},
   "outputs": [],
   "source": [
    "ex_start = c.exec_start(exec_id=ex, stream=True)"
   ]
  },
  {
   "cell_type": "code",
   "execution_count": 98,
   "metadata": {},
   "outputs": [],
   "source": [
    "#for val in ex_start:\n",
    "#    print(val)"
   ]
  },
  {
   "cell_type": "code",
   "execution_count": null,
   "metadata": {},
   "outputs": [],
   "source": []
  },
  {
   "cell_type": "markdown",
   "metadata": {},
   "source": [
    "## Small to Medium size vectors"
   ]
  },
  {
   "cell_type": "code",
   "execution_count": 1,
   "metadata": {},
   "outputs": [],
   "source": [
    "import geopandas as gpd"
   ]
  },
  {
   "cell_type": "markdown",
   "metadata": {},
   "source": [
    "## Landsat"
   ]
  },
  {
   "cell_type": "code",
   "execution_count": 2,
   "metadata": {},
   "outputs": [],
   "source": [
    "direc = '/datos/products/landcoverchange/sentinel2/2017_2018/indi50k/estados/AGUASCALIENTES'"
   ]
  },
  {
   "cell_type": "code",
   "execution_count": 6,
   "metadata": {},
   "outputs": [],
   "source": [
    "input_file = direc + '/AGUASCALIENTES_merge.shp'\n",
    "out_filename = direc + '/AGUASCALIENTES_merge_wgs84_using_fiona.shp'\n",
    "layer = 'AGUASCALIENTES_merge_wgs84_using_fiona'"
   ]
  },
  {
   "cell_type": "code",
   "execution_count": 7,
   "metadata": {},
   "outputs": [],
   "source": [
    "gdf = gpd.read_file(input_file)"
   ]
  },
  {
   "cell_type": "code",
   "execution_count": null,
   "metadata": {},
   "outputs": [],
   "source": [
    "crs_src = gdf.crs"
   ]
  },
  {
   "cell_type": "code",
   "execution_count": null,
   "metadata": {},
   "outputs": [],
   "source": [
    "crs_dst = \"EPSG:4326\""
   ]
  },
  {
   "cell_type": "code",
   "execution_count": null,
   "metadata": {},
   "outputs": [],
   "source": [
    "gdf_reproj = gpd.to_crs(crs_dst)"
   ]
  }
 ],
 "metadata": {
  "kernelspec": {
   "display_name": "Python 3",
   "language": "python",
   "name": "python3"
  },
  "language_info": {
   "codemirror_mode": {
    "name": "ipython",
    "version": 3
   },
   "file_extension": ".py",
   "mimetype": "text/x-python",
   "name": "python",
   "nbconvert_exporter": "python",
   "pygments_lexer": "ipython3",
   "version": "3.6.9"
  }
 },
 "nbformat": 4,
 "nbformat_minor": 4
}
