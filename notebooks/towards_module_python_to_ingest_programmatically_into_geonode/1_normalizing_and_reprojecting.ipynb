{
 "cells": [
  {
   "cell_type": "markdown",
   "metadata": {},
   "source": [
    "# 1) Large size vectors: lcc MAD-Mex"
   ]
  },
  {
   "cell_type": "markdown",
   "metadata": {},
   "source": [
    "## a) Normalize, reproject to wgs84"
   ]
  },
  {
   "cell_type": "code",
   "execution_count": 1,
   "metadata": {},
   "outputs": [],
   "source": [
    "import unicodedata\n",
    "\n",
    "from pyproj import Proj\n",
    "\n",
    "import fiona\n",
    "from fiona.crs import to_string\n",
    "from rasterio.warp import transform_geom\n",
    "from rasterio.crs import CRS as CRS_rio"
   ]
  },
  {
   "cell_type": "code",
   "execution_count": 2,
   "metadata": {},
   "outputs": [],
   "source": [
    "#direc = \"/LUSTRE/MADMEX/products/landcoverchange/landsat/mosaics/2017_2018\"\n",
    "direc = \"/LUSTRE/MADMEX/products/landcoverchange/sentinel2/2017_2018/indi50k/estados/HIDALGO/\""
   ]
  },
  {
   "cell_type": "code",
   "execution_count": 3,
   "metadata": {},
   "outputs": [],
   "source": [
    "#input_filename = direc + \"/madmex_landsat_changes_2017-2018.shp\"\n",
    "#output_filename = direc + \"/madmex_landsat_changes_2017-2018_wgs84_using_fiona.shp\"\n",
    "#layer = \"madmex_landsat_changes_2017-2018_wgs84_using_fiona\"\n",
    "input_filename = direc + \"HIDALGO_merge.shp\"\n",
    "output_filename = direc + \"HIDALGO_merge_wgs84_using_fiona2.shp\"\n",
    "layer = \"HIDALGO_merge_wgs84_using_fiona2\"\n",
    "dst_crs = \"4326\"\n",
    "name_attribute1 = \"t1_dsc_31\"\n",
    "name_attribute2 = \"t2_dsc_31\"\n",
    "name_attribute3 = \"t1_dsc_17\"\n",
    "name_attribute4 = \"t2_dsc_17\"\n",
    "name_attribute5 = \"cmb_dsc_31\"\n",
    "name_attribute6 = \"cmb_dsc_17\""
   ]
  },
  {
   "cell_type": "code",
   "execution_count": 4,
   "metadata": {},
   "outputs": [],
   "source": [
    "list_name_attributes = [name_attribute1, name_attribute2,\n",
    "                        name_attribute3, name_attribute4,\n",
    "                        name_attribute5, name_attribute6]"
   ]
  },
  {
   "cell_type": "code",
   "execution_count": 5,
   "metadata": {},
   "outputs": [],
   "source": [
    "def reproj_geom(geom, source_crs, destiny_crs):\n",
    "    return transform_geom(CRS_rio.from_proj4(source_crs), CRS_rio.from_epsg(destiny_crs),\n",
    "                          geom)"
   ]
  },
  {
   "cell_type": "code",
   "execution_count": 6,
   "metadata": {},
   "outputs": [],
   "source": [
    "def normalize_name_classes(string):\n",
    "    return unicodedata.normalize('NFKD', string).encode('ASCII','ignore').decode('utf-8')"
   ]
  },
  {
   "cell_type": "code",
   "execution_count": 7,
   "metadata": {},
   "outputs": [],
   "source": [
    "def wrapper_reproj_normalize_and_write_vector(feature_collection, feature_collection_schema,\n",
    "                                              source_crs, destiny_crs,\n",
    "                                              output_filename,\n",
    "                                              is_geographic = True):\n",
    "    dst = fiona.open(output_filename, 'w',\n",
    "                     driver = 'ESRI Shapefile',\n",
    "                     layer = layer,\n",
    "                     crs = CRS_rio.from_epsg(dst_crs).to_proj4(),\n",
    "                     schema = feature_collection_schema)\n",
    "    dst.close()\n",
    "    with fiona.open(output_filename, 'a',\n",
    "                    driver = 'ESRI Shapefile',\n",
    "                    layer = layer,\n",
    "                    crs = CRS_rio.from_epsg(destiny_crs).to_proj4(),\n",
    "                    schema = feature_collection_schema) as dst:\n",
    "        for feature in feature_collection:\n",
    "            if not is_geographic:\n",
    "                feature['geometry'] = reproj_geom(feature['geometry'],\n",
    "                                                  source_crs,\n",
    "                                                  destiny_crs)\n",
    "            for att in list_name_attributes:\n",
    "                feature['properties'][att] = normalize_name_classes(feature['properties'][att])\n",
    "            dst.write(feature)"
   ]
  },
  {
   "cell_type": "code",
   "execution_count": 8,
   "metadata": {},
   "outputs": [],
   "source": [
    "with fiona.open(input_filename) as src:\n",
    "    fc = (feature for feature in src if not None in [feature['properties'][att] for att in list_name_attributes] and\n",
    "                                                     feature['geometry'] is not None)\n",
    "    src_crs = to_string(src.crs)\n",
    "    proj_src_crs = Proj(src_crs)\n",
    "    fc_schema = src.schema\n",
    "    if not proj_src_crs.crs.is_geographic:\n",
    "        wrapper_reproj_normalize_and_write_vector(fc, fc_schema,\n",
    "                                                  src_crs, \n",
    "                                                  dst_crs,\n",
    "                                                  output_filename,\n",
    "                                                  is_geographic = False)\n",
    "    else:\n",
    "        wrapper_reproj_normalize_and_write_vector(fc, fc_schema, \n",
    "                                                  src_crs, dst_crs,\n",
    "                                                  output_filename)\n",
    "        "
   ]
  },
  {
   "cell_type": "markdown",
   "metadata": {},
   "source": [
    "## b) Register large vector layer in geonode via `shp2pgsql` and `updatelayers`"
   ]
  },
  {
   "cell_type": "markdown",
   "metadata": {},
   "source": [
    "**Make sure stack deployment of geonode is up and running**"
   ]
  },
  {
   "cell_type": "markdown",
   "metadata": {},
   "source": [
    "**1) Create `~/.pgpass` with contents: `hostname:port:database:username:password` and `chmod 0600 ~/.pass`**"
   ]
  },
  {
   "cell_type": "code",
   "execution_count": 9,
   "metadata": {},
   "outputs": [],
   "source": [
    "import subprocess"
   ]
  },
  {
   "cell_type": "code",
   "execution_count": 37,
   "metadata": {},
   "outputs": [],
   "source": [
    "#next need to be in lowercase\n",
    "name_table = \"hidalgo_madmex_lcc_2017_2018_fiona\" #madmex_landsat_2017-2018_lcc\n"
   ]
  },
  {
   "cell_type": "code",
   "execution_count": 21,
   "metadata": {},
   "outputs": [],
   "source": [
    "l_cmd1 = [\"shp2pgsql\",\n",
    "          output_filename,\n",
    "          name_table,\n",
    "          \"public.\" + name_table + \".shp\"]"
   ]
  },
  {
   "cell_type": "code",
   "execution_count": 22,
   "metadata": {},
   "outputs": [],
   "source": [
    "p1 = subprocess.Popen(l_cmd1, stdout=subprocess.PIPE)"
   ]
  },
  {
   "cell_type": "code",
   "execution_count": 23,
   "metadata": {},
   "outputs": [],
   "source": [
    "l_cmd2 = [\"psql\",\n",
    "          \"-q\",\n",
    "          \"-h\",\n",
    "          \"geonode.conabio.gob.mx\",\n",
    "          \"-d\",\n",
    "          \"geonode_data\",\n",
    "          \"-U\", \n",
    "          \"geonode\"]"
   ]
  },
  {
   "cell_type": "code",
   "execution_count": 24,
   "metadata": {},
   "outputs": [],
   "source": [
    "p2 = subprocess.Popen(l_cmd2, stdin=p1.stdout, stderr=subprocess.PIPE)"
   ]
  },
  {
   "cell_type": "code",
   "execution_count": 25,
   "metadata": {},
   "outputs": [
    {
     "data": {
      "text/plain": [
       "(None, b'')"
      ]
     },
     "execution_count": 25,
     "metadata": {},
     "output_type": "execute_result"
    }
   ],
   "source": [
    "p2.communicate()"
   ]
  },
  {
   "cell_type": "code",
   "execution_count": 26,
   "metadata": {},
   "outputs": [
    {
     "data": {
      "text/plain": [
       "0"
      ]
     },
     "execution_count": 26,
     "metadata": {},
     "output_type": "execute_result"
    }
   ],
   "source": [
    "p2.poll()"
   ]
  },
  {
   "cell_type": "code",
   "execution_count": 27,
   "metadata": {},
   "outputs": [],
   "source": [
    "p1.terminate()"
   ]
  },
  {
   "cell_type": "code",
   "execution_count": 28,
   "metadata": {},
   "outputs": [],
   "source": [
    "p2.terminate()"
   ]
  },
  {
   "cell_type": "markdown",
   "metadata": {},
   "source": [
    "**2) Add to geoserver from geonode_data database**. Need to follow: https://training.geonode.geo-solutions.it/004_admin_workshop/007_loading_data_into_geonode/geoserver.html"
   ]
  },
  {
   "cell_type": "markdown",
   "metadata": {},
   "source": [
    "**3) Update layers using docker container `spcgeonode_django_1`**"
   ]
  },
  {
   "cell_type": "code",
   "execution_count": 29,
   "metadata": {},
   "outputs": [],
   "source": [
    "from docker import APIClient"
   ]
  },
  {
   "cell_type": "code",
   "execution_count": 30,
   "metadata": {},
   "outputs": [],
   "source": [
    "c = APIClient(base_url='unix://var/run/docker.sock')"
   ]
  },
  {
   "cell_type": "code",
   "execution_count": 31,
   "metadata": {},
   "outputs": [
    {
     "data": {
      "text/plain": [
       "<docker.api.client.APIClient at 0x7f79097a1198>"
      ]
     },
     "execution_count": 31,
     "metadata": {},
     "output_type": "execute_result"
    }
   ],
   "source": [
    "c"
   ]
  },
  {
   "cell_type": "code",
   "execution_count": 43,
   "metadata": {},
   "outputs": [],
   "source": [
    "cmd = \"\".join([\"python manage.py updatelayers -s geonode_data -w geonode -f \",\n",
    "               name_table, \" \",\n",
    "               \"--settings=geonode.local_settings\"])"
   ]
  },
  {
   "cell_type": "code",
   "execution_count": 50,
   "metadata": {},
   "outputs": [
    {
     "data": {
      "text/plain": [
       "'python manage.py updatelayers -s geonode_data -w geonode -f hidalgo_madmex_lcc_2017_2018_fiona --settings=geonode.local_settings'"
      ]
     },
     "execution_count": 50,
     "metadata": {},
     "output_type": "execute_result"
    }
   ],
   "source": [
    "cmd"
   ]
  },
  {
   "cell_type": "code",
   "execution_count": 46,
   "metadata": {},
   "outputs": [],
   "source": [
    "ex = c.exec_create(container = 'spcgeonode_django_1', \n",
    "                   cmd = cmd)"
   ]
  },
  {
   "cell_type": "code",
   "execution_count": 47,
   "metadata": {},
   "outputs": [],
   "source": [
    "ex_start = c.exec_start(exec_id=ex, stream=True)"
   ]
  },
  {
   "cell_type": "markdown",
   "metadata": {},
   "source": [
    "**To retrieve output:**"
   ]
  },
  {
   "cell_type": "code",
   "execution_count": 49,
   "metadata": {},
   "outputs": [],
   "source": [
    "#for val in ex_start:\n",
    "#    print(val)"
   ]
  },
  {
   "cell_type": "markdown",
   "metadata": {},
   "source": [
    "**4) Make sure you are able to download it and see thumbnail. If not click to button refresh attributes and statistics for the layer in geonode. For thumbnail increase nginx conf proxy_read_timeout parameter.**"
   ]
  },
  {
   "cell_type": "markdown",
   "metadata": {},
   "source": [
    "# Large size raster: lc MAD-Mex"
   ]
  },
  {
   "cell_type": "markdown",
   "metadata": {},
   "source": [
    "## a) Reproject to wgs84, compress and tile it"
   ]
  },
  {
   "cell_type": "markdown",
   "metadata": {},
   "source": [
    "Based on: \n",
    "\n",
    "https://rasterio.readthedocs.io/en/latest/topics/reproject.html\n",
    "\n",
    "https://rasterio.readthedocs.io/en/latest/topics/image_options.html"
   ]
  },
  {
   "cell_type": "code",
   "execution_count": 1,
   "metadata": {},
   "outputs": [],
   "source": [
    "import numpy as np\n",
    "\n",
    "from pyproj import Proj\n",
    "import rasterio\n",
    "from rasterio.warp import calculate_default_transform, reproject, Resampling"
   ]
  },
  {
   "cell_type": "code",
   "execution_count": 2,
   "metadata": {},
   "outputs": [],
   "source": [
    "#direc = '/LUSTRE/MADMEX/products/landcover/sentinel2/2017/31'\n",
    "#direc = '/LUSTRE/MADMEX/products/landcover/sentinel2/2017/estados/Aguascalientes/31/'\n",
    "direc = '/LUSTRE/MADMEX/products/landcover/sentinel2/2017/estados/Hidalgo/31/'"
   ]
  },
  {
   "cell_type": "code",
   "execution_count": 3,
   "metadata": {},
   "outputs": [],
   "source": [
    "#input_filename = ''.join([direc, '/madmex_sentinel2_2017_31.tif'])\n",
    "#output_filename = ''.join([direc, '/madmex_sentinel2_2017_31_wgs84_tiled_rasterio.tif'])\n",
    "#input_filename = ''.join([direc, '/Aguascalientes_2017_31.tif'])\n",
    "#output_filename = ''.join([direc, '/Aguascalientes_2017_31_wgs84_tiled_rasterio.tif'])\n",
    "input_filename = ''.join([direc, '/Hidalgo_2017_31.tif'])\n",
    "output_filename = ''.join([direc, '/Hidalgo_2017_31_wgs84_tiled_rasterio.tif'])\n",
    "dst_crs = 'EPSG:4326'"
   ]
  },
  {
   "cell_type": "code",
   "execution_count": 4,
   "metadata": {},
   "outputs": [],
   "source": [
    "def wrapper_reproj_and_write(source_dataset, destiny_crs, output_filename,\n",
    "                             is_geographic = True):\n",
    "    source_meta = source_dataset.meta.copy()\n",
    "    source_transform = source_dataset.transform\n",
    "    source_width = source_dataset.width\n",
    "    source_height = source_dataset.height\n",
    "    source_crs = source_dataset.crs\n",
    "    if not is_geographic:\n",
    "        transform, width, height = calculate_default_transform(source_crs, destiny_crs, \n",
    "                                                               source_width, source_height, \n",
    "                                                               *source_dataset.bounds)\n",
    "        source_meta.update({'crs': destiny_crs,\n",
    "                           'transform': transform,\n",
    "                           'width': width,\n",
    "                           'height': height\n",
    "                            })\n",
    "    else:\n",
    "        transform, width, height = source_transform, source_width, source_height\n",
    "    \n",
    "    source_meta.update({'driver': 'GTiff',\n",
    "                        'count': 1,\n",
    "                        'dtype': rasterio.uint8,\n",
    "                        'compress': 'lzw',\n",
    "                        'tiled': True\n",
    "                        })\n",
    "    with rasterio.open(output_filename, 'w', **source_meta,\n",
    "                       ) as dst:\n",
    "        array = np.zeros((height, width), dtype=rasterio.uint8)\n",
    "        reproject(source=rasterio.band(source_dataset, 1),\n",
    "                  destination=array,\n",
    "                  src_transform=source_transform,\n",
    "                  src_crs=source_crs,\n",
    "                  dst_transform=transform,\n",
    "                  dst_crs=dst_crs,\n",
    "                  resampling=Resampling.nearest\n",
    "                  )  \n",
    "        dst.write(array, 1)"
   ]
  },
  {
   "cell_type": "code",
   "execution_count": 5,
   "metadata": {},
   "outputs": [],
   "source": [
    "with rasterio.open(input_filename) as src:\n",
    "    src_crs = src.crs.to_string()\n",
    "    proj_crs = Proj(src_crs)\n",
    "    if not proj_crs.crs.is_geographic:\n",
    "        wrapper_reproj_and_write(src, dst_crs, output_filename,\n",
    "                                 is_geographic=False)\n",
    "    else:\n",
    "        wrapper_reproj_and_write(src, dst_crs, output_filename)"
   ]
  },
  {
   "cell_type": "markdown",
   "metadata": {},
   "source": [
    "## b) Register large raster layer in geonode via `importlayers`"
   ]
  },
  {
   "cell_type": "markdown",
   "metadata": {},
   "source": [
    "**1) Importlayers cmd**"
   ]
  },
  {
   "cell_type": "code",
   "execution_count": 28,
   "metadata": {},
   "outputs": [],
   "source": [
    "from docker import APIClient"
   ]
  },
  {
   "cell_type": "code",
   "execution_count": 29,
   "metadata": {},
   "outputs": [],
   "source": [
    "c = APIClient(base_url='unix://var/run/docker.sock')"
   ]
  },
  {
   "cell_type": "code",
   "execution_count": 30,
   "metadata": {},
   "outputs": [
    {
     "data": {
      "text/plain": [
       "<docker.api.client.APIClient at 0x7f2734ca62e8>"
      ]
     },
     "execution_count": 30,
     "metadata": {},
     "output_type": "execute_result"
    }
   ],
   "source": [
    "c"
   ]
  },
  {
   "cell_type": "code",
   "execution_count": 31,
   "metadata": {},
   "outputs": [],
   "source": [
    "region = \"\".join([\"\\\"Hidalgo, Mexico, North America, Latin America\\\"\"])\n",
    "name = \"\\\"sentinel2_Hidalgo_2017_31_tiled\\\"\"\n",
    "title = \"\\\"sentinel2_Hidalgo_2017_31_tiled\\\"\"\n",
    "abstract = \"\\\"Sentinel2 MAD-Mex land cover classification\\\"\"\n",
    "kw = \"\\\"MAD-Mex, Sentinel2, GeoTIFF, WCS\\\"\"\n"
   ]
  },
  {
   "cell_type": "code",
   "execution_count": 32,
   "metadata": {},
   "outputs": [],
   "source": [
    "cmd = \"\".join([\"python manage.py importlayers -v 3 -i -o \",\n",
    "               \"-n \", name, \" \",\n",
    "               \"-t \", title, \" \",\n",
    "               \"-a \", abstract, \" \",\n",
    "               \"-k \", kw, \" \",\n",
    "               \"-r \", region, \" \",\n",
    "               output_filename, \" \",\n",
    "               \"--settings=geonode.local_settings\"])"
   ]
  },
  {
   "cell_type": "code",
   "execution_count": 33,
   "metadata": {},
   "outputs": [
    {
     "data": {
      "text/plain": [
       "'python manage.py importlayers -v 3 -i -o -n \"sentinel2_Hidalgo_2017_31_tiled\" -t \"sentinel2_Hidalgo_2017_31_tiled\" -a \"Sentinel2 MAD-Mex lc\" -k \"MAD-Mex, Sentinel2, GeoTIFF, WCS\" -r \"Hidalgo Mexico, North America, Latin America\" /LUSTRE/MADMEX/products/landcover/sentinel2/2017/estados/Hidalgo/31//Hidalgo_2017_31_wgs84_tiled_rasterio.tif --settings=geonode.local_settings'"
      ]
     },
     "execution_count": 33,
     "metadata": {},
     "output_type": "execute_result"
    }
   ],
   "source": [
    "cmd"
   ]
  },
  {
   "cell_type": "code",
   "execution_count": 34,
   "metadata": {},
   "outputs": [],
   "source": [
    "ex = c.exec_create(container = 'spcgeonode_django_1', \n",
    "                   cmd = cmd)"
   ]
  },
  {
   "cell_type": "code",
   "execution_count": 35,
   "metadata": {},
   "outputs": [],
   "source": [
    "ex_start = c.exec_start(exec_id=ex, stream=True)"
   ]
  },
  {
   "cell_type": "markdown",
   "metadata": {},
   "source": [
    "**To retrieve output:**"
   ]
  },
  {
   "cell_type": "code",
   "execution_count": 24,
   "metadata": {},
   "outputs": [],
   "source": [
    "#for val in ex_start:\n",
    "#    print(val)"
   ]
  },
  {
   "cell_type": "markdown",
   "metadata": {},
   "source": [
    "**2) Make sure you are able to download it and see thumbnail. If not click to button refresh attributes and statistics for the layer in geonode. For thumbnail increase nginx conf proxy_read_timeout parameter.**"
   ]
  },
  {
   "cell_type": "markdown",
   "metadata": {},
   "source": [
    "# Next is on hold, will be develop"
   ]
  },
  {
   "cell_type": "markdown",
   "metadata": {},
   "source": [
    "## Small to Medium size vectors"
   ]
  },
  {
   "cell_type": "code",
   "execution_count": 1,
   "metadata": {},
   "outputs": [],
   "source": [
    "from pyproj import Proj\n",
    "import geopandas as gpd"
   ]
  },
  {
   "cell_type": "code",
   "execution_count": 2,
   "metadata": {},
   "outputs": [],
   "source": [
    "direc = '/LUSTRE/MADMEX/products/landcoverchange/sentinel2/2017_2018/indi50k/estados/AGUASCALIENTES'"
   ]
  },
  {
   "cell_type": "code",
   "execution_count": 3,
   "metadata": {},
   "outputs": [],
   "source": [
    "input_file = direc + '/AGUASCALIENTES_merge.shp'\n",
    "out_filename = direc + '/AGUASCALIENTES_merge_wgs84_using_geopandas.shp'\n",
    "layer = 'AGUASCALIENTES_merge_wgs84_using_geopandas'"
   ]
  },
  {
   "cell_type": "code",
   "execution_count": 4,
   "metadata": {},
   "outputs": [],
   "source": [
    "gdf = gpd.read_file(input_file)"
   ]
  },
  {
   "cell_type": "code",
   "execution_count": 5,
   "metadata": {},
   "outputs": [
    {
     "data": {
      "text/html": [
       "<div>\n",
       "<style scoped>\n",
       "    .dataframe tbody tr th:only-of-type {\n",
       "        vertical-align: middle;\n",
       "    }\n",
       "\n",
       "    .dataframe tbody tr th {\n",
       "        vertical-align: top;\n",
       "    }\n",
       "\n",
       "    .dataframe thead th {\n",
       "        text-align: right;\n",
       "    }\n",
       "</style>\n",
       "<table border=\"1\" class=\"dataframe\">\n",
       "  <thead>\n",
       "    <tr style=\"text-align: right;\">\n",
       "      <th></th>\n",
       "      <th>id</th>\n",
       "      <th>change</th>\n",
       "      <th>mdmx_t1</th>\n",
       "      <th>mdmx_t2</th>\n",
       "      <th>cmb_clv_31</th>\n",
       "      <th>mdmx_cls</th>\n",
       "      <th>t1_clv_31</th>\n",
       "      <th>t2_clv_31</th>\n",
       "      <th>t1_clv_17</th>\n",
       "      <th>t2_clv_17</th>\n",
       "      <th>...</th>\n",
       "      <th>cmb_prb</th>\n",
       "      <th>cmb_clv_17</th>\n",
       "      <th>cmb_dsc_31</th>\n",
       "      <th>cmb_dsc_17</th>\n",
       "      <th>ipcc_clv</th>\n",
       "      <th>ipcc_dsc</th>\n",
       "      <th>area</th>\n",
       "      <th>oid</th>\n",
       "      <th>id_1</th>\n",
       "      <th>geometry</th>\n",
       "    </tr>\n",
       "  </thead>\n",
       "  <tbody>\n",
       "    <tr>\n",
       "      <th>0</th>\n",
       "      <td>221682</td>\n",
       "      <td>12827</td>\n",
       "      <td>28</td>\n",
       "      <td>27</td>\n",
       "      <td>28-27</td>\n",
       "      <td>1</td>\n",
       "      <td>28.0</td>\n",
       "      <td>27.0</td>\n",
       "      <td>14.0</td>\n",
       "      <td>13.0</td>\n",
       "      <td>...</td>\n",
       "      <td>8.090109</td>\n",
       "      <td>14-13</td>\n",
       "      <td>Tierras Agrícolas - Pastizales</td>\n",
       "      <td>Tierras agrícolas - Pastizales y otra vegetaci...</td>\n",
       "      <td>15.0</td>\n",
       "      <td>CONV GL</td>\n",
       "      <td>0.41</td>\n",
       "      <td>8124</td>\n",
       "      <td>None</td>\n",
       "      <td>POLYGON ((2397540.943 1164609.003, 2397540.943...</td>\n",
       "    </tr>\n",
       "    <tr>\n",
       "      <th>1</th>\n",
       "      <td>68283</td>\n",
       "      <td>12703</td>\n",
       "      <td>27</td>\n",
       "      <td>3</td>\n",
       "      <td>27-3</td>\n",
       "      <td>1</td>\n",
       "      <td>27.0</td>\n",
       "      <td>3.0</td>\n",
       "      <td>13.0</td>\n",
       "      <td>2.0</td>\n",
       "      <td>...</td>\n",
       "      <td>16.683148</td>\n",
       "      <td>13-2</td>\n",
       "      <td>Pastizales - Bosque de Encino y Bosque de Galería</td>\n",
       "      <td>Pastizales y otra vegetación herbácea - Bosque...</td>\n",
       "      <td>9.0</td>\n",
       "      <td>CONV FL</td>\n",
       "      <td>0.70</td>\n",
       "      <td>4952</td>\n",
       "      <td>None</td>\n",
       "      <td>POLYGON ((2398330.943 1164604.404, 2398330.943...</td>\n",
       "    </tr>\n",
       "    <tr>\n",
       "      <th>2</th>\n",
       "      <td>68193</td>\n",
       "      <td>11427</td>\n",
       "      <td>14</td>\n",
       "      <td>27</td>\n",
       "      <td>14-27</td>\n",
       "      <td>1</td>\n",
       "      <td>14.0</td>\n",
       "      <td>27.0</td>\n",
       "      <td>7.0</td>\n",
       "      <td>13.0</td>\n",
       "      <td>...</td>\n",
       "      <td>17.413904</td>\n",
       "      <td>7-13</td>\n",
       "      <td>Matorral Crasicaule - Pastizales</td>\n",
       "      <td>Matorral alto denso - Pastizales y otra vegeta...</td>\n",
       "      <td>4.0</td>\n",
       "      <td>FL-GL</td>\n",
       "      <td>0.08</td>\n",
       "      <td>4862</td>\n",
       "      <td>None</td>\n",
       "      <td>POLYGON ((2398180.943 1164605.278, 2398180.943...</td>\n",
       "    </tr>\n",
       "    <tr>\n",
       "      <th>3</th>\n",
       "      <td>221758</td>\n",
       "      <td>12714</td>\n",
       "      <td>27</td>\n",
       "      <td>14</td>\n",
       "      <td>27-14</td>\n",
       "      <td>1</td>\n",
       "      <td>27.0</td>\n",
       "      <td>14.0</td>\n",
       "      <td>13.0</td>\n",
       "      <td>7.0</td>\n",
       "      <td>...</td>\n",
       "      <td>2.954326</td>\n",
       "      <td>13-7</td>\n",
       "      <td>Pastizales - Matorral Crasicaule</td>\n",
       "      <td>Pastizales y otra vegetación herbácea - Matorr...</td>\n",
       "      <td>9.0</td>\n",
       "      <td>CONV FL</td>\n",
       "      <td>0.20</td>\n",
       "      <td>8200</td>\n",
       "      <td>None</td>\n",
       "      <td>POLYGON ((2397790.943 1164607.352, 2397824.645...</td>\n",
       "    </tr>\n",
       "    <tr>\n",
       "      <th>4</th>\n",
       "      <td>68182</td>\n",
       "      <td>12703</td>\n",
       "      <td>27</td>\n",
       "      <td>3</td>\n",
       "      <td>27-3</td>\n",
       "      <td>1</td>\n",
       "      <td>27.0</td>\n",
       "      <td>3.0</td>\n",
       "      <td>13.0</td>\n",
       "      <td>2.0</td>\n",
       "      <td>...</td>\n",
       "      <td>16.683148</td>\n",
       "      <td>13-2</td>\n",
       "      <td>Pastizales - Bosque de Encino y Bosque de Galería</td>\n",
       "      <td>Pastizales y otra vegetación herbácea - Bosque...</td>\n",
       "      <td>9.0</td>\n",
       "      <td>CONV FL</td>\n",
       "      <td>0.11</td>\n",
       "      <td>4851</td>\n",
       "      <td>None</td>\n",
       "      <td>POLYGON ((2401150.943 1164577.352, 2401170.943...</td>\n",
       "    </tr>\n",
       "  </tbody>\n",
       "</table>\n",
       "<p>5 rows × 24 columns</p>\n",
       "</div>"
      ],
      "text/plain": [
       "       id  change  mdmx_t1  mdmx_t2 cmb_clv_31  mdmx_cls  t1_clv_31  \\\n",
       "0  221682   12827       28       27      28-27         1       28.0   \n",
       "1   68283   12703       27        3       27-3         1       27.0   \n",
       "2   68193   11427       14       27      14-27         1       14.0   \n",
       "3  221758   12714       27       14      27-14         1       27.0   \n",
       "4   68182   12703       27        3       27-3         1       27.0   \n",
       "\n",
       "   t2_clv_31  t1_clv_17  t2_clv_17  ...    cmb_prb cmb_clv_17  \\\n",
       "0       27.0       14.0       13.0  ...   8.090109      14-13   \n",
       "1        3.0       13.0        2.0  ...  16.683148       13-2   \n",
       "2       27.0        7.0       13.0  ...  17.413904       7-13   \n",
       "3       14.0       13.0        7.0  ...   2.954326       13-7   \n",
       "4        3.0       13.0        2.0  ...  16.683148       13-2   \n",
       "\n",
       "                                          cmb_dsc_31  \\\n",
       "0                     Tierras Agrícolas - Pastizales   \n",
       "1  Pastizales - Bosque de Encino y Bosque de Galería   \n",
       "2                   Matorral Crasicaule - Pastizales   \n",
       "3                   Pastizales - Matorral Crasicaule   \n",
       "4  Pastizales - Bosque de Encino y Bosque de Galería   \n",
       "\n",
       "                                          cmb_dsc_17  ipcc_clv ipcc_dsc  area  \\\n",
       "0  Tierras agrícolas - Pastizales y otra vegetaci...      15.0  CONV GL  0.41   \n",
       "1  Pastizales y otra vegetación herbácea - Bosque...       9.0  CONV FL  0.70   \n",
       "2  Matorral alto denso - Pastizales y otra vegeta...       4.0    FL-GL  0.08   \n",
       "3  Pastizales y otra vegetación herbácea - Matorr...       9.0  CONV FL  0.20   \n",
       "4  Pastizales y otra vegetación herbácea - Bosque...       9.0  CONV FL  0.11   \n",
       "\n",
       "    oid  id_1                                           geometry  \n",
       "0  8124  None  POLYGON ((2397540.943 1164609.003, 2397540.943...  \n",
       "1  4952  None  POLYGON ((2398330.943 1164604.404, 2398330.943...  \n",
       "2  4862  None  POLYGON ((2398180.943 1164605.278, 2398180.943...  \n",
       "3  8200  None  POLYGON ((2397790.943 1164607.352, 2397824.645...  \n",
       "4  4851  None  POLYGON ((2401150.943 1164577.352, 2401170.943...  \n",
       "\n",
       "[5 rows x 24 columns]"
      ]
     },
     "execution_count": 5,
     "metadata": {},
     "output_type": "execute_result"
    }
   ],
   "source": [
    "gdf.head()"
   ]
  },
  {
   "cell_type": "code",
   "execution_count": 6,
   "metadata": {},
   "outputs": [],
   "source": [
    "name_attribute1 = \"t1_dsc_31\"\n",
    "name_attribute2 = \"t2_dsc_31\"\n",
    "name_attribute3 = \"t1_dsc_17\"\n",
    "name_attribute4 = \"t2_dsc_17\"\n",
    "name_attribute5 = \"cmb_dsc_31\"\n",
    "name_attribute6 = \"cmb_dsc_17\""
   ]
  },
  {
   "cell_type": "code",
   "execution_count": 7,
   "metadata": {},
   "outputs": [],
   "source": [
    "list_name_attributes = [name_attribute1, name_attribute2,\n",
    "                        name_attribute3, name_attribute4,\n",
    "                        name_attribute5, name_attribute6]"
   ]
  },
  {
   "cell_type": "code",
   "execution_count": 8,
   "metadata": {},
   "outputs": [
    {
     "data": {
      "text/plain": [
       "74791    None\n",
       "74794    None\n",
       "74834    None\n",
       "74878    None\n",
       "Name: t1_dsc_31, dtype: object"
      ]
     },
     "execution_count": 8,
     "metadata": {},
     "output_type": "execute_result"
    }
   ],
   "source": [
    "gdf[list_name_attributes[0]][gdf[list_name_attributes[0]].isnull()]"
   ]
  },
  {
   "cell_type": "code",
   "execution_count": 9,
   "metadata": {},
   "outputs": [
    {
     "data": {
      "text/plain": [
       "74791    None\n",
       "74794    None\n",
       "74834    None\n",
       "74878    None\n",
       "Name: t1_dsc_31, dtype: object"
      ]
     },
     "execution_count": 9,
     "metadata": {},
     "output_type": "execute_result"
    }
   ],
   "source": [
    "gdf[list_name_attributes[0]][gdf[list_name_attributes[0]].isna()]"
   ]
  },
  {
   "cell_type": "code",
   "execution_count": 10,
   "metadata": {},
   "outputs": [
    {
     "data": {
      "text/plain": [
       "74791    None\n",
       "74794    None\n",
       "74834    None\n",
       "74878    None\n",
       "Name: t2_dsc_31, dtype: object"
      ]
     },
     "execution_count": 10,
     "metadata": {},
     "output_type": "execute_result"
    }
   ],
   "source": [
    "gdf[list_name_attributes[1]][gdf[list_name_attributes[0]].isna()]"
   ]
  },
  {
   "cell_type": "code",
   "execution_count": 11,
   "metadata": {},
   "outputs": [
    {
     "data": {
      "text/plain": [
       "74791    None\n",
       "74794    None\n",
       "74834    None\n",
       "74878    None\n",
       "Name: t1_dsc_17, dtype: object"
      ]
     },
     "execution_count": 11,
     "metadata": {},
     "output_type": "execute_result"
    }
   ],
   "source": [
    "gdf[list_name_attributes[2]][gdf[list_name_attributes[0]].isna()]"
   ]
  },
  {
   "cell_type": "code",
   "execution_count": 12,
   "metadata": {},
   "outputs": [
    {
     "data": {
      "text/plain": [
       "74791    None\n",
       "74794    None\n",
       "74834    None\n",
       "74878    None\n",
       "Name: t1_dsc_17, dtype: object"
      ]
     },
     "execution_count": 12,
     "metadata": {},
     "output_type": "execute_result"
    }
   ],
   "source": [
    "gdf[list_name_attributes[2]][gdf[list_name_attributes[0]].isna()]"
   ]
  },
  {
   "cell_type": "code",
   "execution_count": 13,
   "metadata": {},
   "outputs": [
    {
     "data": {
      "text/plain": [
       "74791    None\n",
       "74794    None\n",
       "74834    None\n",
       "74878    None\n",
       "Name: t2_dsc_17, dtype: object"
      ]
     },
     "execution_count": 13,
     "metadata": {},
     "output_type": "execute_result"
    }
   ],
   "source": [
    "gdf[list_name_attributes[3]][gdf[list_name_attributes[0]].isna()]"
   ]
  },
  {
   "cell_type": "code",
   "execution_count": 14,
   "metadata": {},
   "outputs": [
    {
     "data": {
      "text/plain": [
       "74791    None\n",
       "74794    None\n",
       "74834    None\n",
       "74878    None\n",
       "Name: cmb_dsc_31, dtype: object"
      ]
     },
     "execution_count": 14,
     "metadata": {},
     "output_type": "execute_result"
    }
   ],
   "source": [
    "gdf[list_name_attributes[4]][gdf[list_name_attributes[0]].isna()]"
   ]
  },
  {
   "cell_type": "code",
   "execution_count": 15,
   "metadata": {},
   "outputs": [
    {
     "data": {
      "text/plain": [
       "74791    None\n",
       "74794    None\n",
       "74834    None\n",
       "74878    None\n",
       "Name: cmb_dsc_17, dtype: object"
      ]
     },
     "execution_count": 15,
     "metadata": {},
     "output_type": "execute_result"
    }
   ],
   "source": [
    "gdf[list_name_attributes[5]][gdf[list_name_attributes[0]].isna()]"
   ]
  },
  {
   "cell_type": "code",
   "execution_count": 16,
   "metadata": {},
   "outputs": [
    {
     "data": {
      "text/plain": [
       "id                                                       367877\n",
       "change                                                    10029\n",
       "mdmx_t1                                                       0\n",
       "mdmx_t2                                                      29\n",
       "cmb_clv_31                                                 0-29\n",
       "mdmx_cls                                                      1\n",
       "t1_clv_31                                                   NaN\n",
       "t2_clv_31                                                   NaN\n",
       "t1_clv_17                                                   NaN\n",
       "t2_clv_17                                                   NaN\n",
       "t1_dsc_31                                                  None\n",
       "t2_dsc_31                                                  None\n",
       "t1_dsc_17                                                  None\n",
       "t2_dsc_17                                                  None\n",
       "cmb_prb                                                     NaN\n",
       "cmb_clv_17                                                 None\n",
       "cmb_dsc_31                                                 None\n",
       "cmb_dsc_17                                                 None\n",
       "ipcc_clv                                                    NaN\n",
       "ipcc_dsc                                                   None\n",
       "area                                                        0.1\n",
       "oid                                                       71227\n",
       "id_1                                                       None\n",
       "geometry      POLYGON ((2470209.80228859 1079786.60880979, 2...\n",
       "Name: 74791, dtype: object"
      ]
     },
     "execution_count": 16,
     "metadata": {},
     "output_type": "execute_result"
    }
   ],
   "source": [
    "gdf.iloc[74791]"
   ]
  },
  {
   "cell_type": "code",
   "execution_count": 17,
   "metadata": {},
   "outputs": [],
   "source": [
    "gdf.dropna(subset=list_name_attributes, inplace=True)"
   ]
  },
  {
   "cell_type": "code",
   "execution_count": 18,
   "metadata": {},
   "outputs": [
    {
     "data": {
      "text/plain": [
       "id                                                       367851\n",
       "change                                                    12928\n",
       "mdmx_t1                                                      29\n",
       "mdmx_t2                                                      28\n",
       "cmb_clv_31                                                29-28\n",
       "mdmx_cls                                                      1\n",
       "t1_clv_31                                                    29\n",
       "t2_clv_31                                                    28\n",
       "t1_clv_17                                                    15\n",
       "t2_clv_17                                                    14\n",
       "t1_dsc_31                                   Urbano y Construido\n",
       "t2_dsc_31                                     Tierras Agrícolas\n",
       "t1_dsc_17                                   Urbano y construido\n",
       "t2_dsc_17                                     Tierras agrícolas\n",
       "cmb_prb                                                 13.1019\n",
       "cmb_clv_17                                                15-14\n",
       "cmb_dsc_31              Urbano y Construido - Tierras Agrícolas\n",
       "cmb_dsc_17              Urbano y construido - Tierras agrícolas\n",
       "ipcc_clv                                                     17\n",
       "ipcc_dsc                                                CONV CL\n",
       "area                                                       0.28\n",
       "oid                                                       71201\n",
       "id_1                                                       None\n",
       "geometry      POLYGON ((2473389.80228859 1079796.60880979, 2...\n",
       "Name: 74792, dtype: object"
      ]
     },
     "execution_count": 18,
     "metadata": {},
     "output_type": "execute_result"
    }
   ],
   "source": [
    "gdf.iloc[74791]"
   ]
  },
  {
   "cell_type": "code",
   "execution_count": 19,
   "metadata": {},
   "outputs": [
    {
     "data": {
      "text/plain": [
       "Series([], Name: t1_dsc_31, dtype: object)"
      ]
     },
     "execution_count": 19,
     "metadata": {},
     "output_type": "execute_result"
    }
   ],
   "source": [
    "gdf[list_name_attributes[0]][gdf[list_name_attributes[0]].isna()]"
   ]
  },
  {
   "cell_type": "code",
   "execution_count": 20,
   "metadata": {},
   "outputs": [
    {
     "data": {
      "text/plain": [
       "Series([], Name: t2_dsc_31, dtype: object)"
      ]
     },
     "execution_count": 20,
     "metadata": {},
     "output_type": "execute_result"
    }
   ],
   "source": [
    "gdf[list_name_attributes[1]][gdf[list_name_attributes[0]].isna()]"
   ]
  },
  {
   "cell_type": "code",
   "execution_count": 21,
   "metadata": {},
   "outputs": [
    {
     "data": {
      "text/plain": [
       "Series([], Name: t1_dsc_17, dtype: object)"
      ]
     },
     "execution_count": 21,
     "metadata": {},
     "output_type": "execute_result"
    }
   ],
   "source": [
    "gdf[list_name_attributes[2]][gdf[list_name_attributes[0]].isna()]"
   ]
  },
  {
   "cell_type": "code",
   "execution_count": 22,
   "metadata": {},
   "outputs": [
    {
     "data": {
      "text/plain": [
       "Series([], Name: t1_dsc_17, dtype: object)"
      ]
     },
     "execution_count": 22,
     "metadata": {},
     "output_type": "execute_result"
    }
   ],
   "source": [
    "gdf[list_name_attributes[2]][gdf[list_name_attributes[0]].isna()]"
   ]
  },
  {
   "cell_type": "code",
   "execution_count": 23,
   "metadata": {},
   "outputs": [
    {
     "data": {
      "text/plain": [
       "Series([], Name: t2_dsc_17, dtype: object)"
      ]
     },
     "execution_count": 23,
     "metadata": {},
     "output_type": "execute_result"
    }
   ],
   "source": [
    "gdf[list_name_attributes[3]][gdf[list_name_attributes[0]].isna()]"
   ]
  },
  {
   "cell_type": "code",
   "execution_count": 24,
   "metadata": {},
   "outputs": [
    {
     "data": {
      "text/plain": [
       "Series([], Name: cmb_dsc_31, dtype: object)"
      ]
     },
     "execution_count": 24,
     "metadata": {},
     "output_type": "execute_result"
    }
   ],
   "source": [
    "gdf[list_name_attributes[4]][gdf[list_name_attributes[0]].isna()]"
   ]
  },
  {
   "cell_type": "code",
   "execution_count": 25,
   "metadata": {},
   "outputs": [
    {
     "data": {
      "text/plain": [
       "Series([], Name: cmb_dsc_17, dtype: object)"
      ]
     },
     "execution_count": 25,
     "metadata": {},
     "output_type": "execute_result"
    }
   ],
   "source": [
    "gdf[list_name_attributes[5]][gdf[list_name_attributes[0]].isna()]"
   ]
  },
  {
   "cell_type": "markdown",
   "metadata": {},
   "source": [
    "**Reproject**"
   ]
  },
  {
   "cell_type": "code",
   "execution_count": 26,
   "metadata": {},
   "outputs": [],
   "source": [
    "crs_src = gdf.crs"
   ]
  },
  {
   "cell_type": "code",
   "execution_count": 27,
   "metadata": {},
   "outputs": [
    {
     "data": {
      "text/plain": [
       "<Projected CRS: PROJCS[\"Lambert_Conformal_Conic\",GEOGCS[\"GCS_WGS_1 ...>\n",
       "Name: Lambert_Conformal_Conic\n",
       "Axis Info [cartesian]:\n",
       "- E[east]: Easting (metre)\n",
       "- N[north]: Northing (metre)\n",
       "Area of Use:\n",
       "- undefined\n",
       "Coordinate Operation:\n",
       "- name: unnamed\n",
       "- method: Lambert Conic Conformal (2SP)\n",
       "Datum: World Geodetic System 1984\n",
       "- Ellipsoid: WGS_84\n",
       "- Prime Meridian: Greenwich"
      ]
     },
     "execution_count": 27,
     "metadata": {},
     "output_type": "execute_result"
    }
   ],
   "source": [
    "crs_src"
   ]
  },
  {
   "cell_type": "code",
   "execution_count": 28,
   "metadata": {},
   "outputs": [
    {
     "data": {
      "text/plain": [
       "'PROJCS[\"Lambert_Conformal_Conic\",GEOGCS[\"GCS_WGS_1984\",DATUM[\"WGS_1984\",SPHEROID[\"WGS_84\",6378137,298.257223563]],PRIMEM[\"Greenwich\",0],UNIT[\"Degree\",0.017453292519943295],AUTHORITY[\"EPSG\",\"4326\"]],PROJECTION[\"Lambert_Conformal_Conic_2SP\"],PARAMETER[\"standard_parallel_1\",17.5],PARAMETER[\"standard_parallel_2\",29.5],PARAMETER[\"latitude_of_origin\",12],PARAMETER[\"central_meridian\",-102],PARAMETER[\"false_easting\",2500000],PARAMETER[\"false_northing\",0],UNIT[\"Meter\",1]]'"
      ]
     },
     "execution_count": 28,
     "metadata": {},
     "output_type": "execute_result"
    }
   ],
   "source": [
    "crs_src.to_string()"
   ]
  },
  {
   "cell_type": "code",
   "execution_count": 29,
   "metadata": {},
   "outputs": [],
   "source": [
    "src_crs = crs_src.to_string()\n",
    "proj_src_crs = Proj(src_crs)"
   ]
  },
  {
   "cell_type": "code",
   "execution_count": 30,
   "metadata": {},
   "outputs": [
    {
     "name": "stdout",
     "output_type": "stream",
     "text": [
      "not wgs84\n"
     ]
    }
   ],
   "source": [
    "if not proj_src_crs.crs.is_geographic:\n",
    "    print('not wgs84')\n",
    "else:\n",
    "    print('wgs84')"
   ]
  },
  {
   "cell_type": "code",
   "execution_count": 31,
   "metadata": {},
   "outputs": [],
   "source": [
    "crs_dst = \"EPSG:4326\""
   ]
  },
  {
   "cell_type": "code",
   "execution_count": 32,
   "metadata": {},
   "outputs": [],
   "source": [
    "gdf_reproj = gdf.to_crs(crs_dst)"
   ]
  },
  {
   "cell_type": "code",
   "execution_count": 33,
   "metadata": {},
   "outputs": [
    {
     "data": {
      "text/html": [
       "<div>\n",
       "<style scoped>\n",
       "    .dataframe tbody tr th:only-of-type {\n",
       "        vertical-align: middle;\n",
       "    }\n",
       "\n",
       "    .dataframe tbody tr th {\n",
       "        vertical-align: top;\n",
       "    }\n",
       "\n",
       "    .dataframe thead th {\n",
       "        text-align: right;\n",
       "    }\n",
       "</style>\n",
       "<table border=\"1\" class=\"dataframe\">\n",
       "  <thead>\n",
       "    <tr style=\"text-align: right;\">\n",
       "      <th></th>\n",
       "      <th>id</th>\n",
       "      <th>change</th>\n",
       "      <th>mdmx_t1</th>\n",
       "      <th>mdmx_t2</th>\n",
       "      <th>cmb_clv_31</th>\n",
       "      <th>mdmx_cls</th>\n",
       "      <th>t1_clv_31</th>\n",
       "      <th>t2_clv_31</th>\n",
       "      <th>t1_clv_17</th>\n",
       "      <th>t2_clv_17</th>\n",
       "      <th>...</th>\n",
       "      <th>cmb_prb</th>\n",
       "      <th>cmb_clv_17</th>\n",
       "      <th>cmb_dsc_31</th>\n",
       "      <th>cmb_dsc_17</th>\n",
       "      <th>ipcc_clv</th>\n",
       "      <th>ipcc_dsc</th>\n",
       "      <th>area</th>\n",
       "      <th>oid</th>\n",
       "      <th>id_1</th>\n",
       "      <th>geometry</th>\n",
       "    </tr>\n",
       "  </thead>\n",
       "  <tbody>\n",
       "    <tr>\n",
       "      <th>0</th>\n",
       "      <td>221682</td>\n",
       "      <td>12827</td>\n",
       "      <td>28</td>\n",
       "      <td>27</td>\n",
       "      <td>28-27</td>\n",
       "      <td>1</td>\n",
       "      <td>28.0</td>\n",
       "      <td>27.0</td>\n",
       "      <td>14.0</td>\n",
       "      <td>13.0</td>\n",
       "      <td>...</td>\n",
       "      <td>8.090109</td>\n",
       "      <td>14-13</td>\n",
       "      <td>Tierras Agrícolas - Pastizales</td>\n",
       "      <td>Tierras agrícolas - Pastizales y otra vegetaci...</td>\n",
       "      <td>15.0</td>\n",
       "      <td>CONV GL</td>\n",
       "      <td>0.41</td>\n",
       "      <td>8124</td>\n",
       "      <td>None</td>\n",
       "      <td>POLYGON ((-103.00105 22.50049, -103.00105 22.5...</td>\n",
       "    </tr>\n",
       "    <tr>\n",
       "      <th>1</th>\n",
       "      <td>68283</td>\n",
       "      <td>12703</td>\n",
       "      <td>27</td>\n",
       "      <td>3</td>\n",
       "      <td>27-3</td>\n",
       "      <td>1</td>\n",
       "      <td>27.0</td>\n",
       "      <td>3.0</td>\n",
       "      <td>13.0</td>\n",
       "      <td>2.0</td>\n",
       "      <td>...</td>\n",
       "      <td>16.683148</td>\n",
       "      <td>13-2</td>\n",
       "      <td>Pastizales - Bosque de Encino y Bosque de Galería</td>\n",
       "      <td>Pastizales y otra vegetación herbácea - Bosque...</td>\n",
       "      <td>9.0</td>\n",
       "      <td>CONV FL</td>\n",
       "      <td>0.70</td>\n",
       "      <td>4952</td>\n",
       "      <td>None</td>\n",
       "      <td>POLYGON ((-102.99333 22.50049, -102.99333 22.5...</td>\n",
       "    </tr>\n",
       "    <tr>\n",
       "      <th>2</th>\n",
       "      <td>68193</td>\n",
       "      <td>11427</td>\n",
       "      <td>14</td>\n",
       "      <td>27</td>\n",
       "      <td>14-27</td>\n",
       "      <td>1</td>\n",
       "      <td>14.0</td>\n",
       "      <td>27.0</td>\n",
       "      <td>7.0</td>\n",
       "      <td>13.0</td>\n",
       "      <td>...</td>\n",
       "      <td>17.413904</td>\n",
       "      <td>7-13</td>\n",
       "      <td>Matorral Crasicaule - Pastizales</td>\n",
       "      <td>Matorral alto denso - Pastizales y otra vegeta...</td>\n",
       "      <td>4.0</td>\n",
       "      <td>FL-GL</td>\n",
       "      <td>0.08</td>\n",
       "      <td>4862</td>\n",
       "      <td>None</td>\n",
       "      <td>POLYGON ((-102.99480 22.50049, -102.99480 22.5...</td>\n",
       "    </tr>\n",
       "    <tr>\n",
       "      <th>3</th>\n",
       "      <td>221758</td>\n",
       "      <td>12714</td>\n",
       "      <td>27</td>\n",
       "      <td>14</td>\n",
       "      <td>27-14</td>\n",
       "      <td>1</td>\n",
       "      <td>27.0</td>\n",
       "      <td>14.0</td>\n",
       "      <td>13.0</td>\n",
       "      <td>7.0</td>\n",
       "      <td>...</td>\n",
       "      <td>2.954326</td>\n",
       "      <td>13-7</td>\n",
       "      <td>Pastizales - Matorral Crasicaule</td>\n",
       "      <td>Pastizales y otra vegetación herbácea - Matorr...</td>\n",
       "      <td>9.0</td>\n",
       "      <td>CONV FL</td>\n",
       "      <td>0.20</td>\n",
       "      <td>8200</td>\n",
       "      <td>None</td>\n",
       "      <td>POLYGON ((-102.99861 22.50049, -102.99828 22.5...</td>\n",
       "    </tr>\n",
       "    <tr>\n",
       "      <th>4</th>\n",
       "      <td>68182</td>\n",
       "      <td>12703</td>\n",
       "      <td>27</td>\n",
       "      <td>3</td>\n",
       "      <td>27-3</td>\n",
       "      <td>1</td>\n",
       "      <td>27.0</td>\n",
       "      <td>3.0</td>\n",
       "      <td>13.0</td>\n",
       "      <td>2.0</td>\n",
       "      <td>...</td>\n",
       "      <td>16.683148</td>\n",
       "      <td>13-2</td>\n",
       "      <td>Pastizales - Bosque de Encino y Bosque de Galería</td>\n",
       "      <td>Pastizales y otra vegetación herbácea - Bosque...</td>\n",
       "      <td>9.0</td>\n",
       "      <td>CONV FL</td>\n",
       "      <td>0.11</td>\n",
       "      <td>4851</td>\n",
       "      <td>None</td>\n",
       "      <td>POLYGON ((-102.96578 22.50042, -102.96559 22.5...</td>\n",
       "    </tr>\n",
       "  </tbody>\n",
       "</table>\n",
       "<p>5 rows × 24 columns</p>\n",
       "</div>"
      ],
      "text/plain": [
       "       id  change  mdmx_t1  mdmx_t2 cmb_clv_31  mdmx_cls  t1_clv_31  \\\n",
       "0  221682   12827       28       27      28-27         1       28.0   \n",
       "1   68283   12703       27        3       27-3         1       27.0   \n",
       "2   68193   11427       14       27      14-27         1       14.0   \n",
       "3  221758   12714       27       14      27-14         1       27.0   \n",
       "4   68182   12703       27        3       27-3         1       27.0   \n",
       "\n",
       "   t2_clv_31  t1_clv_17  t2_clv_17  ...    cmb_prb cmb_clv_17  \\\n",
       "0       27.0       14.0       13.0  ...   8.090109      14-13   \n",
       "1        3.0       13.0        2.0  ...  16.683148       13-2   \n",
       "2       27.0        7.0       13.0  ...  17.413904       7-13   \n",
       "3       14.0       13.0        7.0  ...   2.954326       13-7   \n",
       "4        3.0       13.0        2.0  ...  16.683148       13-2   \n",
       "\n",
       "                                          cmb_dsc_31  \\\n",
       "0                     Tierras Agrícolas - Pastizales   \n",
       "1  Pastizales - Bosque de Encino y Bosque de Galería   \n",
       "2                   Matorral Crasicaule - Pastizales   \n",
       "3                   Pastizales - Matorral Crasicaule   \n",
       "4  Pastizales - Bosque de Encino y Bosque de Galería   \n",
       "\n",
       "                                          cmb_dsc_17  ipcc_clv ipcc_dsc  area  \\\n",
       "0  Tierras agrícolas - Pastizales y otra vegetaci...      15.0  CONV GL  0.41   \n",
       "1  Pastizales y otra vegetación herbácea - Bosque...       9.0  CONV FL  0.70   \n",
       "2  Matorral alto denso - Pastizales y otra vegeta...       4.0    FL-GL  0.08   \n",
       "3  Pastizales y otra vegetación herbácea - Matorr...       9.0  CONV FL  0.20   \n",
       "4  Pastizales y otra vegetación herbácea - Bosque...       9.0  CONV FL  0.11   \n",
       "\n",
       "    oid  id_1                                           geometry  \n",
       "0  8124  None  POLYGON ((-103.00105 22.50049, -103.00105 22.5...  \n",
       "1  4952  None  POLYGON ((-102.99333 22.50049, -102.99333 22.5...  \n",
       "2  4862  None  POLYGON ((-102.99480 22.50049, -102.99480 22.5...  \n",
       "3  8200  None  POLYGON ((-102.99861 22.50049, -102.99828 22.5...  \n",
       "4  4851  None  POLYGON ((-102.96578 22.50042, -102.96559 22.5...  \n",
       "\n",
       "[5 rows x 24 columns]"
      ]
     },
     "execution_count": 33,
     "metadata": {},
     "output_type": "execute_result"
    }
   ],
   "source": [
    "gdf_reproj.head()"
   ]
  },
  {
   "cell_type": "code",
   "execution_count": 34,
   "metadata": {},
   "outputs": [
    {
     "data": {
      "text/plain": [
       "Series([], Name: t1_dsc_31, dtype: object)"
      ]
     },
     "execution_count": 34,
     "metadata": {},
     "output_type": "execute_result"
    }
   ],
   "source": [
    "gdf_reproj[list_name_attributes[0]][gdf_reproj[list_name_attributes[0]].isna()]"
   ]
  },
  {
   "cell_type": "code",
   "execution_count": 35,
   "metadata": {},
   "outputs": [
    {
     "data": {
      "text/plain": [
       "Series([], Name: t2_dsc_31, dtype: object)"
      ]
     },
     "execution_count": 35,
     "metadata": {},
     "output_type": "execute_result"
    }
   ],
   "source": [
    "gdf_reproj[list_name_attributes[1]][gdf_reproj[list_name_attributes[0]].isna()]"
   ]
  },
  {
   "cell_type": "code",
   "execution_count": 36,
   "metadata": {},
   "outputs": [
    {
     "data": {
      "text/plain": [
       "Series([], Name: t1_dsc_17, dtype: object)"
      ]
     },
     "execution_count": 36,
     "metadata": {},
     "output_type": "execute_result"
    }
   ],
   "source": [
    "gdf_reproj[list_name_attributes[2]][gdf_reproj[list_name_attributes[0]].isna()]"
   ]
  },
  {
   "cell_type": "code",
   "execution_count": 37,
   "metadata": {},
   "outputs": [
    {
     "data": {
      "text/plain": [
       "Series([], Name: t1_dsc_17, dtype: object)"
      ]
     },
     "execution_count": 37,
     "metadata": {},
     "output_type": "execute_result"
    }
   ],
   "source": [
    "gdf_reproj[list_name_attributes[2]][gdf_reproj[list_name_attributes[0]].isna()]"
   ]
  },
  {
   "cell_type": "markdown",
   "metadata": {},
   "source": [
    "**Normalize text**"
   ]
  },
  {
   "cell_type": "code",
   "execution_count": 38,
   "metadata": {},
   "outputs": [],
   "source": [
    "import unicodedata"
   ]
  },
  {
   "cell_type": "code",
   "execution_count": 39,
   "metadata": {},
   "outputs": [],
   "source": [
    "def normalize_name_classes(string):\n",
    "    return unicodedata.normalize('NFKD', string).encode('ASCII','ignore').decode('utf-8')"
   ]
  },
  {
   "cell_type": "code",
   "execution_count": 40,
   "metadata": {},
   "outputs": [
    {
     "data": {
      "text/html": [
       "<div>\n",
       "<style scoped>\n",
       "    .dataframe tbody tr th:only-of-type {\n",
       "        vertical-align: middle;\n",
       "    }\n",
       "\n",
       "    .dataframe tbody tr th {\n",
       "        vertical-align: top;\n",
       "    }\n",
       "\n",
       "    .dataframe thead th {\n",
       "        text-align: right;\n",
       "    }\n",
       "</style>\n",
       "<table border=\"1\" class=\"dataframe\">\n",
       "  <thead>\n",
       "    <tr style=\"text-align: right;\">\n",
       "      <th></th>\n",
       "      <th>t1_dsc_31</th>\n",
       "      <th>t2_dsc_31</th>\n",
       "      <th>t1_dsc_17</th>\n",
       "      <th>t2_dsc_17</th>\n",
       "      <th>cmb_dsc_31</th>\n",
       "      <th>cmb_dsc_17</th>\n",
       "    </tr>\n",
       "  </thead>\n",
       "  <tbody>\n",
       "    <tr>\n",
       "      <th>0</th>\n",
       "      <td>Tierras Agrícolas</td>\n",
       "      <td>Pastizales</td>\n",
       "      <td>Tierras agrícolas</td>\n",
       "      <td>Pastizales y otra vegetación herbácea</td>\n",
       "      <td>Tierras Agrícolas - Pastizales</td>\n",
       "      <td>Tierras agrícolas - Pastizales y otra vegetaci...</td>\n",
       "    </tr>\n",
       "    <tr>\n",
       "      <th>1</th>\n",
       "      <td>Pastizales</td>\n",
       "      <td>Bosque de Encino y Bosque de Galería</td>\n",
       "      <td>Pastizales y otra vegetación herbácea</td>\n",
       "      <td>Bosques latifoliados</td>\n",
       "      <td>Pastizales - Bosque de Encino y Bosque de Galería</td>\n",
       "      <td>Pastizales y otra vegetación herbácea - Bosque...</td>\n",
       "    </tr>\n",
       "    <tr>\n",
       "      <th>2</th>\n",
       "      <td>Matorral Crasicaule</td>\n",
       "      <td>Pastizales</td>\n",
       "      <td>Matorral alto denso</td>\n",
       "      <td>Pastizales y otra vegetación herbácea</td>\n",
       "      <td>Matorral Crasicaule - Pastizales</td>\n",
       "      <td>Matorral alto denso - Pastizales y otra vegeta...</td>\n",
       "    </tr>\n",
       "    <tr>\n",
       "      <th>3</th>\n",
       "      <td>Pastizales</td>\n",
       "      <td>Matorral Crasicaule</td>\n",
       "      <td>Pastizales y otra vegetación herbácea</td>\n",
       "      <td>Matorral alto denso</td>\n",
       "      <td>Pastizales - Matorral Crasicaule</td>\n",
       "      <td>Pastizales y otra vegetación herbácea - Matorr...</td>\n",
       "    </tr>\n",
       "    <tr>\n",
       "      <th>4</th>\n",
       "      <td>Pastizales</td>\n",
       "      <td>Bosque de Encino y Bosque de Galería</td>\n",
       "      <td>Pastizales y otra vegetación herbácea</td>\n",
       "      <td>Bosques latifoliados</td>\n",
       "      <td>Pastizales - Bosque de Encino y Bosque de Galería</td>\n",
       "      <td>Pastizales y otra vegetación herbácea - Bosque...</td>\n",
       "    </tr>\n",
       "  </tbody>\n",
       "</table>\n",
       "</div>"
      ],
      "text/plain": [
       "             t1_dsc_31                             t2_dsc_31  \\\n",
       "0    Tierras Agrícolas                            Pastizales   \n",
       "1           Pastizales  Bosque de Encino y Bosque de Galería   \n",
       "2  Matorral Crasicaule                            Pastizales   \n",
       "3           Pastizales                   Matorral Crasicaule   \n",
       "4           Pastizales  Bosque de Encino y Bosque de Galería   \n",
       "\n",
       "                               t1_dsc_17  \\\n",
       "0                      Tierras agrícolas   \n",
       "1  Pastizales y otra vegetación herbácea   \n",
       "2                    Matorral alto denso   \n",
       "3  Pastizales y otra vegetación herbácea   \n",
       "4  Pastizales y otra vegetación herbácea   \n",
       "\n",
       "                               t2_dsc_17  \\\n",
       "0  Pastizales y otra vegetación herbácea   \n",
       "1                   Bosques latifoliados   \n",
       "2  Pastizales y otra vegetación herbácea   \n",
       "3                    Matorral alto denso   \n",
       "4                   Bosques latifoliados   \n",
       "\n",
       "                                          cmb_dsc_31  \\\n",
       "0                     Tierras Agrícolas - Pastizales   \n",
       "1  Pastizales - Bosque de Encino y Bosque de Galería   \n",
       "2                   Matorral Crasicaule - Pastizales   \n",
       "3                   Pastizales - Matorral Crasicaule   \n",
       "4  Pastizales - Bosque de Encino y Bosque de Galería   \n",
       "\n",
       "                                          cmb_dsc_17  \n",
       "0  Tierras agrícolas - Pastizales y otra vegetaci...  \n",
       "1  Pastizales y otra vegetación herbácea - Bosque...  \n",
       "2  Matorral alto denso - Pastizales y otra vegeta...  \n",
       "3  Pastizales y otra vegetación herbácea - Matorr...  \n",
       "4  Pastizales y otra vegetación herbácea - Bosque...  "
      ]
     },
     "execution_count": 40,
     "metadata": {},
     "output_type": "execute_result"
    }
   ],
   "source": [
    "gdf_reproj[gdf_reproj.columns & list_name_attributes].head()"
   ]
  },
  {
   "cell_type": "code",
   "execution_count": 41,
   "metadata": {},
   "outputs": [],
   "source": [
    "gdf_reproj[gdf_reproj.columns & list_name_attributes] = gdf_reproj[gdf_reproj.columns & list_name_attributes].apply(lambda s: s.apply(normalize_name_classes))"
   ]
  },
  {
   "cell_type": "code",
   "execution_count": 42,
   "metadata": {},
   "outputs": [
    {
     "data": {
      "text/html": [
       "<div>\n",
       "<style scoped>\n",
       "    .dataframe tbody tr th:only-of-type {\n",
       "        vertical-align: middle;\n",
       "    }\n",
       "\n",
       "    .dataframe tbody tr th {\n",
       "        vertical-align: top;\n",
       "    }\n",
       "\n",
       "    .dataframe thead th {\n",
       "        text-align: right;\n",
       "    }\n",
       "</style>\n",
       "<table border=\"1\" class=\"dataframe\">\n",
       "  <thead>\n",
       "    <tr style=\"text-align: right;\">\n",
       "      <th></th>\n",
       "      <th>t1_dsc_31</th>\n",
       "      <th>t2_dsc_31</th>\n",
       "      <th>t1_dsc_17</th>\n",
       "      <th>t2_dsc_17</th>\n",
       "      <th>cmb_dsc_31</th>\n",
       "      <th>cmb_dsc_17</th>\n",
       "    </tr>\n",
       "  </thead>\n",
       "  <tbody>\n",
       "    <tr>\n",
       "      <th>0</th>\n",
       "      <td>Tierras Agricolas</td>\n",
       "      <td>Pastizales</td>\n",
       "      <td>Tierras agricolas</td>\n",
       "      <td>Pastizales y otra vegetacion herbacea</td>\n",
       "      <td>Tierras Agricolas - Pastizales</td>\n",
       "      <td>Tierras agricolas - Pastizales y otra vegetaci...</td>\n",
       "    </tr>\n",
       "    <tr>\n",
       "      <th>1</th>\n",
       "      <td>Pastizales</td>\n",
       "      <td>Bosque de Encino y Bosque de Galeria</td>\n",
       "      <td>Pastizales y otra vegetacion herbacea</td>\n",
       "      <td>Bosques latifoliados</td>\n",
       "      <td>Pastizales - Bosque de Encino y Bosque de Galeria</td>\n",
       "      <td>Pastizales y otra vegetacion herbacea - Bosque...</td>\n",
       "    </tr>\n",
       "    <tr>\n",
       "      <th>2</th>\n",
       "      <td>Matorral Crasicaule</td>\n",
       "      <td>Pastizales</td>\n",
       "      <td>Matorral alto denso</td>\n",
       "      <td>Pastizales y otra vegetacion herbacea</td>\n",
       "      <td>Matorral Crasicaule - Pastizales</td>\n",
       "      <td>Matorral alto denso - Pastizales y otra vegeta...</td>\n",
       "    </tr>\n",
       "    <tr>\n",
       "      <th>3</th>\n",
       "      <td>Pastizales</td>\n",
       "      <td>Matorral Crasicaule</td>\n",
       "      <td>Pastizales y otra vegetacion herbacea</td>\n",
       "      <td>Matorral alto denso</td>\n",
       "      <td>Pastizales - Matorral Crasicaule</td>\n",
       "      <td>Pastizales y otra vegetacion herbacea - Matorr...</td>\n",
       "    </tr>\n",
       "    <tr>\n",
       "      <th>4</th>\n",
       "      <td>Pastizales</td>\n",
       "      <td>Bosque de Encino y Bosque de Galeria</td>\n",
       "      <td>Pastizales y otra vegetacion herbacea</td>\n",
       "      <td>Bosques latifoliados</td>\n",
       "      <td>Pastizales - Bosque de Encino y Bosque de Galeria</td>\n",
       "      <td>Pastizales y otra vegetacion herbacea - Bosque...</td>\n",
       "    </tr>\n",
       "  </tbody>\n",
       "</table>\n",
       "</div>"
      ],
      "text/plain": [
       "             t1_dsc_31                             t2_dsc_31  \\\n",
       "0    Tierras Agricolas                            Pastizales   \n",
       "1           Pastizales  Bosque de Encino y Bosque de Galeria   \n",
       "2  Matorral Crasicaule                            Pastizales   \n",
       "3           Pastizales                   Matorral Crasicaule   \n",
       "4           Pastizales  Bosque de Encino y Bosque de Galeria   \n",
       "\n",
       "                               t1_dsc_17  \\\n",
       "0                      Tierras agricolas   \n",
       "1  Pastizales y otra vegetacion herbacea   \n",
       "2                    Matorral alto denso   \n",
       "3  Pastizales y otra vegetacion herbacea   \n",
       "4  Pastizales y otra vegetacion herbacea   \n",
       "\n",
       "                               t2_dsc_17  \\\n",
       "0  Pastizales y otra vegetacion herbacea   \n",
       "1                   Bosques latifoliados   \n",
       "2  Pastizales y otra vegetacion herbacea   \n",
       "3                    Matorral alto denso   \n",
       "4                   Bosques latifoliados   \n",
       "\n",
       "                                          cmb_dsc_31  \\\n",
       "0                     Tierras Agricolas - Pastizales   \n",
       "1  Pastizales - Bosque de Encino y Bosque de Galeria   \n",
       "2                   Matorral Crasicaule - Pastizales   \n",
       "3                   Pastizales - Matorral Crasicaule   \n",
       "4  Pastizales - Bosque de Encino y Bosque de Galeria   \n",
       "\n",
       "                                          cmb_dsc_17  \n",
       "0  Tierras agricolas - Pastizales y otra vegetaci...  \n",
       "1  Pastizales y otra vegetacion herbacea - Bosque...  \n",
       "2  Matorral alto denso - Pastizales y otra vegeta...  \n",
       "3  Pastizales y otra vegetacion herbacea - Matorr...  \n",
       "4  Pastizales y otra vegetacion herbacea - Bosque...  "
      ]
     },
     "execution_count": 42,
     "metadata": {},
     "output_type": "execute_result"
    }
   ],
   "source": [
    "gdf_reproj[gdf_reproj.columns & list_name_attributes].head()"
   ]
  },
  {
   "cell_type": "code",
   "execution_count": null,
   "metadata": {},
   "outputs": [],
   "source": []
  }
 ],
 "metadata": {
  "kernelspec": {
   "display_name": "Python 3",
   "language": "python",
   "name": "python3"
  },
  "language_info": {
   "codemirror_mode": {
    "name": "ipython",
    "version": 3
   },
   "file_extension": ".py",
   "mimetype": "text/x-python",
   "name": "python",
   "nbconvert_exporter": "python",
   "pygments_lexer": "ipython3",
   "version": "3.6.9"
  }
 },
 "nbformat": 4,
 "nbformat_minor": 4
}
