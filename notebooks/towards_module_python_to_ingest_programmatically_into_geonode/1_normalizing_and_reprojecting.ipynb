{
 "cells": [
  {
   "cell_type": "markdown",
   "metadata": {},
   "source": [
    "# 1) Large size vectors: lcc MAD-Mex"
   ]
  },
  {
   "cell_type": "markdown",
   "metadata": {},
   "source": [
    "## a) Normalize, reproject to wgs84"
   ]
  },
  {
   "cell_type": "code",
   "execution_count": null,
   "metadata": {},
   "outputs": [],
   "source": [
    "import os"
   ]
  },
  {
   "cell_type": "code",
   "execution_count": 2,
   "metadata": {},
   "outputs": [],
   "source": [
    "cur_directory = os.getcwd()"
   ]
  },
  {
   "cell_type": "code",
   "execution_count": 3,
   "metadata": {},
   "outputs": [],
   "source": [
    "dir_alg_python = '/LUSTRE/MADMEX/tasks/2020/6_geonode/geonode-issue-3/python3_package_for_geonode/geonode_conabio'"
   ]
  },
  {
   "cell_type": "code",
   "execution_count": 4,
   "metadata": {},
   "outputs": [],
   "source": [
    "os.chdir(dir_alg_python)"
   ]
  },
  {
   "cell_type": "code",
   "execution_count": 5,
   "metadata": {},
   "outputs": [],
   "source": [
    "import fiona\n",
    "from pyproj import Proj\n",
    "from fiona.crs import to_string\n",
    "\n",
    "from wrappers import reproj_normalize_and_write_large_vector\n"
   ]
  },
  {
   "cell_type": "code",
   "execution_count": 7,
   "metadata": {},
   "outputs": [],
   "source": [
    "#direc = \"/LUSTRE/MADMEX/products/landcoverchange/landsat/mosaics/2017_2018\"\n",
    "direc = \"/LUSTRE/MADMEX/products/landcoverchange/sentinel2/2017_2018/indi50k/estados/HIDALGO/\""
   ]
  },
  {
   "cell_type": "code",
   "execution_count": 8,
   "metadata": {},
   "outputs": [],
   "source": [
    "#input_filename = direc + \"/madmex_landsat_changes_2017-2018.shp\"\n",
    "#output_filename = direc + \"/madmex_landsat_changes_2017-2018_wgs84_using_fiona.shp\"\n",
    "#layer = \"madmex_landsat_changes_2017-2018_wgs84_using_fiona\"\n",
    "input_filename = direc + \"HIDALGO_merge.shp\"\n",
    "output_filename = direc + \"HIDALGO_merge_wgs84_using_fiona.shp\"\n",
    "layer = \"HIDALGO_merge_wgs84_using_fiona\"\n",
    "#dst_crs = \"4326\"\n",
    "name_attribute1 = \"t1_dsc_31\"\n",
    "name_attribute2 = \"t2_dsc_31\"\n",
    "name_attribute3 = \"t1_dsc_17\"\n",
    "name_attribute4 = \"t2_dsc_17\"\n",
    "name_attribute5 = \"cmb_dsc_31\"\n",
    "name_attribute6 = \"cmb_dsc_17\""
   ]
  },
  {
   "cell_type": "code",
   "execution_count": 9,
   "metadata": {},
   "outputs": [],
   "source": [
    "list_name_attributes = [name_attribute1, name_attribute2,\n",
    "                        name_attribute3, name_attribute4,\n",
    "                        name_attribute5, name_attribute6]"
   ]
  },
  {
   "cell_type": "markdown",
   "metadata": {},
   "source": [
    "**Read and call wrapper**"
   ]
  },
  {
   "cell_type": "code",
   "execution_count": 13,
   "metadata": {},
   "outputs": [],
   "source": [
    "with fiona.open(input_filename) as src:\n",
    "    fc = (feature for feature in src if not None in [feature['properties'][att] for att in list_name_attributes] and\n",
    "                                                     feature['geometry'] is not None)\n",
    "    src_crs = to_string(src.crs)\n",
    "    proj_src_crs = Proj(src_crs)\n",
    "    fc_schema = src.schema\n",
    "    if not proj_src_crs.crs.is_geographic:\n",
    "        reproj_normalize_and_write_large_vector(fc, fc_schema,\n",
    "                                                list_name_attributes,\n",
    "                                                layer,\n",
    "                                                output_filename,\n",
    "                                                src_crs, \n",
    "                                                is_geographic = False\n",
    "                                                )\n",
    "    else:\n",
    "        reproj_normalize_and_write_large_vector(fc, fc_schema, \n",
    "                                                list_name_attributes,\n",
    "                                                layer,\n",
    "                                                output_filename,\n",
    "                                                src_crs\n",
    "                                                )\n",
    "        "
   ]
  },
  {
   "cell_type": "markdown",
   "metadata": {},
   "source": [
    "## b) Register large vector layer in geonode via `shp2pgsql` and `updatelayers`"
   ]
  },
  {
   "cell_type": "markdown",
   "metadata": {},
   "source": [
    "**Make sure stack deployment of geonode is up and running**"
   ]
  },
  {
   "cell_type": "markdown",
   "metadata": {},
   "source": [
    "**1) Create `~/.pgpass` with contents: `hostname:port:database:username:password` and `chmod 0600 ~/.pgpass`**"
   ]
  },
  {
   "cell_type": "code",
   "execution_count": 9,
   "metadata": {},
   "outputs": [],
   "source": [
    "from utils_cli import create_table_via_shp2pgsql"
   ]
  },
  {
   "cell_type": "code",
   "execution_count": 10,
   "metadata": {},
   "outputs": [],
   "source": [
    "#next need to be in lowercase\n",
    "name_table = \"hidalgo_madmex_lcc_2017_2018_fiona\" #madmex_landsat_2017-2018_lcc\n"
   ]
  },
  {
   "cell_type": "code",
   "execution_count": 24,
   "metadata": {},
   "outputs": [
    {
     "name": "stdout",
     "output_type": "stream",
     "text": [
      "hidalgo_madmex_lcc_2017_2018_fiona\n",
      "after wait\n"
     ]
    }
   ],
   "source": [
    "[result_create_table, name_table, out, err] = create_table_via_shp2pgsql(output_filename, name_table)"
   ]
  },
  {
   "cell_type": "code",
   "execution_count": 25,
   "metadata": {},
   "outputs": [
    {
     "name": "stdout",
     "output_type": "stream",
     "text": [
      "(0, None, b'')\n"
     ]
    }
   ],
   "source": [
    "print((result_create_table, out, err))"
   ]
  },
  {
   "cell_type": "markdown",
   "metadata": {},
   "source": [
    "**2) Add to geoserver from geonode_data database**. Need to follow: https://training.geonode.geo-solutions.it/004_admin_workshop/007_loading_data_into_geonode/geoserver.html"
   ]
  },
  {
   "cell_type": "code",
   "execution_count": 1,
   "metadata": {},
   "outputs": [],
   "source": [
    "from docker import APIClient\n"
   ]
  },
  {
   "cell_type": "code",
   "execution_count": 2,
   "metadata": {},
   "outputs": [],
   "source": [
    "c = APIClient(base_url='unix://var/run/docker.sock')"
   ]
  },
  {
   "cell_type": "code",
   "execution_count": 3,
   "metadata": {},
   "outputs": [],
   "source": [
    "string1 = \"from geoserver.catalog import Catalog;\"\n"
   ]
  },
  {
   "cell_type": "code",
   "execution_count": 4,
   "metadata": {},
   "outputs": [],
   "source": [
    "string2 = \"cat = Catalog('http://geonode.conabio.gob.mx' + '/geoserver/rest', \\'\""
   ]
  },
  {
   "cell_type": "code",
   "execution_count": 5,
   "metadata": {},
   "outputs": [],
   "source": [
    "user = \"miuser\""
   ]
  },
  {
   "cell_type": "code",
   "execution_count": 6,
   "metadata": {},
   "outputs": [],
   "source": [
    "passwd = \"mipassword\""
   ]
  },
  {
   "cell_type": "code",
   "execution_count": 8,
   "metadata": {},
   "outputs": [],
   "source": [
    "string3 = \"gstore = cat.get_stores(names=['geonode_data'], workspaces=['geonode']);\""
   ]
  },
  {
   "cell_type": "code",
   "execution_count": 9,
   "metadata": {},
   "outputs": [],
   "source": [
    "epsg_code = \"EPSG:4326\""
   ]
  },
  {
   "cell_type": "code",
   "execution_count": 10,
   "metadata": {},
   "outputs": [],
   "source": [
    "native_name = \"aguascalientes_merge_wgs84_fiona\""
   ]
  },
  {
   "cell_type": "code",
   "execution_count": 11,
   "metadata": {},
   "outputs": [],
   "source": [
    "string4 = \"cat.publish_featuretype(native_name, gstore[0], epsg_code, native_name=native_name)\""
   ]
  },
  {
   "cell_type": "code",
   "execution_count": 12,
   "metadata": {},
   "outputs": [],
   "source": [
    "string = \"\".join([string, string2, \n",
    "                  user, \"\\', \", \"\\'\", passwd, \"\\');\",\n",
    "                  string3,\n",
    "                  \"native_name = \\'\", native_name, \"\\';\", \n",
    "                  \"epsg_code = \\'\", epsg_code, \"\\';\", \n",
    "                  string4])"
   ]
  },
  {
   "cell_type": "code",
   "execution_count": 14,
   "metadata": {},
   "outputs": [],
   "source": [
    "cmd = \"\".join([\"python -c \", \"\\\"\", string, \"\\\"\"])"
   ]
  },
  {
   "cell_type": "code",
   "execution_count": 16,
   "metadata": {},
   "outputs": [],
   "source": [
    "ex = c.exec_create(container = 'spcgeonode_django_1', \n",
    "                   cmd = cmd)\n"
   ]
  },
  {
   "cell_type": "code",
   "execution_count": 17,
   "metadata": {},
   "outputs": [],
   "source": [
    "ex_start = c.exec_start(exec_id=ex)"
   ]
  },
  {
   "cell_type": "code",
   "execution_count": 18,
   "metadata": {},
   "outputs": [
    {
     "name": "stdout",
     "output_type": "stream",
     "text": [
      "b'Traceback (most recent call last):\\n  File \"<string>\", line 1, in <module>\\n  File \"/usr/local/lib/python3.7/site-packages/geoserver/catalog.py\", line 889, in publish_featuretype\\n    raise FailedRequestError(\\'Failed to publish feature type {} : {}, {}\\'.format(name, resp.status_code, resp.text))\\ngeoserver.catalog.FailedRequestError: Failed to publish feature type aguascalientes_merge_wgs84_fiona : 500, Resource named \\'aguascalientes_merge_wgs84_fiona\\' already exists in store: \\'geonode_data\\'\\n'\n"
     ]
    }
   ],
   "source": [
    "print(ex_start)"
   ]
  },
  {
   "cell_type": "markdown",
   "metadata": {},
   "source": [
    "**3) Update layers using docker container `spcgeonode_django_1`**"
   ]
  },
  {
   "cell_type": "code",
   "execution_count": 11,
   "metadata": {},
   "outputs": [],
   "source": [
    "from utils_docker import update_layers_via_docker"
   ]
  },
  {
   "cell_type": "code",
   "execution_count": 12,
   "metadata": {},
   "outputs": [],
   "source": [
    "result_update = update_layers_via_docker(name_table)"
   ]
  },
  {
   "cell_type": "code",
   "execution_count": 14,
   "metadata": {},
   "outputs": [],
   "source": [
    "#print(result_update)"
   ]
  },
  {
   "cell_type": "markdown",
   "metadata": {},
   "source": [
    "**4) Make sure you are able to download it and see thumbnail. If not click to button refresh attributes and statistics for the layer in geonode. For thumbnail increase nginx conf proxy_read_timeout parameter.**"
   ]
  },
  {
   "cell_type": "markdown",
   "metadata": {},
   "source": [
    "# 2) Small or medium size raster: lc MAD-Mex"
   ]
  },
  {
   "cell_type": "markdown",
   "metadata": {},
   "source": [
    "## a) Reproject to wgs84, compress and tile it"
   ]
  },
  {
   "cell_type": "markdown",
   "metadata": {},
   "source": [
    "Based on: \n",
    "\n",
    "https://rasterio.readthedocs.io/en/latest/topics/reproject.html\n",
    "\n",
    "https://rasterio.readthedocs.io/en/latest/topics/image_options.html"
   ]
  },
  {
   "cell_type": "code",
   "execution_count": 1,
   "metadata": {},
   "outputs": [],
   "source": [
    "from pyproj import Proj\n",
    "import rasterio\n",
    "\n",
    "from geonode_conabio.wrappers import reproj_and_write_one_band_raster"
   ]
  },
  {
   "cell_type": "code",
   "execution_count": 2,
   "metadata": {},
   "outputs": [],
   "source": [
    "#direc = '/LUSTRE/MADMEX/products/landcover/sentinel2/2017/31'\n",
    "#direc = '/LUSTRE/MADMEX/products/landcover/sentinel2/2017/estados/Aguascalientes/31/'\n",
    "#direc = '/LUSTRE/MADMEX/products/landcover/sentinel2/2017/estados/Hidalgo/31/'\n",
    "direc = '/LUSTRE/MADMEX/products/landcover/landsat/2015/32/'"
   ]
  },
  {
   "cell_type": "code",
   "execution_count": 4,
   "metadata": {},
   "outputs": [],
   "source": [
    "#input_filename = ''.join([direc, '/madmex_sentinel2_2017_31.tif'])\n",
    "#output_filename = ''.join([direc, '/madmex_sentinel2_2017_31_wgs84_tiled_rasterio.tif'])\n",
    "#input_filename = ''.join([direc, '/Aguascalientes_2017_31.tif'])\n",
    "#output_filename = ''.join([direc, '/Aguascalientes_2017_31_wgs84_tiled_rasterio.tif'])\n",
    "#input_filename = ''.join([direc, '/Hidalgo_2017_31.tif'])\n",
    "#output_filename = ''.join([direc, '/Hidalgo_2017_31_wgs84_tiled_rasterio.tif'])\n",
    "#input_filename = \"\".join([direc, \"/eoss4tnc_landcover_landsat8_2016_20200220_auxlabel_madmexplus_QRO.tif\"])\n",
    "#output_filename = \"\".join([direc, \"/eoss4tnc_landcover_landsat8_2016_20200220_auxlabel_madmexplus_QRO_rasterio.tif\"])\n",
    "input_filename = \"\".join([direc, \"madmex_lc_2015.tif\"])\n",
    "output_filename = \"\".join([direc, \"madmex_lc_2015_wgs84_tiled_rasterio.tif\"])\n",
    "#dst_crs = 'EPSG:4326'"
   ]
  },
  {
   "cell_type": "code",
   "execution_count": 5,
   "metadata": {},
   "outputs": [],
   "source": [
    "with rasterio.open(input_filename) as src:\n",
    "    src_crs = src.crs.to_string()\n",
    "    proj_crs = Proj(src_crs)\n",
    "    if not proj_crs.crs.is_geographic:\n",
    "        reproj_and_write_one_band_raster(src, output_filename,\n",
    "                                         is_geographic=False)\n",
    "    else:\n",
    "        reproj_and_write_one_band_raster(src, output_filename)"
   ]
  },
  {
   "cell_type": "markdown",
   "metadata": {},
   "source": [
    "## b) Register small, medium or large raster layer in geonode via `importlayers`"
   ]
  },
  {
   "cell_type": "markdown",
   "metadata": {},
   "source": [
    "**1) Importlayers cmd**"
   ]
  },
  {
   "cell_type": "code",
   "execution_count": 1,
   "metadata": {},
   "outputs": [],
   "source": [
    "direc = '/LUSTRE/MADMEX/products/landcover/landsat/2015/32/'"
   ]
  },
  {
   "cell_type": "code",
   "execution_count": 2,
   "metadata": {},
   "outputs": [],
   "source": [
    "output_filename = \"\".join([direc, \"madmex_lc_2015_wgs84_tiled_rasterio.tif\"])"
   ]
  },
  {
   "cell_type": "code",
   "execution_count": 3,
   "metadata": {},
   "outputs": [],
   "source": [
    "region = \"Mexico, North America, Latin America\"\n",
    "name=\"National_MAD-Mex_landsat8_lc_2015_32_classes\"\n",
    "title=\"National land cover map 2015 32 classes\"\n",
    "kw=\"MAD-Mex, Landsat8, GeoTIFF, WCS\"\n",
    "abstract=\"Land cover sourced by Landsat8 satellite images. All available images for the required calendar years were acquired through the ESPA processing system and were provided as atmospherically corrected surface reflectance and are accompanied by quality layers assigning, amongst others, pixels obscured by clouds and cloud shadows. Land cover is generated using a novel semi automated workflow based on time series processing and optimized training data generation. The workflow consists of the following procedures, including data acquisition, time series generation and processing, spectral clustering, training data generation and optimization, supervised object-based classifications, and geometry harmonization. \"\n"
   ]
  },
  {
   "cell_type": "code",
   "execution_count": 4,
   "metadata": {},
   "outputs": [],
   "source": [
    "region = ''.join([\"\\\"\", region, \"\\\"\"])\n",
    "name = ''.join([\"\\\"\", name, \"\\\"\"])\n",
    "title = ''.join([\"\\\"\", title, \"\\\"\"])\n",
    "abstract = ''.join([\"\\\"\", abstract, \"\\\"\"])\n",
    "kw = ''.join([\"\\\"\", kw, \"\\\"\"])"
   ]
  },
  {
   "cell_type": "code",
   "execution_count": 5,
   "metadata": {},
   "outputs": [
    {
     "name": "stderr",
     "output_type": "stream",
     "text": [
      "/LUSTRE/MADMEX/tasks/2020/6_geonode/geonode-master/python3_package_for_geonode/geonode_conabio/settings.py:12: UserWarning: No configuration file found in /root/.geonode_conabio, some functionalities won't be available\n",
      "  warnings.warn('No configuration file found in %s, some functionalities won\\'t be available' % dotenv_path)\n"
     ]
    }
   ],
   "source": [
    "from geonode_conabio.utils_docker import import_layers_via_docker"
   ]
  },
  {
   "cell_type": "code",
   "execution_count": 6,
   "metadata": {},
   "outputs": [],
   "source": [
    "result_import = import_layers_via_docker(region, name, title,\n",
    "                                         abstract, kw,\n",
    "                                         output_filename\n",
    "                                         )"
   ]
  },
  {
   "cell_type": "code",
   "execution_count": 14,
   "metadata": {},
   "outputs": [],
   "source": [
    "#print(result_import)"
   ]
  },
  {
   "cell_type": "markdown",
   "metadata": {},
   "source": [
    "**2) Make sure you are able to download it and see thumbnail. If not click to button refresh attributes and statistics for the layer in geonode. For thumbnail increase nginx conf proxy_read_timeout parameter.**"
   ]
  },
  {
   "cell_type": "markdown",
   "metadata": {},
   "source": [
    "# 2) Large size raster: lc MAD-Mex"
   ]
  },
  {
   "cell_type": "markdown",
   "metadata": {},
   "source": [
    "## a) Reproject to wgs84, compress and tile it"
   ]
  },
  {
   "cell_type": "code",
   "execution_count": 1,
   "metadata": {},
   "outputs": [],
   "source": [
    "from pyproj import Proj\n",
    "import rasterio\n",
    "\n",
    "from geonode_conabio.wrappers import reproj_and_write_one_band_raster"
   ]
  },
  {
   "cell_type": "code",
   "execution_count": 2,
   "metadata": {},
   "outputs": [],
   "source": [
    "direc = \"/LUSTRE/MADMEX/tnc_data_steffen_thilo/tnc_marismas/\""
   ]
  },
  {
   "cell_type": "code",
   "execution_count": 3,
   "metadata": {},
   "outputs": [],
   "source": [
    "input_filename = \"\".join([direc, \"marismasnacionales_coberturadesuelo_2019_nivel2_final_20190925_relabeled.tif\"])\n",
    "output_filename = \"\".join([direc, \"MAD-Mex_TNC_marismas_nacionales_landsat8_rapideye_lc_2018_2019_13_classes.geotiff\"])\n",
    "#dst_crs = 'EPSG:4326'"
   ]
  },
  {
   "cell_type": "code",
   "execution_count": 4,
   "metadata": {},
   "outputs": [
    {
     "data": {
      "text/plain": [
       "'/LUSTRE/MADMEX/tnc_data_steffen_thilo/tnc_marismas/MAD-Mex_TNC_marismas_nacionales_landsat8_rapideye_lc_2018_2019_13_classes.geotiff'"
      ]
     },
     "execution_count": 4,
     "metadata": {},
     "output_type": "execute_result"
    }
   ],
   "source": [
    "output_filename"
   ]
  },
  {
   "cell_type": "code",
   "execution_count": 5,
   "metadata": {},
   "outputs": [],
   "source": [
    "with rasterio.open(input_filename) as src:   \n",
    "    reproj_and_write_one_band_raster(src, output_filename)"
   ]
  },
  {
   "cell_type": "markdown",
   "metadata": {},
   "source": [
    "## b) Register large raster layer in geonode via `importlayers`"
   ]
  },
  {
   "cell_type": "markdown",
   "metadata": {},
   "source": [
    "**1) Importlayers cmd**"
   ]
  },
  {
   "cell_type": "code",
   "execution_count": 1,
   "metadata": {},
   "outputs": [],
   "source": [
    "direc = '/LUSTRE/MADMEX/products/landcover/landsat/2015/32/'"
   ]
  },
  {
   "cell_type": "code",
   "execution_count": 2,
   "metadata": {},
   "outputs": [],
   "source": [
    "output_filename = \"\".join([direc, \"madmex_lc_2015_wgs84_tiled_rasterio.tif\"])"
   ]
  },
  {
   "cell_type": "code",
   "execution_count": 3,
   "metadata": {},
   "outputs": [],
   "source": [
    "region = \"Mexico, North America, Latin America\"\n",
    "name=\"National_MAD-Mex_landsat8_lc_2015_32_classes\"\n",
    "title=\"National land cover map 2015 32 classes\"\n",
    "kw=\"MAD-Mex, Landsat8, GeoTIFF, WCS\"\n",
    "abstract=\"Land cover sourced by Landsat8 satellite images. All available images for the required calendar years were acquired through the ESPA processing system and were provided as atmospherically corrected surface reflectance and are accompanied by quality layers assigning, amongst others, pixels obscured by clouds and cloud shadows. Land cover is generated using a novel semi automated workflow based on time series processing and optimized training data generation. The workflow consists of the following procedures, including data acquisition, time series generation and processing, spectral clustering, training data generation and optimization, supervised object-based classifications, and geometry harmonization. \"\n"
   ]
  },
  {
   "cell_type": "code",
   "execution_count": 4,
   "metadata": {},
   "outputs": [],
   "source": [
    "region = ''.join([\"\\\"\", region, \"\\\"\"])\n",
    "name = ''.join([\"\\\"\", name, \"\\\"\"])\n",
    "title = ''.join([\"\\\"\", title, \"\\\"\"])\n",
    "abstract = ''.join([\"\\\"\", abstract, \"\\\"\"])\n",
    "kw = ''.join([\"\\\"\", kw, \"\\\"\"])"
   ]
  },
  {
   "cell_type": "code",
   "execution_count": 5,
   "metadata": {},
   "outputs": [
    {
     "name": "stderr",
     "output_type": "stream",
     "text": [
      "/LUSTRE/MADMEX/tasks/2020/6_geonode/geonode-master/python3_package_for_geonode/geonode_conabio/settings.py:12: UserWarning: No configuration file found in /root/.geonode_conabio, some functionalities won't be available\n",
      "  warnings.warn('No configuration file found in %s, some functionalities won\\'t be available' % dotenv_path)\n"
     ]
    }
   ],
   "source": [
    "from geonode_conabio.utils_docker import import_layers_via_docker"
   ]
  },
  {
   "cell_type": "code",
   "execution_count": 6,
   "metadata": {},
   "outputs": [],
   "source": [
    "result_import = import_layers_via_docker(region, name, title,\n",
    "                                         abstract, kw,\n",
    "                                         output_filename\n",
    "                                         )"
   ]
  },
  {
   "cell_type": "code",
   "execution_count": 14,
   "metadata": {},
   "outputs": [],
   "source": [
    "#print(result_import)"
   ]
  },
  {
   "cell_type": "markdown",
   "metadata": {},
   "source": [
    "**2) Make sure you are able to download it and see thumbnail. If not click to button refresh attributes and statistics for the layer in geonode. For thumbnail increase nginx conf proxy_read_timeout parameter.**"
   ]
  },
  {
   "cell_type": "markdown",
   "metadata": {},
   "source": [
    "**3) Pack tif and style into zip and copy to path for ftp**"
   ]
  },
  {
   "cell_type": "markdown",
   "metadata": {},
   "source": [
    "**Read sld and write cmap to raster**"
   ]
  },
  {
   "cell_type": "markdown",
   "metadata": {},
   "source": [
    "References:\n",
    "\n",
    "https://github.com/CONABIO/antares3-sandbox/blob/master/notebooks/forests_maps_julian/model_predict_and_db_to_raster_pipeline.ipynb\n",
    "\n",
    "https://github.com/CONABIO/antares3/blob/develop/madmex/util/db.py\n",
    "\n",
    "https://github.com/CONABIO/antares3-sandbox/blob/master/notebooks/rapideye_parsing_metadaata/metadata_parser.ipynb"
   ]
  },
  {
   "cell_type": "markdown",
   "metadata": {},
   "source": [
    "References for zipfile:\n",
    "\n",
    "https://thispointer.com/python-how-to-create-a-zip-archive-from-multiple-files-or-directory/\n",
    "\n",
    "https://stackoverflow.com/questions/1855095/how-to-create-a-zip-archive-of-a-directory-in-python"
   ]
  },
  {
   "cell_type": "markdown",
   "metadata": {},
   "source": [
    "```\n",
    "/shared_volume/geonode/scripts/spcgeonode/_volume_geodatadir/workspaces/geonode/styles/madmex_32_classes.sld\n",
    "\n",
    "/shared_volume/geonode/scripts/spcgeonode/_volume_geodatadir/workspaces/geonode/styles/madmex_31_classes.sld\n",
    "\n",
    "/shared_volume/geonode/scripts/spcgeonode/_volume_geodatadir/data/geonode/Test3_National_MAD-Mex_landsat8_lc_2015_32_classes_512_512/Test3_National_MAD-Mex_landsat8_lc_2015_32_classes_512_512.geotiff\n",
    "\n",
    "```"
   ]
  },
  {
   "cell_type": "code",
   "execution_count": 1,
   "metadata": {},
   "outputs": [],
   "source": [
    "title_layer = \"My title\" #this will be input of function\n",
    "destiny_path = \"/data/var/ftp/pub/\" #input of function\n",
    "dir_path_styles_geonode = \"/LUSTRE/MADMEX/geonode_spc_volume/geonode/scripts/spcgeonode/_volume_geodatadir/workspaces/geonode/styles/\" #input of function\n",
    "dir_path_layers_geonode = \"/LUSTRE/MADMEX/geonode_spc_volume/geonode/scripts/spcgeonode/_volume_geodatadir/data/geonode/\" #input of function"
   ]
  },
  {
   "cell_type": "code",
   "execution_count": 2,
   "metadata": {},
   "outputs": [],
   "source": [
    "from geonode_conabio.utils_docker import get_layer_and_style_registered_in_geonode_via_docker\n",
    "from geonode_conabio.utils_style import get_cmap_from_element_list_madmex_style\n",
    "from geonode_conabio.utils_parser import parse_sld_madmex_style"
   ]
  },
  {
   "cell_type": "code",
   "execution_count": 3,
   "metadata": {},
   "outputs": [],
   "source": [
    "result_get = get_layer_and_style_registered_in_geonode_via_docker(title_layer)"
   ]
  },
  {
   "cell_type": "code",
   "execution_count": 4,
   "metadata": {},
   "outputs": [
    {
     "name": "stdout",
     "output_type": "stream",
     "text": [
      "b'National_MAD-Mex_landsat8_lc_2015_32_classes\\nmadmex_landcover_32_classes_raster\\n'\n"
     ]
    }
   ],
   "source": [
    "print(result_get)"
   ]
  },
  {
   "cell_type": "code",
   "execution_count": 5,
   "metadata": {},
   "outputs": [
    {
     "data": {
      "text/plain": [
       "['Test3_National_MAD-Mex_landsat8_lc_2015_32_classes_512_512',\n",
       " 'madmex_32_classes']"
      ]
     },
     "execution_count": 5,
     "metadata": {},
     "output_type": "execute_result"
    }
   ],
   "source": [
    "result_get.decode().split(\"\\n\")[0:2]"
   ]
  },
  {
   "cell_type": "code",
   "execution_count": 6,
   "metadata": {},
   "outputs": [],
   "source": [
    "layer_name, style_name = result_get.decode().split(\"\\n\")[0:2]"
   ]
  },
  {
   "cell_type": "code",
   "execution_count": 7,
   "metadata": {},
   "outputs": [],
   "source": [
    "style_source_path =  dir_path_styles_geonode + style_name + \".sld\"\n",
    "layer_source_path =  dir_path_layers_geonode + layer_name + \"/\" + layer_name + \".geotiff\""
   ]
  },
  {
   "cell_type": "code",
   "execution_count": 8,
   "metadata": {},
   "outputs": [],
   "source": [
    "rf_children = parse_sld_madmex_style(style_source_path)"
   ]
  },
  {
   "cell_type": "code",
   "execution_count": 9,
   "metadata": {},
   "outputs": [],
   "source": [
    "rgb_dict = get_cmap_from_element_list_madmex_style(rf_children)"
   ]
  },
  {
   "cell_type": "code",
   "execution_count": 10,
   "metadata": {},
   "outputs": [],
   "source": [
    "import os\n",
    "import rasterio\n"
   ]
  },
  {
   "cell_type": "markdown",
   "metadata": {},
   "source": [
    "Write cmap to raster"
   ]
  },
  {
   "cell_type": "code",
   "execution_count": 11,
   "metadata": {},
   "outputs": [],
   "source": [
    "layer_cmap_source_path = destiny_path + layer_name + \".geotiff\""
   ]
  },
  {
   "cell_type": "code",
   "execution_count": 12,
   "metadata": {},
   "outputs": [],
   "source": [
    "with rasterio.open(layer_source_path) as src:\n",
    "    arr = src.read(1)\n",
    "    meta = src.meta\n"
   ]
  },
  {
   "cell_type": "code",
   "execution_count": 13,
   "metadata": {},
   "outputs": [],
   "source": [
    "meta[\"compress\"] = \"lzw\""
   ]
  },
  {
   "cell_type": "code",
   "execution_count": 14,
   "metadata": {},
   "outputs": [],
   "source": [
    "with rasterio.open(layer_cmap_source_path, 'w', **meta) as dst:\n",
    "    dst.write(arr, indexes=1)\n",
    "    dst.write_colormap(1,rgb_dict)\n",
    "    cmap_result = dst.colormap(1)"
   ]
  },
  {
   "cell_type": "code",
   "execution_count": 15,
   "metadata": {},
   "outputs": [],
   "source": [
    "import zipfile\n",
    "from os.path import basename"
   ]
  },
  {
   "cell_type": "code",
   "execution_count": 16,
   "metadata": {},
   "outputs": [],
   "source": [
    "zip_file = destiny_path + layer_name + \".zip\""
   ]
  },
  {
   "cell_type": "code",
   "execution_count": 17,
   "metadata": {},
   "outputs": [
    {
     "data": {
      "text/plain": [
       "'/shared_volume/ftp_dir/Test3_National_MAD-Mex_landsat8_lc_2015_32_classes_512_512.zip'"
      ]
     },
     "execution_count": 17,
     "metadata": {},
     "output_type": "execute_result"
    }
   ],
   "source": [
    "zip_file"
   ]
  },
  {
   "cell_type": "code",
   "execution_count": 18,
   "metadata": {},
   "outputs": [],
   "source": [
    "zipf = zipfile.ZipFile(zip_file, 'w', zipfile.ZIP_DEFLATED)\n",
    "zipf.write(style_source_path, basename(style_source_path))\n",
    "zipf.write(layer_cmap_source_path, basename(layer_cmap_source_path))\n",
    "zipf.close()"
   ]
  },
  {
   "cell_type": "code",
   "execution_count": 19,
   "metadata": {},
   "outputs": [],
   "source": [
    "os.remove(layer_cmap_source_path)"
   ]
  },
  {
   "cell_type": "markdown",
   "metadata": {},
   "source": [
    "**4) Execute update link for original dataset**"
   ]
  },
  {
   "cell_type": "markdown",
   "metadata": {},
   "source": [
    "References:\n",
    "\n",
    "\n",
    "https://github.com/GeoNode/geonode/blob/master/geonode/utils.py#L1668\n",
    "\n",
    "https://github.com/GeoNode/geonode/blob/89ea8460f23b90c085b33b10b8f0700b9ab506d4/geonode/base/management/commands/set_all_layers_metadata.py#L116\n",
    "\n",
    "https://github.com/CONABIO/geonode/blob/master/notebooks/3_geonode_metadata_update.ipynb\n",
    "\n"
   ]
  },
  {
   "cell_type": "markdown",
   "metadata": {},
   "source": [
    "In `/shared_volume/geonode/geonode/settings.py` remove `GZIP` as its not working. First stop and then up:\n",
    "\n",
    "```\n",
    "docker-compose stop\n",
    "\n",
    "docker-compose up -d django geoserver postgres nginx\n",
    "```\n",
    "\n",
    "And remove `GZIP` from `/shared_volume/geonode/geonode/settings.py`\n",
    "\n",
    "```\n",
    "DOWNLOAD_FORMATS_RASTER = [\n",
    "    'JPEG',\n",
    "    'PDF',\n",
    "    'PNG',\n",
    "    'ArcGrid',\n",
    "    'GeoTIFF',\n",
    "    'Gtopo30',\n",
    "    'ImageMosaic',\n",
    "    'KML',\n",
    "    'View in Google Earth',\n",
    "    'Tiles',\n",
    "    'GML',\n",
    "    'QGIS layer file (.qlr)',\n",
    "    'QGIS project file (.qgs)',\n",
    "    'Zipped All Files'\n",
    "]\n",
    "```"
   ]
  },
  {
   "cell_type": "markdown",
   "metadata": {},
   "source": [
    "```\n",
    "#being in docker exec -it spcgeonode_django_1 bash\n",
    "\n",
    "import os\n",
    "import django\n",
    "\n",
    "os.chdir(\"/spcgeonode\")\n",
    "\n",
    "os.environ.setdefault(\"DJANGO_SETTINGS_MODULE\", \"geonode.local_settings\")\n",
    "\n",
    "django.setup()\n",
    "\n",
    "from geonode.base.models import Link\n",
    "\n",
    "from geonode.layers.models import Layer\n",
    "\n",
    "layer = Layer.objects.filter(title=\"My title\").first()\n",
    "\n",
    "print(layer.title)\n",
    "\n",
    "download_url = \"the url\"\n",
    "\n",
    "extension = \"zip\"\n",
    "\n",
    "name = \"Original Dataset\" #could be \"Raw Data\"\n",
    "\n",
    "mime = \"application/octet-stream\"\n",
    "\n",
    "link_type = \"original\"\n",
    "\n",
    "Link.objects.update_or_create(resource=layer, url=download_url, defaults=dict(extension=extension, name=name, mime=mime, link_type=link_type))\n",
    "\n",
    "\n",
    "```\n"
   ]
  },
  {
   "cell_type": "markdown",
   "metadata": {},
   "source": [
    "```\n",
    "#to delete link:\n",
    "\n",
    "Link.objects.filter(resource=layer,url=download_url).first().delete()\n",
    "\n",
    "```"
   ]
  },
  {
   "cell_type": "code",
   "execution_count": 20,
   "metadata": {},
   "outputs": [],
   "source": [
    "from geonode_conabio.utils_docker import create_link_in_geonode_for_zip_file_via_docker"
   ]
  },
  {
   "cell_type": "code",
   "execution_count": 21,
   "metadata": {},
   "outputs": [
    {
     "data": {
      "text/plain": [
       "b''"
      ]
     },
     "execution_count": 21,
     "metadata": {},
     "output_type": "execute_result"
    }
   ],
   "source": [
    "create_link_in_geonode_for_zip_file_via_docker(zip_file, title_layer)"
   ]
  },
  {
   "cell_type": "markdown",
   "metadata": {},
   "source": [
    "# 3) Small to Medium size vectors: lcc MAD-Mex\n"
   ]
  },
  {
   "cell_type": "markdown",
   "metadata": {},
   "source": [
    "## a) Normalize, reproject to wgs84"
   ]
  },
  {
   "cell_type": "code",
   "execution_count": 1,
   "metadata": {},
   "outputs": [],
   "source": [
    "import os\n",
    "\n",
    "import geopandas as gpd\n",
    "\n",
    "from geonode_conabio.wrappers import reproj_normalize_and_write_small_medium_size_vector"
   ]
  },
  {
   "cell_type": "code",
   "execution_count": 2,
   "metadata": {},
   "outputs": [],
   "source": [
    "direc_input_filename = \"/LUSTRE/MADMEX/training/cultivos/igamma_veracruz/entrega_1a_semana_febrero_2020/\"\n",
    "direc_output_filename = \"/LUSTRE/MADMEX/training/cultivos/igamma_veracruz/entrega_1_feb_2020_normalized_attributes/\""
   ]
  },
  {
   "cell_type": "code",
   "execution_count": 3,
   "metadata": {},
   "outputs": [],
   "source": [
    "name_output = \"cultivos2019_normalized_string_attributes\""
   ]
  },
  {
   "cell_type": "code",
   "execution_count": 4,
   "metadata": {},
   "outputs": [],
   "source": [
    "input_file = os.path.join(direc_input_filename, \"cultivos2019.shp\")\n",
    "output_filename = os.path.join(direc_output_filename, name_output)\n",
    "layer = name_output"
   ]
  },
  {
   "cell_type": "markdown",
   "metadata": {},
   "source": [
    "**Read and call wrapper**"
   ]
  },
  {
   "cell_type": "code",
   "execution_count": 5,
   "metadata": {},
   "outputs": [],
   "source": [
    "gdf = gpd.read_file(input_file)\n"
   ]
  },
  {
   "cell_type": "code",
   "execution_count": 6,
   "metadata": {},
   "outputs": [
    {
     "data": {
      "text/html": [
       "<div>\n",
       "<style scoped>\n",
       "    .dataframe tbody tr th:only-of-type {\n",
       "        vertical-align: middle;\n",
       "    }\n",
       "\n",
       "    .dataframe tbody tr th {\n",
       "        vertical-align: top;\n",
       "    }\n",
       "\n",
       "    .dataframe thead th {\n",
       "        text-align: right;\n",
       "    }\n",
       "</style>\n",
       "<table border=\"1\" class=\"dataframe\">\n",
       "  <thead>\n",
       "    <tr style=\"text-align: right;\">\n",
       "      <th></th>\n",
       "      <th>PuntoID</th>\n",
       "      <th>Fecha</th>\n",
       "      <th>Municipio</th>\n",
       "      <th>DistritoDR</th>\n",
       "      <th>Ecoregion</th>\n",
       "      <th>ZonadeVida</th>\n",
       "      <th>Cultivo</th>\n",
       "      <th>Asociació</th>\n",
       "      <th>X</th>\n",
       "      <th>Y</th>\n",
       "      <th>Observacio</th>\n",
       "      <th>geometry</th>\n",
       "    </tr>\n",
       "  </thead>\n",
       "  <tbody>\n",
       "    <tr>\n",
       "      <th>0</th>\n",
       "      <td>1</td>\n",
       "      <td>mar-19</td>\n",
       "      <td>Catemaco</td>\n",
       "      <td>San Andres Tuxtla</td>\n",
       "      <td>Sierra de los Tuxtlas</td>\n",
       "      <td>Bosque Lluvioso premontano [Cálido - Muy Lluvi...</td>\n",
       "      <td>Café</td>\n",
       "      <td>NA</td>\n",
       "      <td>-95.105416</td>\n",
       "      <td>18.341956</td>\n",
       "      <td>CERCA PLÁTANO</td>\n",
       "      <td>POINT (-95.10542 18.34196)</td>\n",
       "    </tr>\n",
       "    <tr>\n",
       "      <th>1</th>\n",
       "      <td>2</td>\n",
       "      <td>mar-19</td>\n",
       "      <td>Las Choapas</td>\n",
       "      <td>Choapas</td>\n",
       "      <td>Petén-Veracruz moist forests</td>\n",
       "      <td>Bosque Lluvioso premontano [Cálido - Muy Lluvi...</td>\n",
       "      <td>Hule hevea</td>\n",
       "      <td>NA</td>\n",
       "      <td>-94.098841</td>\n",
       "      <td>17.864591</td>\n",
       "      <td>None</td>\n",
       "      <td>POINT (-94.09884 17.86459)</td>\n",
       "    </tr>\n",
       "    <tr>\n",
       "      <th>2</th>\n",
       "      <td>3</td>\n",
       "      <td>mar-19</td>\n",
       "      <td>Las Choapas</td>\n",
       "      <td>Choapas</td>\n",
       "      <td>Petén-Veracruz moist forests</td>\n",
       "      <td>Bosque Lluvioso premontano [Cálido - Muy Lluvi...</td>\n",
       "      <td>Pastizal</td>\n",
       "      <td>NA</td>\n",
       "      <td>-94.100192</td>\n",
       "      <td>17.867630</td>\n",
       "      <td>None</td>\n",
       "      <td>POINT (-94.10019 17.86763)</td>\n",
       "    </tr>\n",
       "    <tr>\n",
       "      <th>3</th>\n",
       "      <td>8</td>\n",
       "      <td>mar-19</td>\n",
       "      <td>Las Choapas</td>\n",
       "      <td>Choapas</td>\n",
       "      <td>Petén-Veracruz moist forests</td>\n",
       "      <td>Bosque Lluvioso premontano [Cálido - Muy Lluvi...</td>\n",
       "      <td>Maíz</td>\n",
       "      <td>NA</td>\n",
       "      <td>-94.110911</td>\n",
       "      <td>17.814089</td>\n",
       "      <td>None</td>\n",
       "      <td>POINT (-94.11091 17.81409)</td>\n",
       "    </tr>\n",
       "    <tr>\n",
       "      <th>4</th>\n",
       "      <td>9</td>\n",
       "      <td>mar-19</td>\n",
       "      <td>Las Choapas</td>\n",
       "      <td>Choapas</td>\n",
       "      <td>Petén-Veracruz moist forests</td>\n",
       "      <td>Bosque Lluvioso premontano [Cálido - Muy Lluvi...</td>\n",
       "      <td>Pastizal</td>\n",
       "      <td>NA</td>\n",
       "      <td>-94.106537</td>\n",
       "      <td>17.765451</td>\n",
       "      <td>None</td>\n",
       "      <td>POINT (-94.10654 17.76545)</td>\n",
       "    </tr>\n",
       "    <tr>\n",
       "      <th>...</th>\n",
       "      <td>...</td>\n",
       "      <td>...</td>\n",
       "      <td>...</td>\n",
       "      <td>...</td>\n",
       "      <td>...</td>\n",
       "      <td>...</td>\n",
       "      <td>...</td>\n",
       "      <td>...</td>\n",
       "      <td>...</td>\n",
       "      <td>...</td>\n",
       "      <td>...</td>\n",
       "      <td>...</td>\n",
       "    </tr>\n",
       "    <tr>\n",
       "      <th>14633</th>\n",
       "      <td>15178</td>\n",
       "      <td>dic-19</td>\n",
       "      <td>Agua Dulce</td>\n",
       "      <td>Choapas</td>\n",
       "      <td>Petén-Veracruz moist forests</td>\n",
       "      <td>Bosque Lluvioso premontano [Cálido - Muy Lluvi...</td>\n",
       "      <td>Pastizal</td>\n",
       "      <td>NA</td>\n",
       "      <td>-94.172940</td>\n",
       "      <td>18.170492</td>\n",
       "      <td>None</td>\n",
       "      <td>POINT (-94.17294 18.17049)</td>\n",
       "    </tr>\n",
       "    <tr>\n",
       "      <th>14634</th>\n",
       "      <td>15179</td>\n",
       "      <td>dic-19</td>\n",
       "      <td>Agua Dulce</td>\n",
       "      <td>Choapas</td>\n",
       "      <td>Petén-Veracruz moist forests</td>\n",
       "      <td>Bosque Lluvioso premontano [Cálido - Muy Lluvi...</td>\n",
       "      <td>Pastizal</td>\n",
       "      <td>NA</td>\n",
       "      <td>-94.106903</td>\n",
       "      <td>18.019101</td>\n",
       "      <td>None</td>\n",
       "      <td>POINT (-94.10690 18.01910)</td>\n",
       "    </tr>\n",
       "    <tr>\n",
       "      <th>14635</th>\n",
       "      <td>15180</td>\n",
       "      <td>dic-19</td>\n",
       "      <td>Uxpanapa</td>\n",
       "      <td>Choapas</td>\n",
       "      <td>Petén-Veracruz moist forests</td>\n",
       "      <td>Bosque Lluvioso montano bajo [Cálido - Muy Llu...</td>\n",
       "      <td>Hule hevea</td>\n",
       "      <td>NA</td>\n",
       "      <td>-94.131075</td>\n",
       "      <td>17.238747</td>\n",
       "      <td>None</td>\n",
       "      <td>POINT (-94.13107 17.23875)</td>\n",
       "    </tr>\n",
       "    <tr>\n",
       "      <th>14636</th>\n",
       "      <td>15182</td>\n",
       "      <td>dic-16</td>\n",
       "      <td>Uxpanapa</td>\n",
       "      <td>Choapas</td>\n",
       "      <td>Petén-Veracruz moist forests</td>\n",
       "      <td>Bosque Lluvioso montano bajo [Cálido - Muy Llu...</td>\n",
       "      <td>Pastizal</td>\n",
       "      <td>NA</td>\n",
       "      <td>-94.107095</td>\n",
       "      <td>17.228911</td>\n",
       "      <td>None</td>\n",
       "      <td>POINT (-94.10709 17.22891)</td>\n",
       "    </tr>\n",
       "    <tr>\n",
       "      <th>14637</th>\n",
       "      <td>15183</td>\n",
       "      <td>ene-17</td>\n",
       "      <td>Uxpanapa</td>\n",
       "      <td>Choapas</td>\n",
       "      <td>Petén-Veracruz moist forests</td>\n",
       "      <td>Bosque Lluvioso premontano [Cálido - Muy Lluvi...</td>\n",
       "      <td>Hule hevea</td>\n",
       "      <td>NA</td>\n",
       "      <td>-94.466358</td>\n",
       "      <td>17.442127</td>\n",
       "      <td>None</td>\n",
       "      <td>POINT (-94.46636 17.44213)</td>\n",
       "    </tr>\n",
       "  </tbody>\n",
       "</table>\n",
       "<p>14638 rows × 12 columns</p>\n",
       "</div>"
      ],
      "text/plain": [
       "       PuntoID   Fecha    Municipio         DistritoDR  \\\n",
       "0            1  mar-19     Catemaco  San Andres Tuxtla   \n",
       "1            2  mar-19  Las Choapas            Choapas   \n",
       "2            3  mar-19  Las Choapas            Choapas   \n",
       "3            8  mar-19  Las Choapas            Choapas   \n",
       "4            9  mar-19  Las Choapas            Choapas   \n",
       "...        ...     ...          ...                ...   \n",
       "14633    15178  dic-19   Agua Dulce            Choapas   \n",
       "14634    15179  dic-19   Agua Dulce            Choapas   \n",
       "14635    15180  dic-19     Uxpanapa            Choapas   \n",
       "14636    15182  dic-16     Uxpanapa            Choapas   \n",
       "14637    15183  ene-17     Uxpanapa            Choapas   \n",
       "\n",
       "                          Ecoregion  \\\n",
       "0             Sierra de los Tuxtlas   \n",
       "1      Petén-Veracruz moist forests   \n",
       "2      Petén-Veracruz moist forests   \n",
       "3      Petén-Veracruz moist forests   \n",
       "4      Petén-Veracruz moist forests   \n",
       "...                             ...   \n",
       "14633  Petén-Veracruz moist forests   \n",
       "14634  Petén-Veracruz moist forests   \n",
       "14635  Petén-Veracruz moist forests   \n",
       "14636  Petén-Veracruz moist forests   \n",
       "14637  Petén-Veracruz moist forests   \n",
       "\n",
       "                                              ZonadeVida     Cultivo  \\\n",
       "0      Bosque Lluvioso premontano [Cálido - Muy Lluvi...        Café   \n",
       "1      Bosque Lluvioso premontano [Cálido - Muy Lluvi...  Hule hevea   \n",
       "2      Bosque Lluvioso premontano [Cálido - Muy Lluvi...    Pastizal   \n",
       "3      Bosque Lluvioso premontano [Cálido - Muy Lluvi...        Maíz   \n",
       "4      Bosque Lluvioso premontano [Cálido - Muy Lluvi...    Pastizal   \n",
       "...                                                  ...         ...   \n",
       "14633  Bosque Lluvioso premontano [Cálido - Muy Lluvi...    Pastizal   \n",
       "14634  Bosque Lluvioso premontano [Cálido - Muy Lluvi...    Pastizal   \n",
       "14635  Bosque Lluvioso montano bajo [Cálido - Muy Llu...  Hule hevea   \n",
       "14636  Bosque Lluvioso montano bajo [Cálido - Muy Llu...    Pastizal   \n",
       "14637  Bosque Lluvioso premontano [Cálido - Muy Lluvi...  Hule hevea   \n",
       "\n",
       "      Asociació          X          Y     Observacio  \\\n",
       "0            NA -95.105416  18.341956  CERCA PLÁTANO   \n",
       "1            NA -94.098841  17.864591           None   \n",
       "2            NA -94.100192  17.867630           None   \n",
       "3            NA -94.110911  17.814089           None   \n",
       "4            NA -94.106537  17.765451           None   \n",
       "...         ...        ...        ...            ...   \n",
       "14633        NA -94.172940  18.170492           None   \n",
       "14634        NA -94.106903  18.019101           None   \n",
       "14635        NA -94.131075  17.238747           None   \n",
       "14636        NA -94.107095  17.228911           None   \n",
       "14637        NA -94.466358  17.442127           None   \n",
       "\n",
       "                         geometry  \n",
       "0      POINT (-95.10542 18.34196)  \n",
       "1      POINT (-94.09884 17.86459)  \n",
       "2      POINT (-94.10019 17.86763)  \n",
       "3      POINT (-94.11091 17.81409)  \n",
       "4      POINT (-94.10654 17.76545)  \n",
       "...                           ...  \n",
       "14633  POINT (-94.17294 18.17049)  \n",
       "14634  POINT (-94.10690 18.01910)  \n",
       "14635  POINT (-94.13107 17.23875)  \n",
       "14636  POINT (-94.10709 17.22891)  \n",
       "14637  POINT (-94.46636 17.44213)  \n",
       "\n",
       "[14638 rows x 12 columns]"
      ]
     },
     "execution_count": 6,
     "metadata": {},
     "output_type": "execute_result"
    }
   ],
   "source": [
    "gdf"
   ]
  },
  {
   "cell_type": "code",
   "execution_count": 7,
   "metadata": {},
   "outputs": [],
   "source": [
    "gdf.rename(columns = {\"Asociació\": \"Asociacion\",\n",
    "                      \"Observacio\": \"Observ\"}, inplace=True)"
   ]
  },
  {
   "cell_type": "code",
   "execution_count": 8,
   "metadata": {},
   "outputs": [
    {
     "data": {
      "text/html": [
       "<div>\n",
       "<style scoped>\n",
       "    .dataframe tbody tr th:only-of-type {\n",
       "        vertical-align: middle;\n",
       "    }\n",
       "\n",
       "    .dataframe tbody tr th {\n",
       "        vertical-align: top;\n",
       "    }\n",
       "\n",
       "    .dataframe thead th {\n",
       "        text-align: right;\n",
       "    }\n",
       "</style>\n",
       "<table border=\"1\" class=\"dataframe\">\n",
       "  <thead>\n",
       "    <tr style=\"text-align: right;\">\n",
       "      <th></th>\n",
       "      <th>PuntoID</th>\n",
       "      <th>Fecha</th>\n",
       "      <th>Municipio</th>\n",
       "      <th>DistritoDR</th>\n",
       "      <th>Ecoregion</th>\n",
       "      <th>ZonadeVida</th>\n",
       "      <th>Cultivo</th>\n",
       "      <th>Asociacion</th>\n",
       "      <th>X</th>\n",
       "      <th>Y</th>\n",
       "      <th>Observ</th>\n",
       "      <th>geometry</th>\n",
       "    </tr>\n",
       "  </thead>\n",
       "  <tbody>\n",
       "    <tr>\n",
       "      <th>0</th>\n",
       "      <td>1</td>\n",
       "      <td>mar-19</td>\n",
       "      <td>Catemaco</td>\n",
       "      <td>San Andres Tuxtla</td>\n",
       "      <td>Sierra de los Tuxtlas</td>\n",
       "      <td>Bosque Lluvioso premontano [Cálido - Muy Lluvi...</td>\n",
       "      <td>Café</td>\n",
       "      <td>NA</td>\n",
       "      <td>-95.105416</td>\n",
       "      <td>18.341956</td>\n",
       "      <td>CERCA PLÁTANO</td>\n",
       "      <td>POINT (-95.10542 18.34196)</td>\n",
       "    </tr>\n",
       "    <tr>\n",
       "      <th>1</th>\n",
       "      <td>2</td>\n",
       "      <td>mar-19</td>\n",
       "      <td>Las Choapas</td>\n",
       "      <td>Choapas</td>\n",
       "      <td>Petén-Veracruz moist forests</td>\n",
       "      <td>Bosque Lluvioso premontano [Cálido - Muy Lluvi...</td>\n",
       "      <td>Hule hevea</td>\n",
       "      <td>NA</td>\n",
       "      <td>-94.098841</td>\n",
       "      <td>17.864591</td>\n",
       "      <td>None</td>\n",
       "      <td>POINT (-94.09884 17.86459)</td>\n",
       "    </tr>\n",
       "    <tr>\n",
       "      <th>2</th>\n",
       "      <td>3</td>\n",
       "      <td>mar-19</td>\n",
       "      <td>Las Choapas</td>\n",
       "      <td>Choapas</td>\n",
       "      <td>Petén-Veracruz moist forests</td>\n",
       "      <td>Bosque Lluvioso premontano [Cálido - Muy Lluvi...</td>\n",
       "      <td>Pastizal</td>\n",
       "      <td>NA</td>\n",
       "      <td>-94.100192</td>\n",
       "      <td>17.867630</td>\n",
       "      <td>None</td>\n",
       "      <td>POINT (-94.10019 17.86763)</td>\n",
       "    </tr>\n",
       "    <tr>\n",
       "      <th>3</th>\n",
       "      <td>8</td>\n",
       "      <td>mar-19</td>\n",
       "      <td>Las Choapas</td>\n",
       "      <td>Choapas</td>\n",
       "      <td>Petén-Veracruz moist forests</td>\n",
       "      <td>Bosque Lluvioso premontano [Cálido - Muy Lluvi...</td>\n",
       "      <td>Maíz</td>\n",
       "      <td>NA</td>\n",
       "      <td>-94.110911</td>\n",
       "      <td>17.814089</td>\n",
       "      <td>None</td>\n",
       "      <td>POINT (-94.11091 17.81409)</td>\n",
       "    </tr>\n",
       "    <tr>\n",
       "      <th>4</th>\n",
       "      <td>9</td>\n",
       "      <td>mar-19</td>\n",
       "      <td>Las Choapas</td>\n",
       "      <td>Choapas</td>\n",
       "      <td>Petén-Veracruz moist forests</td>\n",
       "      <td>Bosque Lluvioso premontano [Cálido - Muy Lluvi...</td>\n",
       "      <td>Pastizal</td>\n",
       "      <td>NA</td>\n",
       "      <td>-94.106537</td>\n",
       "      <td>17.765451</td>\n",
       "      <td>None</td>\n",
       "      <td>POINT (-94.10654 17.76545)</td>\n",
       "    </tr>\n",
       "    <tr>\n",
       "      <th>...</th>\n",
       "      <td>...</td>\n",
       "      <td>...</td>\n",
       "      <td>...</td>\n",
       "      <td>...</td>\n",
       "      <td>...</td>\n",
       "      <td>...</td>\n",
       "      <td>...</td>\n",
       "      <td>...</td>\n",
       "      <td>...</td>\n",
       "      <td>...</td>\n",
       "      <td>...</td>\n",
       "      <td>...</td>\n",
       "    </tr>\n",
       "    <tr>\n",
       "      <th>14633</th>\n",
       "      <td>15178</td>\n",
       "      <td>dic-19</td>\n",
       "      <td>Agua Dulce</td>\n",
       "      <td>Choapas</td>\n",
       "      <td>Petén-Veracruz moist forests</td>\n",
       "      <td>Bosque Lluvioso premontano [Cálido - Muy Lluvi...</td>\n",
       "      <td>Pastizal</td>\n",
       "      <td>NA</td>\n",
       "      <td>-94.172940</td>\n",
       "      <td>18.170492</td>\n",
       "      <td>None</td>\n",
       "      <td>POINT (-94.17294 18.17049)</td>\n",
       "    </tr>\n",
       "    <tr>\n",
       "      <th>14634</th>\n",
       "      <td>15179</td>\n",
       "      <td>dic-19</td>\n",
       "      <td>Agua Dulce</td>\n",
       "      <td>Choapas</td>\n",
       "      <td>Petén-Veracruz moist forests</td>\n",
       "      <td>Bosque Lluvioso premontano [Cálido - Muy Lluvi...</td>\n",
       "      <td>Pastizal</td>\n",
       "      <td>NA</td>\n",
       "      <td>-94.106903</td>\n",
       "      <td>18.019101</td>\n",
       "      <td>None</td>\n",
       "      <td>POINT (-94.10690 18.01910)</td>\n",
       "    </tr>\n",
       "    <tr>\n",
       "      <th>14635</th>\n",
       "      <td>15180</td>\n",
       "      <td>dic-19</td>\n",
       "      <td>Uxpanapa</td>\n",
       "      <td>Choapas</td>\n",
       "      <td>Petén-Veracruz moist forests</td>\n",
       "      <td>Bosque Lluvioso montano bajo [Cálido - Muy Llu...</td>\n",
       "      <td>Hule hevea</td>\n",
       "      <td>NA</td>\n",
       "      <td>-94.131075</td>\n",
       "      <td>17.238747</td>\n",
       "      <td>None</td>\n",
       "      <td>POINT (-94.13107 17.23875)</td>\n",
       "    </tr>\n",
       "    <tr>\n",
       "      <th>14636</th>\n",
       "      <td>15182</td>\n",
       "      <td>dic-16</td>\n",
       "      <td>Uxpanapa</td>\n",
       "      <td>Choapas</td>\n",
       "      <td>Petén-Veracruz moist forests</td>\n",
       "      <td>Bosque Lluvioso montano bajo [Cálido - Muy Llu...</td>\n",
       "      <td>Pastizal</td>\n",
       "      <td>NA</td>\n",
       "      <td>-94.107095</td>\n",
       "      <td>17.228911</td>\n",
       "      <td>None</td>\n",
       "      <td>POINT (-94.10709 17.22891)</td>\n",
       "    </tr>\n",
       "    <tr>\n",
       "      <th>14637</th>\n",
       "      <td>15183</td>\n",
       "      <td>ene-17</td>\n",
       "      <td>Uxpanapa</td>\n",
       "      <td>Choapas</td>\n",
       "      <td>Petén-Veracruz moist forests</td>\n",
       "      <td>Bosque Lluvioso premontano [Cálido - Muy Lluvi...</td>\n",
       "      <td>Hule hevea</td>\n",
       "      <td>NA</td>\n",
       "      <td>-94.466358</td>\n",
       "      <td>17.442127</td>\n",
       "      <td>None</td>\n",
       "      <td>POINT (-94.46636 17.44213)</td>\n",
       "    </tr>\n",
       "  </tbody>\n",
       "</table>\n",
       "<p>14638 rows × 12 columns</p>\n",
       "</div>"
      ],
      "text/plain": [
       "       PuntoID   Fecha    Municipio         DistritoDR  \\\n",
       "0            1  mar-19     Catemaco  San Andres Tuxtla   \n",
       "1            2  mar-19  Las Choapas            Choapas   \n",
       "2            3  mar-19  Las Choapas            Choapas   \n",
       "3            8  mar-19  Las Choapas            Choapas   \n",
       "4            9  mar-19  Las Choapas            Choapas   \n",
       "...        ...     ...          ...                ...   \n",
       "14633    15178  dic-19   Agua Dulce            Choapas   \n",
       "14634    15179  dic-19   Agua Dulce            Choapas   \n",
       "14635    15180  dic-19     Uxpanapa            Choapas   \n",
       "14636    15182  dic-16     Uxpanapa            Choapas   \n",
       "14637    15183  ene-17     Uxpanapa            Choapas   \n",
       "\n",
       "                          Ecoregion  \\\n",
       "0             Sierra de los Tuxtlas   \n",
       "1      Petén-Veracruz moist forests   \n",
       "2      Petén-Veracruz moist forests   \n",
       "3      Petén-Veracruz moist forests   \n",
       "4      Petén-Veracruz moist forests   \n",
       "...                             ...   \n",
       "14633  Petén-Veracruz moist forests   \n",
       "14634  Petén-Veracruz moist forests   \n",
       "14635  Petén-Veracruz moist forests   \n",
       "14636  Petén-Veracruz moist forests   \n",
       "14637  Petén-Veracruz moist forests   \n",
       "\n",
       "                                              ZonadeVida     Cultivo  \\\n",
       "0      Bosque Lluvioso premontano [Cálido - Muy Lluvi...        Café   \n",
       "1      Bosque Lluvioso premontano [Cálido - Muy Lluvi...  Hule hevea   \n",
       "2      Bosque Lluvioso premontano [Cálido - Muy Lluvi...    Pastizal   \n",
       "3      Bosque Lluvioso premontano [Cálido - Muy Lluvi...        Maíz   \n",
       "4      Bosque Lluvioso premontano [Cálido - Muy Lluvi...    Pastizal   \n",
       "...                                                  ...         ...   \n",
       "14633  Bosque Lluvioso premontano [Cálido - Muy Lluvi...    Pastizal   \n",
       "14634  Bosque Lluvioso premontano [Cálido - Muy Lluvi...    Pastizal   \n",
       "14635  Bosque Lluvioso montano bajo [Cálido - Muy Llu...  Hule hevea   \n",
       "14636  Bosque Lluvioso montano bajo [Cálido - Muy Llu...    Pastizal   \n",
       "14637  Bosque Lluvioso premontano [Cálido - Muy Lluvi...  Hule hevea   \n",
       "\n",
       "      Asociacion          X          Y         Observ  \\\n",
       "0             NA -95.105416  18.341956  CERCA PLÁTANO   \n",
       "1             NA -94.098841  17.864591           None   \n",
       "2             NA -94.100192  17.867630           None   \n",
       "3             NA -94.110911  17.814089           None   \n",
       "4             NA -94.106537  17.765451           None   \n",
       "...          ...        ...        ...            ...   \n",
       "14633         NA -94.172940  18.170492           None   \n",
       "14634         NA -94.106903  18.019101           None   \n",
       "14635         NA -94.131075  17.238747           None   \n",
       "14636         NA -94.107095  17.228911           None   \n",
       "14637         NA -94.466358  17.442127           None   \n",
       "\n",
       "                         geometry  \n",
       "0      POINT (-95.10542 18.34196)  \n",
       "1      POINT (-94.09884 17.86459)  \n",
       "2      POINT (-94.10019 17.86763)  \n",
       "3      POINT (-94.11091 17.81409)  \n",
       "4      POINT (-94.10654 17.76545)  \n",
       "...                           ...  \n",
       "14633  POINT (-94.17294 18.17049)  \n",
       "14634  POINT (-94.10690 18.01910)  \n",
       "14635  POINT (-94.13107 17.23875)  \n",
       "14636  POINT (-94.10709 17.22891)  \n",
       "14637  POINT (-94.46636 17.44213)  \n",
       "\n",
       "[14638 rows x 12 columns]"
      ]
     },
     "execution_count": 8,
     "metadata": {},
     "output_type": "execute_result"
    }
   ],
   "source": [
    "gdf"
   ]
  },
  {
   "cell_type": "code",
   "execution_count": 18,
   "metadata": {},
   "outputs": [],
   "source": [
    "name_attribute1 = \"Fecha\"\n",
    "name_attribute2 = \"Municipio\"\n",
    "name_attribute3 = \"DistritoDR\"\n",
    "name_attribute4 = \"Ecoregion\"\n",
    "name_attribute5 = \"ZonadeVida\"\n",
    "name_attribute6 = \"Cultivo\"\n",
    "name_attribute7 = \"Asociacion\"\n",
    "name_attribute8 = \"Observ\""
   ]
  },
  {
   "cell_type": "code",
   "execution_count": 19,
   "metadata": {},
   "outputs": [],
   "source": [
    "list_name_attributes = [name_attribute1, name_attribute2,\n",
    "                        name_attribute3, name_attribute4,\n",
    "                        name_attribute5, name_attribute6,\n",
    "                        name_attribute7, name_attribute8\n",
    "                       ]"
   ]
  },
  {
   "cell_type": "markdown",
   "metadata": {},
   "source": [
    "name_attribute2, name_attribute4, name_attribute5, name_attribute7"
   ]
  },
  {
   "cell_type": "code",
   "execution_count": 20,
   "metadata": {},
   "outputs": [],
   "source": [
    "#gdf.loc[gdf[[name_attribute2]].isna().any(1)].index"
   ]
  },
  {
   "cell_type": "code",
   "execution_count": 21,
   "metadata": {},
   "outputs": [],
   "source": [
    "#gdf.iloc[11950]"
   ]
  },
  {
   "cell_type": "code",
   "execution_count": 22,
   "metadata": {},
   "outputs": [],
   "source": [
    "#gdf.dropna(subset=[name_attribute7], inplace=True)"
   ]
  },
  {
   "cell_type": "code",
   "execution_count": 23,
   "metadata": {},
   "outputs": [],
   "source": [
    "#gdf"
   ]
  },
  {
   "cell_type": "code",
   "execution_count": 24,
   "metadata": {},
   "outputs": [],
   "source": [
    "#gdf.dropna(subset=[\"Observacio\"], inplace=True)"
   ]
  },
  {
   "cell_type": "code",
   "execution_count": 25,
   "metadata": {},
   "outputs": [],
   "source": [
    "gdf.dropna(subset=list_name_attributes, inplace=True, how=\"all\")"
   ]
  },
  {
   "cell_type": "code",
   "execution_count": 26,
   "metadata": {},
   "outputs": [
    {
     "data": {
      "text/html": [
       "<div>\n",
       "<style scoped>\n",
       "    .dataframe tbody tr th:only-of-type {\n",
       "        vertical-align: middle;\n",
       "    }\n",
       "\n",
       "    .dataframe tbody tr th {\n",
       "        vertical-align: top;\n",
       "    }\n",
       "\n",
       "    .dataframe thead th {\n",
       "        text-align: right;\n",
       "    }\n",
       "</style>\n",
       "<table border=\"1\" class=\"dataframe\">\n",
       "  <thead>\n",
       "    <tr style=\"text-align: right;\">\n",
       "      <th></th>\n",
       "      <th>PuntoID</th>\n",
       "      <th>Fecha</th>\n",
       "      <th>Municipio</th>\n",
       "      <th>DistritoDR</th>\n",
       "      <th>Ecoregion</th>\n",
       "      <th>ZonadeVida</th>\n",
       "      <th>Cultivo</th>\n",
       "      <th>Asociacion</th>\n",
       "      <th>X</th>\n",
       "      <th>Y</th>\n",
       "      <th>Observ</th>\n",
       "      <th>geometry</th>\n",
       "    </tr>\n",
       "  </thead>\n",
       "  <tbody>\n",
       "    <tr>\n",
       "      <th>0</th>\n",
       "      <td>1</td>\n",
       "      <td>mar-19</td>\n",
       "      <td>Catemaco</td>\n",
       "      <td>San Andres Tuxtla</td>\n",
       "      <td>Sierra de los Tuxtlas</td>\n",
       "      <td>Bosque Lluvioso premontano [Cálido - Muy Lluvi...</td>\n",
       "      <td>Café</td>\n",
       "      <td>NA</td>\n",
       "      <td>-95.105416</td>\n",
       "      <td>18.341956</td>\n",
       "      <td>CERCA PLÁTANO</td>\n",
       "      <td>POINT (-95.10542 18.34196)</td>\n",
       "    </tr>\n",
       "    <tr>\n",
       "      <th>1</th>\n",
       "      <td>2</td>\n",
       "      <td>mar-19</td>\n",
       "      <td>Las Choapas</td>\n",
       "      <td>Choapas</td>\n",
       "      <td>Petén-Veracruz moist forests</td>\n",
       "      <td>Bosque Lluvioso premontano [Cálido - Muy Lluvi...</td>\n",
       "      <td>Hule hevea</td>\n",
       "      <td>NA</td>\n",
       "      <td>-94.098841</td>\n",
       "      <td>17.864591</td>\n",
       "      <td>None</td>\n",
       "      <td>POINT (-94.09884 17.86459)</td>\n",
       "    </tr>\n",
       "    <tr>\n",
       "      <th>2</th>\n",
       "      <td>3</td>\n",
       "      <td>mar-19</td>\n",
       "      <td>Las Choapas</td>\n",
       "      <td>Choapas</td>\n",
       "      <td>Petén-Veracruz moist forests</td>\n",
       "      <td>Bosque Lluvioso premontano [Cálido - Muy Lluvi...</td>\n",
       "      <td>Pastizal</td>\n",
       "      <td>NA</td>\n",
       "      <td>-94.100192</td>\n",
       "      <td>17.867630</td>\n",
       "      <td>None</td>\n",
       "      <td>POINT (-94.10019 17.86763)</td>\n",
       "    </tr>\n",
       "    <tr>\n",
       "      <th>3</th>\n",
       "      <td>8</td>\n",
       "      <td>mar-19</td>\n",
       "      <td>Las Choapas</td>\n",
       "      <td>Choapas</td>\n",
       "      <td>Petén-Veracruz moist forests</td>\n",
       "      <td>Bosque Lluvioso premontano [Cálido - Muy Lluvi...</td>\n",
       "      <td>Maíz</td>\n",
       "      <td>NA</td>\n",
       "      <td>-94.110911</td>\n",
       "      <td>17.814089</td>\n",
       "      <td>None</td>\n",
       "      <td>POINT (-94.11091 17.81409)</td>\n",
       "    </tr>\n",
       "    <tr>\n",
       "      <th>4</th>\n",
       "      <td>9</td>\n",
       "      <td>mar-19</td>\n",
       "      <td>Las Choapas</td>\n",
       "      <td>Choapas</td>\n",
       "      <td>Petén-Veracruz moist forests</td>\n",
       "      <td>Bosque Lluvioso premontano [Cálido - Muy Lluvi...</td>\n",
       "      <td>Pastizal</td>\n",
       "      <td>NA</td>\n",
       "      <td>-94.106537</td>\n",
       "      <td>17.765451</td>\n",
       "      <td>None</td>\n",
       "      <td>POINT (-94.10654 17.76545)</td>\n",
       "    </tr>\n",
       "    <tr>\n",
       "      <th>...</th>\n",
       "      <td>...</td>\n",
       "      <td>...</td>\n",
       "      <td>...</td>\n",
       "      <td>...</td>\n",
       "      <td>...</td>\n",
       "      <td>...</td>\n",
       "      <td>...</td>\n",
       "      <td>...</td>\n",
       "      <td>...</td>\n",
       "      <td>...</td>\n",
       "      <td>...</td>\n",
       "      <td>...</td>\n",
       "    </tr>\n",
       "    <tr>\n",
       "      <th>14633</th>\n",
       "      <td>15178</td>\n",
       "      <td>dic-19</td>\n",
       "      <td>Agua Dulce</td>\n",
       "      <td>Choapas</td>\n",
       "      <td>Petén-Veracruz moist forests</td>\n",
       "      <td>Bosque Lluvioso premontano [Cálido - Muy Lluvi...</td>\n",
       "      <td>Pastizal</td>\n",
       "      <td>NA</td>\n",
       "      <td>-94.172940</td>\n",
       "      <td>18.170492</td>\n",
       "      <td>None</td>\n",
       "      <td>POINT (-94.17294 18.17049)</td>\n",
       "    </tr>\n",
       "    <tr>\n",
       "      <th>14634</th>\n",
       "      <td>15179</td>\n",
       "      <td>dic-19</td>\n",
       "      <td>Agua Dulce</td>\n",
       "      <td>Choapas</td>\n",
       "      <td>Petén-Veracruz moist forests</td>\n",
       "      <td>Bosque Lluvioso premontano [Cálido - Muy Lluvi...</td>\n",
       "      <td>Pastizal</td>\n",
       "      <td>NA</td>\n",
       "      <td>-94.106903</td>\n",
       "      <td>18.019101</td>\n",
       "      <td>None</td>\n",
       "      <td>POINT (-94.10690 18.01910)</td>\n",
       "    </tr>\n",
       "    <tr>\n",
       "      <th>14635</th>\n",
       "      <td>15180</td>\n",
       "      <td>dic-19</td>\n",
       "      <td>Uxpanapa</td>\n",
       "      <td>Choapas</td>\n",
       "      <td>Petén-Veracruz moist forests</td>\n",
       "      <td>Bosque Lluvioso montano bajo [Cálido - Muy Llu...</td>\n",
       "      <td>Hule hevea</td>\n",
       "      <td>NA</td>\n",
       "      <td>-94.131075</td>\n",
       "      <td>17.238747</td>\n",
       "      <td>None</td>\n",
       "      <td>POINT (-94.13107 17.23875)</td>\n",
       "    </tr>\n",
       "    <tr>\n",
       "      <th>14636</th>\n",
       "      <td>15182</td>\n",
       "      <td>dic-16</td>\n",
       "      <td>Uxpanapa</td>\n",
       "      <td>Choapas</td>\n",
       "      <td>Petén-Veracruz moist forests</td>\n",
       "      <td>Bosque Lluvioso montano bajo [Cálido - Muy Llu...</td>\n",
       "      <td>Pastizal</td>\n",
       "      <td>NA</td>\n",
       "      <td>-94.107095</td>\n",
       "      <td>17.228911</td>\n",
       "      <td>None</td>\n",
       "      <td>POINT (-94.10709 17.22891)</td>\n",
       "    </tr>\n",
       "    <tr>\n",
       "      <th>14637</th>\n",
       "      <td>15183</td>\n",
       "      <td>ene-17</td>\n",
       "      <td>Uxpanapa</td>\n",
       "      <td>Choapas</td>\n",
       "      <td>Petén-Veracruz moist forests</td>\n",
       "      <td>Bosque Lluvioso premontano [Cálido - Muy Lluvi...</td>\n",
       "      <td>Hule hevea</td>\n",
       "      <td>NA</td>\n",
       "      <td>-94.466358</td>\n",
       "      <td>17.442127</td>\n",
       "      <td>None</td>\n",
       "      <td>POINT (-94.46636 17.44213)</td>\n",
       "    </tr>\n",
       "  </tbody>\n",
       "</table>\n",
       "<p>14638 rows × 12 columns</p>\n",
       "</div>"
      ],
      "text/plain": [
       "       PuntoID   Fecha    Municipio         DistritoDR  \\\n",
       "0            1  mar-19     Catemaco  San Andres Tuxtla   \n",
       "1            2  mar-19  Las Choapas            Choapas   \n",
       "2            3  mar-19  Las Choapas            Choapas   \n",
       "3            8  mar-19  Las Choapas            Choapas   \n",
       "4            9  mar-19  Las Choapas            Choapas   \n",
       "...        ...     ...          ...                ...   \n",
       "14633    15178  dic-19   Agua Dulce            Choapas   \n",
       "14634    15179  dic-19   Agua Dulce            Choapas   \n",
       "14635    15180  dic-19     Uxpanapa            Choapas   \n",
       "14636    15182  dic-16     Uxpanapa            Choapas   \n",
       "14637    15183  ene-17     Uxpanapa            Choapas   \n",
       "\n",
       "                          Ecoregion  \\\n",
       "0             Sierra de los Tuxtlas   \n",
       "1      Petén-Veracruz moist forests   \n",
       "2      Petén-Veracruz moist forests   \n",
       "3      Petén-Veracruz moist forests   \n",
       "4      Petén-Veracruz moist forests   \n",
       "...                             ...   \n",
       "14633  Petén-Veracruz moist forests   \n",
       "14634  Petén-Veracruz moist forests   \n",
       "14635  Petén-Veracruz moist forests   \n",
       "14636  Petén-Veracruz moist forests   \n",
       "14637  Petén-Veracruz moist forests   \n",
       "\n",
       "                                              ZonadeVida     Cultivo  \\\n",
       "0      Bosque Lluvioso premontano [Cálido - Muy Lluvi...        Café   \n",
       "1      Bosque Lluvioso premontano [Cálido - Muy Lluvi...  Hule hevea   \n",
       "2      Bosque Lluvioso premontano [Cálido - Muy Lluvi...    Pastizal   \n",
       "3      Bosque Lluvioso premontano [Cálido - Muy Lluvi...        Maíz   \n",
       "4      Bosque Lluvioso premontano [Cálido - Muy Lluvi...    Pastizal   \n",
       "...                                                  ...         ...   \n",
       "14633  Bosque Lluvioso premontano [Cálido - Muy Lluvi...    Pastizal   \n",
       "14634  Bosque Lluvioso premontano [Cálido - Muy Lluvi...    Pastizal   \n",
       "14635  Bosque Lluvioso montano bajo [Cálido - Muy Llu...  Hule hevea   \n",
       "14636  Bosque Lluvioso montano bajo [Cálido - Muy Llu...    Pastizal   \n",
       "14637  Bosque Lluvioso premontano [Cálido - Muy Lluvi...  Hule hevea   \n",
       "\n",
       "      Asociacion          X          Y         Observ  \\\n",
       "0             NA -95.105416  18.341956  CERCA PLÁTANO   \n",
       "1             NA -94.098841  17.864591           None   \n",
       "2             NA -94.100192  17.867630           None   \n",
       "3             NA -94.110911  17.814089           None   \n",
       "4             NA -94.106537  17.765451           None   \n",
       "...          ...        ...        ...            ...   \n",
       "14633         NA -94.172940  18.170492           None   \n",
       "14634         NA -94.106903  18.019101           None   \n",
       "14635         NA -94.131075  17.238747           None   \n",
       "14636         NA -94.107095  17.228911           None   \n",
       "14637         NA -94.466358  17.442127           None   \n",
       "\n",
       "                         geometry  \n",
       "0      POINT (-95.10542 18.34196)  \n",
       "1      POINT (-94.09884 17.86459)  \n",
       "2      POINT (-94.10019 17.86763)  \n",
       "3      POINT (-94.11091 17.81409)  \n",
       "4      POINT (-94.10654 17.76545)  \n",
       "...                           ...  \n",
       "14633  POINT (-94.17294 18.17049)  \n",
       "14634  POINT (-94.10690 18.01910)  \n",
       "14635  POINT (-94.13107 17.23875)  \n",
       "14636  POINT (-94.10709 17.22891)  \n",
       "14637  POINT (-94.46636 17.44213)  \n",
       "\n",
       "[14638 rows x 12 columns]"
      ]
     },
     "execution_count": 26,
     "metadata": {},
     "output_type": "execute_result"
    }
   ],
   "source": [
    "gdf"
   ]
  },
  {
   "cell_type": "code",
   "execution_count": 27,
   "metadata": {},
   "outputs": [
    {
     "data": {
      "text/plain": [
       "'/LUSTRE/MADMEX/training/cultivos/igamma_veracruz/entrega_1a_semana_febrero_2020/cultivos2019.shp'"
      ]
     },
     "execution_count": 27,
     "metadata": {},
     "output_type": "execute_result"
    }
   ],
   "source": [
    "input_file"
   ]
  },
  {
   "cell_type": "code",
   "execution_count": 28,
   "metadata": {},
   "outputs": [
    {
     "data": {
      "text/plain": [
       "'/LUSTRE/MADMEX/training/cultivos/igamma_veracruz/entrega_1_feb_2020_normalized_attributes/cultivos2019_normalized_string_attributes'"
      ]
     },
     "execution_count": 28,
     "metadata": {},
     "output_type": "execute_result"
    }
   ],
   "source": [
    "output_filename"
   ]
  },
  {
   "cell_type": "code",
   "execution_count": 29,
   "metadata": {},
   "outputs": [
    {
     "ename": "DriverError",
     "evalue": "sqlite3_open(/LUSTRE/MADMEX/training/cultivos/igamma_veracruz/entrega_1_feb_2020_normalized_attributes/cultivos2019_normalized_string_attributes.gpkg) failed: unable to open database file",
     "output_type": "error",
     "traceback": [
      "\u001b[0;31m---------------------------------------------------------------------------\u001b[0m",
      "\u001b[0;31mCPLE_OpenFailedError\u001b[0m                      Traceback (most recent call last)",
      "\u001b[0;32mfiona/_shim.pyx\u001b[0m in \u001b[0;36mfiona._shim.gdal_create\u001b[0;34m()\u001b[0m\n",
      "\u001b[0;32mfiona/_err.pyx\u001b[0m in \u001b[0;36mfiona._err.exc_wrap_pointer\u001b[0;34m()\u001b[0m\n",
      "\u001b[0;31mCPLE_OpenFailedError\u001b[0m: sqlite3_open(/LUSTRE/MADMEX/training/cultivos/igamma_veracruz/entrega_1_feb_2020_normalized_attributes/cultivos2019_normalized_string_attributes.gpkg) failed: unable to open database file",
      "\nDuring handling of the above exception, another exception occurred:\n",
      "\u001b[0;31mDriverError\u001b[0m                               Traceback (most recent call last)",
      "\u001b[0;32m<ipython-input-29-005ad8af2aec>\u001b[0m in \u001b[0;36m<module>\u001b[0;34m\u001b[0m\n\u001b[1;32m      3\u001b[0m                                                                               \u001b[0mlayer\u001b[0m\u001b[0;34m,\u001b[0m\u001b[0;34m\u001b[0m\u001b[0;34m\u001b[0m\u001b[0m\n\u001b[1;32m      4\u001b[0m                                                                               \u001b[0mdirec_input_filename\u001b[0m\u001b[0;34m,\u001b[0m\u001b[0;34m\u001b[0m\u001b[0;34m\u001b[0m\u001b[0m\n\u001b[0;32m----> 5\u001b[0;31m                                                                               output_filename)\n\u001b[0m\u001b[1;32m      6\u001b[0m \u001b[0;34m\u001b[0m\u001b[0m\n",
      "\u001b[0;32m/LUSTRE/MADMEX/tasks/2020/6_geonode/geonode-master/python3_package_for_geonode/geonode_conabio/wrappers.py\u001b[0m in \u001b[0;36mreproj_normalize_and_write_small_medium_size_vector\u001b[0;34m(geodataframe, list_name_attributes, layer_name, input_directory, output_filename, destiny_crs)\u001b[0m\n\u001b[1;32m     92\u001b[0m     gdf_reproj.to_file(output_filename + \".gpkg\",\n\u001b[1;32m     93\u001b[0m                        \u001b[0mlayer\u001b[0m\u001b[0;34m=\u001b[0m\u001b[0mlayer_name\u001b[0m\u001b[0;34m,\u001b[0m\u001b[0;34m\u001b[0m\u001b[0;34m\u001b[0m\u001b[0m\n\u001b[0;32m---> 94\u001b[0;31m                        driver = \"GPKG\")    \n\u001b[0m\u001b[1;32m     95\u001b[0m     \u001b[0;32mreturn\u001b[0m \u001b[0moutput_filename_geonode\u001b[0m\u001b[0;34m\u001b[0m\u001b[0;34m\u001b[0m\u001b[0m\n\u001b[1;32m     96\u001b[0m \u001b[0;34m\u001b[0m\u001b[0m\n",
      "\u001b[0;32m/usr/local/lib/python3.6/dist-packages/geopandas/geodataframe.py\u001b[0m in \u001b[0;36mto_file\u001b[0;34m(self, filename, driver, schema, index, **kwargs)\u001b[0m\n\u001b[1;32m    744\u001b[0m         \u001b[0;32mfrom\u001b[0m \u001b[0mgeopandas\u001b[0m\u001b[0;34m.\u001b[0m\u001b[0mio\u001b[0m\u001b[0;34m.\u001b[0m\u001b[0mfile\u001b[0m \u001b[0;32mimport\u001b[0m \u001b[0m_to_file\u001b[0m\u001b[0;34m\u001b[0m\u001b[0;34m\u001b[0m\u001b[0m\n\u001b[1;32m    745\u001b[0m \u001b[0;34m\u001b[0m\u001b[0m\n\u001b[0;32m--> 746\u001b[0;31m         \u001b[0m_to_file\u001b[0m\u001b[0;34m(\u001b[0m\u001b[0mself\u001b[0m\u001b[0;34m,\u001b[0m \u001b[0mfilename\u001b[0m\u001b[0;34m,\u001b[0m \u001b[0mdriver\u001b[0m\u001b[0;34m,\u001b[0m \u001b[0mschema\u001b[0m\u001b[0;34m,\u001b[0m \u001b[0mindex\u001b[0m\u001b[0;34m,\u001b[0m \u001b[0;34m**\u001b[0m\u001b[0mkwargs\u001b[0m\u001b[0;34m)\u001b[0m\u001b[0;34m\u001b[0m\u001b[0;34m\u001b[0m\u001b[0m\n\u001b[0m\u001b[1;32m    747\u001b[0m \u001b[0;34m\u001b[0m\u001b[0m\n\u001b[1;32m    748\u001b[0m     \u001b[0;32mdef\u001b[0m \u001b[0mset_crs\u001b[0m\u001b[0;34m(\u001b[0m\u001b[0mself\u001b[0m\u001b[0;34m,\u001b[0m \u001b[0mcrs\u001b[0m\u001b[0;34m=\u001b[0m\u001b[0;32mNone\u001b[0m\u001b[0;34m,\u001b[0m \u001b[0mepsg\u001b[0m\u001b[0;34m=\u001b[0m\u001b[0;32mNone\u001b[0m\u001b[0;34m,\u001b[0m \u001b[0minplace\u001b[0m\u001b[0;34m=\u001b[0m\u001b[0;32mFalse\u001b[0m\u001b[0;34m,\u001b[0m \u001b[0mallow_override\u001b[0m\u001b[0;34m=\u001b[0m\u001b[0;32mFalse\u001b[0m\u001b[0;34m)\u001b[0m\u001b[0;34m:\u001b[0m\u001b[0;34m\u001b[0m\u001b[0;34m\u001b[0m\u001b[0m\n",
      "\u001b[0;32m/usr/local/lib/python3.6/dist-packages/geopandas/io/file.py\u001b[0m in \u001b[0;36m_to_file\u001b[0;34m(df, filename, driver, schema, index, mode, crs, **kwargs)\u001b[0m\n\u001b[1;32m    253\u001b[0m             \u001b[0mcrs_wkt\u001b[0m \u001b[0;34m=\u001b[0m \u001b[0mcrs\u001b[0m\u001b[0;34m.\u001b[0m\u001b[0mto_wkt\u001b[0m\u001b[0;34m(\u001b[0m\u001b[0;34m\"WKT1_GDAL\"\u001b[0m\u001b[0;34m)\u001b[0m\u001b[0;34m\u001b[0m\u001b[0;34m\u001b[0m\u001b[0m\n\u001b[1;32m    254\u001b[0m         with fiona.open(\n\u001b[0;32m--> 255\u001b[0;31m             \u001b[0mfilename\u001b[0m\u001b[0;34m,\u001b[0m \u001b[0mmode\u001b[0m\u001b[0;34m=\u001b[0m\u001b[0mmode\u001b[0m\u001b[0;34m,\u001b[0m \u001b[0mdriver\u001b[0m\u001b[0;34m=\u001b[0m\u001b[0mdriver\u001b[0m\u001b[0;34m,\u001b[0m \u001b[0mcrs_wkt\u001b[0m\u001b[0;34m=\u001b[0m\u001b[0mcrs_wkt\u001b[0m\u001b[0;34m,\u001b[0m \u001b[0mschema\u001b[0m\u001b[0;34m=\u001b[0m\u001b[0mschema\u001b[0m\u001b[0;34m,\u001b[0m \u001b[0;34m**\u001b[0m\u001b[0mkwargs\u001b[0m\u001b[0;34m\u001b[0m\u001b[0;34m\u001b[0m\u001b[0m\n\u001b[0m\u001b[1;32m    256\u001b[0m         ) as colxn:\n\u001b[1;32m    257\u001b[0m             \u001b[0mcolxn\u001b[0m\u001b[0;34m.\u001b[0m\u001b[0mwriterecords\u001b[0m\u001b[0;34m(\u001b[0m\u001b[0mdf\u001b[0m\u001b[0;34m.\u001b[0m\u001b[0miterfeatures\u001b[0m\u001b[0;34m(\u001b[0m\u001b[0;34m)\u001b[0m\u001b[0;34m)\u001b[0m\u001b[0;34m\u001b[0m\u001b[0;34m\u001b[0m\u001b[0m\n",
      "\u001b[0;32m/usr/local/lib/python3.6/dist-packages/fiona/env.py\u001b[0m in \u001b[0;36mwrapper\u001b[0;34m(*args, **kwargs)\u001b[0m\n\u001b[1;32m    396\u001b[0m     \u001b[0;32mdef\u001b[0m \u001b[0mwrapper\u001b[0m\u001b[0;34m(\u001b[0m\u001b[0;34m*\u001b[0m\u001b[0margs\u001b[0m\u001b[0;34m,\u001b[0m \u001b[0;34m**\u001b[0m\u001b[0mkwargs\u001b[0m\u001b[0;34m)\u001b[0m\u001b[0;34m:\u001b[0m\u001b[0;34m\u001b[0m\u001b[0;34m\u001b[0m\u001b[0m\n\u001b[1;32m    397\u001b[0m         \u001b[0;32mif\u001b[0m \u001b[0mlocal\u001b[0m\u001b[0;34m.\u001b[0m\u001b[0m_env\u001b[0m\u001b[0;34m:\u001b[0m\u001b[0;34m\u001b[0m\u001b[0;34m\u001b[0m\u001b[0m\n\u001b[0;32m--> 398\u001b[0;31m             \u001b[0;32mreturn\u001b[0m \u001b[0mf\u001b[0m\u001b[0;34m(\u001b[0m\u001b[0;34m*\u001b[0m\u001b[0margs\u001b[0m\u001b[0;34m,\u001b[0m \u001b[0;34m**\u001b[0m\u001b[0mkwargs\u001b[0m\u001b[0;34m)\u001b[0m\u001b[0;34m\u001b[0m\u001b[0;34m\u001b[0m\u001b[0m\n\u001b[0m\u001b[1;32m    399\u001b[0m         \u001b[0;32melse\u001b[0m\u001b[0;34m:\u001b[0m\u001b[0;34m\u001b[0m\u001b[0;34m\u001b[0m\u001b[0m\n\u001b[1;32m    400\u001b[0m             \u001b[0;32mif\u001b[0m \u001b[0misinstance\u001b[0m\u001b[0;34m(\u001b[0m\u001b[0margs\u001b[0m\u001b[0;34m[\u001b[0m\u001b[0;36m0\u001b[0m\u001b[0;34m]\u001b[0m\u001b[0;34m,\u001b[0m \u001b[0mstr\u001b[0m\u001b[0;34m)\u001b[0m\u001b[0;34m:\u001b[0m\u001b[0;34m\u001b[0m\u001b[0;34m\u001b[0m\u001b[0m\n",
      "\u001b[0;32m/usr/local/lib/python3.6/dist-packages/fiona/__init__.py\u001b[0m in \u001b[0;36mopen\u001b[0;34m(fp, mode, driver, schema, crs, encoding, layer, vfs, enabled_drivers, crs_wkt, **kwargs)\u001b[0m\n\u001b[1;32m    262\u001b[0m             c = Collection(path, mode, crs=crs, driver=driver, schema=this_schema,\n\u001b[1;32m    263\u001b[0m                            \u001b[0mencoding\u001b[0m\u001b[0;34m=\u001b[0m\u001b[0mencoding\u001b[0m\u001b[0;34m,\u001b[0m \u001b[0mlayer\u001b[0m\u001b[0;34m=\u001b[0m\u001b[0mlayer\u001b[0m\u001b[0;34m,\u001b[0m \u001b[0menabled_drivers\u001b[0m\u001b[0;34m=\u001b[0m\u001b[0menabled_drivers\u001b[0m\u001b[0;34m,\u001b[0m \u001b[0mcrs_wkt\u001b[0m\u001b[0;34m=\u001b[0m\u001b[0mcrs_wkt\u001b[0m\u001b[0;34m,\u001b[0m\u001b[0;34m\u001b[0m\u001b[0;34m\u001b[0m\u001b[0m\n\u001b[0;32m--> 264\u001b[0;31m                            **kwargs)\n\u001b[0m\u001b[1;32m    265\u001b[0m         \u001b[0;32melse\u001b[0m\u001b[0;34m:\u001b[0m\u001b[0;34m\u001b[0m\u001b[0;34m\u001b[0m\u001b[0m\n\u001b[1;32m    266\u001b[0m             raise ValueError(\n",
      "\u001b[0;32m/usr/local/lib/python3.6/dist-packages/fiona/collection.py\u001b[0m in \u001b[0;36m__init__\u001b[0;34m(self, path, mode, driver, schema, crs, encoding, layer, vsi, archive, enabled_drivers, crs_wkt, ignore_fields, ignore_geometry, **kwargs)\u001b[0m\n\u001b[1;32m    155\u001b[0m             \u001b[0;32melif\u001b[0m \u001b[0mself\u001b[0m\u001b[0;34m.\u001b[0m\u001b[0mmode\u001b[0m \u001b[0;32min\u001b[0m \u001b[0;34m(\u001b[0m\u001b[0;34m'a'\u001b[0m\u001b[0;34m,\u001b[0m \u001b[0;34m'w'\u001b[0m\u001b[0;34m)\u001b[0m\u001b[0;34m:\u001b[0m\u001b[0;34m\u001b[0m\u001b[0;34m\u001b[0m\u001b[0m\n\u001b[1;32m    156\u001b[0m                 \u001b[0mself\u001b[0m\u001b[0;34m.\u001b[0m\u001b[0msession\u001b[0m \u001b[0;34m=\u001b[0m \u001b[0mWritingSession\u001b[0m\u001b[0;34m(\u001b[0m\u001b[0;34m)\u001b[0m\u001b[0;34m\u001b[0m\u001b[0;34m\u001b[0m\u001b[0m\n\u001b[0;32m--> 157\u001b[0;31m                 \u001b[0mself\u001b[0m\u001b[0;34m.\u001b[0m\u001b[0msession\u001b[0m\u001b[0;34m.\u001b[0m\u001b[0mstart\u001b[0m\u001b[0;34m(\u001b[0m\u001b[0mself\u001b[0m\u001b[0;34m,\u001b[0m \u001b[0;34m**\u001b[0m\u001b[0mkwargs\u001b[0m\u001b[0;34m)\u001b[0m\u001b[0;34m\u001b[0m\u001b[0;34m\u001b[0m\u001b[0m\n\u001b[0m\u001b[1;32m    158\u001b[0m         \u001b[0;32mexcept\u001b[0m \u001b[0mIOError\u001b[0m\u001b[0;34m:\u001b[0m\u001b[0;34m\u001b[0m\u001b[0;34m\u001b[0m\u001b[0m\n\u001b[1;32m    159\u001b[0m             \u001b[0mself\u001b[0m\u001b[0;34m.\u001b[0m\u001b[0msession\u001b[0m \u001b[0;34m=\u001b[0m \u001b[0;32mNone\u001b[0m\u001b[0;34m\u001b[0m\u001b[0;34m\u001b[0m\u001b[0m\n",
      "\u001b[0;32mfiona/ogrext.pyx\u001b[0m in \u001b[0;36mfiona.ogrext.WritingSession.start\u001b[0;34m()\u001b[0m\n",
      "\u001b[0;32mfiona/_shim.pyx\u001b[0m in \u001b[0;36mfiona._shim.gdal_create\u001b[0;34m()\u001b[0m\n",
      "\u001b[0;31mDriverError\u001b[0m: sqlite3_open(/LUSTRE/MADMEX/training/cultivos/igamma_veracruz/entrega_1_feb_2020_normalized_attributes/cultivos2019_normalized_string_attributes.gpkg) failed: unable to open database file"
     ]
    }
   ],
   "source": [
    "output_filename_geonode = reproj_normalize_and_write_small_medium_size_vector(gdf, \n",
    "                                                                              list_name_attributes,\n",
    "                                                                              layer,\n",
    "                                                                              direc_input_filename,\n",
    "                                                                              output_filename)\n",
    "\n"
   ]
  },
  {
   "cell_type": "code",
   "execution_count": 12,
   "metadata": {},
   "outputs": [
    {
     "name": "stdout",
     "output_type": "stream",
     "text": [
      "/shared_volume/ftp_dir/test3_samof_vector/test3_samof_vector.shp\n"
     ]
    }
   ],
   "source": [
    "print(output_filename_geonode)"
   ]
  },
  {
   "cell_type": "code",
   "execution_count": 20,
   "metadata": {},
   "outputs": [],
   "source": [
    "asociacio = gdf[\"Asociació\"]"
   ]
  },
  {
   "cell_type": "code",
   "execution_count": 21,
   "metadata": {},
   "outputs": [
    {
     "data": {
      "text/plain": [
       "0        NA\n",
       "1        NA\n",
       "2        NA\n",
       "3        NA\n",
       "4        NA\n",
       "         ..\n",
       "14633    NA\n",
       "14634    NA\n",
       "14635    NA\n",
       "14636    NA\n",
       "14637    NA\n",
       "Name: Asociació, Length: 14638, dtype: object"
      ]
     },
     "execution_count": 21,
     "metadata": {},
     "output_type": "execute_result"
    }
   ],
   "source": [
    "asociacio"
   ]
  },
  {
   "cell_type": "code",
   "execution_count": 27,
   "metadata": {},
   "outputs": [
    {
     "data": {
      "text/plain": [
       "array(['NA', 'Café Sol-Limón', 'Cítrico-Café', 'Cítrico-Café Sol',\n",
       "       'Cítrico-Maíz', 'Cítrico-Plátano', 'Café-Cítrico'], dtype=object)"
      ]
     },
     "execution_count": 27,
     "metadata": {},
     "output_type": "execute_result"
    }
   ],
   "source": [
    "asociacio.unique()"
   ]
  },
  {
   "cell_type": "code",
   "execution_count": 28,
   "metadata": {},
   "outputs": [
    {
     "data": {
      "text/plain": [
       "NA                  14622\n",
       "Cítrico-Maíz            7\n",
       "Cítrico-Plátano         4\n",
       "Cítrico-Café Sol        2\n",
       "Café Sol-Limón          1\n",
       "Café-Cítrico            1\n",
       "Cítrico-Café            1\n",
       "Name: Asociació, dtype: int64"
      ]
     },
     "execution_count": 28,
     "metadata": {},
     "output_type": "execute_result"
    }
   ],
   "source": [
    "asociacio.value_counts()"
   ]
  },
  {
   "cell_type": "markdown",
   "metadata": {},
   "source": [
    "## b) Register vector layer in geonode via `importlayers`"
   ]
  },
  {
   "cell_type": "markdown",
   "metadata": {},
   "source": [
    "**1) Importlayers cmd**"
   ]
  },
  {
   "cell_type": "code",
   "execution_count": 13,
   "metadata": {},
   "outputs": [],
   "source": [
    "region = \"\".join([\"\\\"Mexico, North America, Latin America\\\"\"])\n",
    "#name = \"\\\"samof_madmex_vector\\\"\"\n",
    "name_geonode = ''.join(['\\\"', name, '\\\"'])\n",
    "title = \"\\\"Test3 Samof MAD-MEX\\\"\"\n",
    "abstract = \"\\\"MAD-Mex land cover change\\\"\"\n",
    "kw = \"\\\"MAD-Mex, WCS\\\"\"\n"
   ]
  },
  {
   "cell_type": "code",
   "execution_count": 14,
   "metadata": {},
   "outputs": [
    {
     "data": {
      "text/plain": [
       "'\"test3_samof_vector\"'"
      ]
     },
     "execution_count": 14,
     "metadata": {},
     "output_type": "execute_result"
    }
   ],
   "source": [
    "name_geonode"
   ]
  },
  {
   "cell_type": "code",
   "execution_count": 15,
   "metadata": {},
   "outputs": [],
   "source": [
    "from docker import APIClient\n"
   ]
  },
  {
   "cell_type": "code",
   "execution_count": 16,
   "metadata": {},
   "outputs": [],
   "source": [
    "c = APIClient(base_url='tcp://172.17.0.1:1111')"
   ]
  },
  {
   "cell_type": "code",
   "execution_count": 17,
   "metadata": {},
   "outputs": [],
   "source": [
    "cmd = \"\".join([\"python manage.py importlayers -v 3 -i -o \",\n",
    "               \"-n \", name_geonode, \" \",\n",
    "               \"-t \", title, \" \",\n",
    "               \"-a \", abstract, \" \",\n",
    "               \"-k \", kw, \" \",\n",
    "               \"-r \", region, \" \",\n",
    "               output_filename_geonode, \" \",\n",
    "               \"--settings=geonode.local_settings\"])\n",
    "ex = c.exec_create(container = 'spcgeonode_django_1', \n",
    "                   cmd = cmd)\n"
   ]
  },
  {
   "cell_type": "code",
   "execution_count": 18,
   "metadata": {},
   "outputs": [],
   "source": [
    "ex_start = c.exec_start(exec_id=ex)"
   ]
  },
  {
   "cell_type": "code",
   "execution_count": 23,
   "metadata": {},
   "outputs": [],
   "source": [
    "#print(ex_start)"
   ]
  },
  {
   "cell_type": "code",
   "execution_count": 19,
   "metadata": {},
   "outputs": [],
   "source": [
    "output_filename_without_extension = output_filename_geonode.split('.')[0]"
   ]
  },
  {
   "cell_type": "code",
   "execution_count": 20,
   "metadata": {},
   "outputs": [],
   "source": [
    "from glob import glob"
   ]
  },
  {
   "cell_type": "code",
   "execution_count": 21,
   "metadata": {},
   "outputs": [],
   "source": [
    "l_output_filenames = glob(output_filename_without_extension +'*',recursive=True)"
   ]
  },
  {
   "cell_type": "code",
   "execution_count": 22,
   "metadata": {},
   "outputs": [
    {
     "data": {
      "text/plain": [
       "['/shared_volume/ftp_dir/test3_samof_vector/test3_samof_vector.dbf',\n",
       " '/shared_volume/ftp_dir/test3_samof_vector/test3_samof_vector.prj',\n",
       " '/shared_volume/ftp_dir/test3_samof_vector/test3_samof_vector.shx',\n",
       " '/shared_volume/ftp_dir/test3_samof_vector/test3_samof_vector.shp',\n",
       " '/shared_volume/ftp_dir/test3_samof_vector/test3_samof_vector.cpg']"
      ]
     },
     "execution_count": 22,
     "metadata": {},
     "output_type": "execute_result"
    }
   ],
   "source": [
    "l_output_filenames"
   ]
  },
  {
   "cell_type": "code",
   "execution_count": 23,
   "metadata": {},
   "outputs": [],
   "source": [
    "for filenames in l_output_filenames:\n",
    "    os.remove(filenames)"
   ]
  },
  {
   "cell_type": "code",
   "execution_count": 24,
   "metadata": {},
   "outputs": [],
   "source": [
    "os.removedirs(output_filename)"
   ]
  },
  {
   "cell_type": "markdown",
   "metadata": {},
   "source": [
    "**2) Make sure you are able to download it and see thumbnail. If not click to button refresh attributes and statistics for the layer in geonode. For thumbnail increase nginx conf proxy_read_timeout parameter.**"
   ]
  },
  {
   "cell_type": "markdown",
   "metadata": {},
   "source": [
    "**3) Create style in geoserver manually**"
   ]
  },
  {
   "cell_type": "markdown",
   "metadata": {},
   "source": [
    "# c) Pack gpkg, style and copy to path for ftp"
   ]
  },
  {
   "cell_type": "code",
   "execution_count": 1,
   "metadata": {},
   "outputs": [],
   "source": [
    "title_layer = \"Test3 Samof MAD-MEX\" #this will be input of function\n",
    "destiny_path = \"/shared_volume/ftp_dir/\" #input of function\n",
    "dir_path_styles_geonode = \"/shared_volume/geonode/scripts/spcgeonode/_volume_geodatadir/workspaces/geonode/styles/\" #input of function\n",
    "#dir_path_layers_geonode = \"/shared_volume/geonode/scripts/spcgeonode/_volume_geodatadir/data/geonode/\" #input of function\n",
    "\n",
    "dir_path_layers_geonode = destiny_path"
   ]
  },
  {
   "cell_type": "code",
   "execution_count": 2,
   "metadata": {},
   "outputs": [
    {
     "name": "stderr",
     "output_type": "stream",
     "text": [
      "/shared_volume/geonode_conabio/python3_package_for_geonode/geonode_conabio/settings.py:12: UserWarning: No configuration file found in /root/.geonode_conabio, some functionalities won't be available\n",
      "  warnings.warn('No configuration file found in %s, some functionalities won\\'t be available' % dotenv_path)\n"
     ]
    }
   ],
   "source": [
    "from geonode_conabio.utils_docker import get_layer_and_style_registered_in_geonode_via_docker\n",
    "from geonode_conabio.utils_style import get_cmap_from_element_list_madmex_style\n",
    "from geonode_conabio.utils_parser import parse_sld_madmex_style"
   ]
  },
  {
   "cell_type": "code",
   "execution_count": 3,
   "metadata": {},
   "outputs": [],
   "source": [
    "result_get = get_layer_and_style_registered_in_geonode_via_docker(title_layer)"
   ]
  },
  {
   "cell_type": "code",
   "execution_count": 4,
   "metadata": {},
   "outputs": [
    {
     "name": "stdout",
     "output_type": "stream",
     "text": [
      "b'test3_samof_vector\\ntest3_samof_vector\\n'\n"
     ]
    }
   ],
   "source": [
    "print(result_get)"
   ]
  },
  {
   "cell_type": "code",
   "execution_count": 5,
   "metadata": {},
   "outputs": [
    {
     "data": {
      "text/plain": [
       "['test3_samof_vector', 'test3_samof_vector']"
      ]
     },
     "execution_count": 5,
     "metadata": {},
     "output_type": "execute_result"
    }
   ],
   "source": [
    "result_get.decode().split(\"\\n\")[0:2]"
   ]
  },
  {
   "cell_type": "code",
   "execution_count": 6,
   "metadata": {},
   "outputs": [],
   "source": [
    "layer_name, style_name = result_get.decode().split(\"\\n\")[0:2]"
   ]
  },
  {
   "cell_type": "code",
   "execution_count": 7,
   "metadata": {},
   "outputs": [
    {
     "data": {
      "text/plain": [
       "'test3_samof_vector'"
      ]
     },
     "execution_count": 7,
     "metadata": {},
     "output_type": "execute_result"
    }
   ],
   "source": [
    "layer_name"
   ]
  },
  {
   "cell_type": "code",
   "execution_count": 8,
   "metadata": {},
   "outputs": [
    {
     "data": {
      "text/plain": [
       "'test3_samof_vector'"
      ]
     },
     "execution_count": 8,
     "metadata": {},
     "output_type": "execute_result"
    }
   ],
   "source": [
    "style_name"
   ]
  },
  {
   "cell_type": "code",
   "execution_count": 9,
   "metadata": {},
   "outputs": [],
   "source": [
    "import os"
   ]
  },
  {
   "cell_type": "code",
   "execution_count": 10,
   "metadata": {},
   "outputs": [],
   "source": [
    "style_source_path =  os.path.join(dir_path_styles_geonode, style_name +  \".sld\")\n",
    "layer_source_path =  os.path.join(dir_path_layers_geonode, layer_name + \".gpkg\")"
   ]
  },
  {
   "cell_type": "code",
   "execution_count": 11,
   "metadata": {},
   "outputs": [
    {
     "data": {
      "text/plain": [
       "'/shared_volume/ftp_dir/test3_samof_vector.gpkg'"
      ]
     },
     "execution_count": 11,
     "metadata": {},
     "output_type": "execute_result"
    }
   ],
   "source": [
    "layer_source_path"
   ]
  },
  {
   "cell_type": "code",
   "execution_count": 12,
   "metadata": {},
   "outputs": [
    {
     "data": {
      "text/plain": [
       "'/shared_volume/geonode/scripts/spcgeonode/_volume_geodatadir/workspaces/geonode/styles/test3_samof_vector.sld'"
      ]
     },
     "execution_count": 12,
     "metadata": {},
     "output_type": "execute_result"
    }
   ],
   "source": [
    "style_source_path"
   ]
  },
  {
   "cell_type": "code",
   "execution_count": 13,
   "metadata": {},
   "outputs": [],
   "source": [
    "from geonode_conabio.utils_os import zip_dir_for_layer_and_style"
   ]
  },
  {
   "cell_type": "code",
   "execution_count": 14,
   "metadata": {},
   "outputs": [],
   "source": [
    "#Zip dir        \n",
    "zip_file = os.path.join(destiny_path, layer_name)\n",
    "zip_file = ''.join([zip_file, \".zip\"])\n",
    "\n"
   ]
  },
  {
   "cell_type": "code",
   "execution_count": 15,
   "metadata": {},
   "outputs": [
    {
     "data": {
      "text/plain": [
       "'/shared_volume/ftp_dir/test3_samof_vector.zip'"
      ]
     },
     "execution_count": 15,
     "metadata": {},
     "output_type": "execute_result"
    }
   ],
   "source": [
    "zip_file"
   ]
  },
  {
   "cell_type": "code",
   "execution_count": 25,
   "metadata": {},
   "outputs": [],
   "source": [
    "zip_dir_for_layer_and_style(zip_file, layer_source_path, style_source_path) "
   ]
  },
  {
   "cell_type": "code",
   "execution_count": 16,
   "metadata": {},
   "outputs": [
    {
     "name": "stdout",
     "output_type": "stream",
     "text": [
      "test3_samof_vector.zip\n"
     ]
    }
   ],
   "source": [
    "#if success creating download link in geonode\n",
    "print(os.path.basename(zip_file))\n"
   ]
  },
  {
   "cell_type": "code",
   "execution_count": 17,
   "metadata": {},
   "outputs": [],
   "source": [
    "download_path = \"miftp/\""
   ]
  },
  {
   "cell_type": "code",
   "execution_count": 18,
   "metadata": {},
   "outputs": [],
   "source": [
    "download_url = os.path.join(download_path, os.path.basename(zip_file))\n"
   ]
  },
  {
   "cell_type": "code",
   "execution_count": 19,
   "metadata": {},
   "outputs": [
    {
     "data": {
      "text/plain": [
       "'miftp/test3_samof_vector.zip'"
      ]
     },
     "execution_count": 19,
     "metadata": {},
     "output_type": "execute_result"
    }
   ],
   "source": [
    "download_url"
   ]
  },
  {
   "cell_type": "code",
   "execution_count": 21,
   "metadata": {},
   "outputs": [],
   "source": [
    "from geonode_conabio.utils_docker import create_link_in_geonode_for_zip_file_via_docker"
   ]
  },
  {
   "cell_type": "code",
   "execution_count": 22,
   "metadata": {},
   "outputs": [],
   "source": [
    "if os.path.exists(zip_file):\n",
    "    create_link_in_geonode_for_zip_file_via_docker(download_url, title_layer)  "
   ]
  },
  {
   "cell_type": "markdown",
   "metadata": {},
   "source": [
    "# Towards python3 package"
   ]
  },
  {
   "cell_type": "markdown",
   "metadata": {},
   "source": [
    "Following\n",
    "\n",
    "https://python-packaging.readthedocs.io/en/latest/minimal.html"
   ]
  }
 ],
 "metadata": {
  "kernelspec": {
   "display_name": "Python 3",
   "language": "python",
   "name": "python3"
  },
  "kubeflow_notebook": {
   "docker_image": "",
   "experiment": {
    "id": "",
    "name": ""
   },
   "experiment_name": "",
   "pipeline_description": "",
   "pipeline_name": "",
   "volumes": []
  },
  "language_info": {
   "codemirror_mode": {
    "name": "ipython",
    "version": 3
   },
   "file_extension": ".py",
   "mimetype": "text/x-python",
   "name": "python",
   "nbconvert_exporter": "python",
   "pygments_lexer": "ipython3",
   "version": "3.6.9"
  }
 },
 "nbformat": 4,
 "nbformat_minor": 4
}
