{
 "cells": [
  {
   "cell_type": "markdown",
   "metadata": {},
   "source": [
    "# 1) Large size vectors: lcc MAD-Mex"
   ]
  },
  {
   "cell_type": "markdown",
   "metadata": {},
   "source": [
    "## a) Normalize, reproject to wgs84"
   ]
  },
  {
   "cell_type": "code",
   "execution_count": null,
   "metadata": {},
   "outputs": [],
   "source": [
    "import os"
   ]
  },
  {
   "cell_type": "code",
   "execution_count": 2,
   "metadata": {},
   "outputs": [],
   "source": [
    "cur_directory = os.getcwd()"
   ]
  },
  {
   "cell_type": "code",
   "execution_count": 3,
   "metadata": {},
   "outputs": [],
   "source": [
    "dir_alg_python = '/LUSTRE/MADMEX/tasks/2020/6_geonode/geonode-issue-3/python3_package_for_geonode/geonode_conabio'"
   ]
  },
  {
   "cell_type": "code",
   "execution_count": 4,
   "metadata": {},
   "outputs": [],
   "source": [
    "os.chdir(dir_alg_python)"
   ]
  },
  {
   "cell_type": "code",
   "execution_count": 5,
   "metadata": {},
   "outputs": [],
   "source": [
    "import fiona\n",
    "from pyproj import Proj\n",
    "from fiona.crs import to_string\n",
    "\n",
    "from wrappers import reproj_normalize_and_write_large_vector\n"
   ]
  },
  {
   "cell_type": "code",
   "execution_count": 7,
   "metadata": {},
   "outputs": [],
   "source": [
    "#direc = \"/LUSTRE/MADMEX/products/landcoverchange/landsat/mosaics/2017_2018\"\n",
    "direc = \"/LUSTRE/MADMEX/products/landcoverchange/sentinel2/2017_2018/indi50k/estados/HIDALGO/\""
   ]
  },
  {
   "cell_type": "code",
   "execution_count": 8,
   "metadata": {},
   "outputs": [],
   "source": [
    "#input_filename = direc + \"/madmex_landsat_changes_2017-2018.shp\"\n",
    "#output_filename = direc + \"/madmex_landsat_changes_2017-2018_wgs84_using_fiona.shp\"\n",
    "#layer = \"madmex_landsat_changes_2017-2018_wgs84_using_fiona\"\n",
    "input_filename = direc + \"HIDALGO_merge.shp\"\n",
    "output_filename = direc + \"HIDALGO_merge_wgs84_using_fiona.shp\"\n",
    "layer = \"HIDALGO_merge_wgs84_using_fiona\"\n",
    "#dst_crs = \"4326\"\n",
    "name_attribute1 = \"t1_dsc_31\"\n",
    "name_attribute2 = \"t2_dsc_31\"\n",
    "name_attribute3 = \"t1_dsc_17\"\n",
    "name_attribute4 = \"t2_dsc_17\"\n",
    "name_attribute5 = \"cmb_dsc_31\"\n",
    "name_attribute6 = \"cmb_dsc_17\""
   ]
  },
  {
   "cell_type": "code",
   "execution_count": 9,
   "metadata": {},
   "outputs": [],
   "source": [
    "list_name_attributes = [name_attribute1, name_attribute2,\n",
    "                        name_attribute3, name_attribute4,\n",
    "                        name_attribute5, name_attribute6]"
   ]
  },
  {
   "cell_type": "markdown",
   "metadata": {},
   "source": [
    "**Read and call wrapper**"
   ]
  },
  {
   "cell_type": "code",
   "execution_count": 13,
   "metadata": {},
   "outputs": [],
   "source": [
    "with fiona.open(input_filename) as src:\n",
    "    fc = (feature for feature in src if not None in [feature['properties'][att] for att in list_name_attributes] and\n",
    "                                                     feature['geometry'] is not None)\n",
    "    src_crs = to_string(src.crs)\n",
    "    proj_src_crs = Proj(src_crs)\n",
    "    fc_schema = src.schema\n",
    "    if not proj_src_crs.crs.is_geographic:\n",
    "        reproj_normalize_and_write_large_vector(fc, fc_schema,\n",
    "                                                list_name_attributes,\n",
    "                                                layer,\n",
    "                                                output_filename,\n",
    "                                                src_crs, \n",
    "                                                is_geographic = False\n",
    "                                                )\n",
    "    else:\n",
    "        reproj_normalize_and_write_large_vector(fc, fc_schema, \n",
    "                                                list_name_attributes,\n",
    "                                                layer,\n",
    "                                                output_filename,\n",
    "                                                src_crs\n",
    "                                                )\n",
    "        "
   ]
  },
  {
   "cell_type": "markdown",
   "metadata": {},
   "source": [
    "## b) Register large vector layer in geonode via `shp2pgsql` and `updatelayers`"
   ]
  },
  {
   "cell_type": "markdown",
   "metadata": {},
   "source": [
    "**Make sure stack deployment of geonode is up and running**"
   ]
  },
  {
   "cell_type": "markdown",
   "metadata": {},
   "source": [
    "**1) Create `~/.pgpass` with contents: `hostname:port:database:username:password` and `chmod 0600 ~/.pgpass`**"
   ]
  },
  {
   "cell_type": "code",
   "execution_count": 9,
   "metadata": {},
   "outputs": [],
   "source": [
    "from utils_cli import create_table_via_shp2pgsql"
   ]
  },
  {
   "cell_type": "code",
   "execution_count": 10,
   "metadata": {},
   "outputs": [],
   "source": [
    "#next need to be in lowercase\n",
    "name_table = \"hidalgo_madmex_lcc_2017_2018_fiona\" #madmex_landsat_2017-2018_lcc\n"
   ]
  },
  {
   "cell_type": "code",
   "execution_count": 24,
   "metadata": {},
   "outputs": [
    {
     "name": "stdout",
     "output_type": "stream",
     "text": [
      "hidalgo_madmex_lcc_2017_2018_fiona\n",
      "after wait\n"
     ]
    }
   ],
   "source": [
    "[result_create_table, name_table, out, err] = create_table_via_shp2pgsql(output_filename, name_table)"
   ]
  },
  {
   "cell_type": "code",
   "execution_count": 25,
   "metadata": {},
   "outputs": [
    {
     "name": "stdout",
     "output_type": "stream",
     "text": [
      "(0, None, b'')\n"
     ]
    }
   ],
   "source": [
    "print((result_create_table, out, err))"
   ]
  },
  {
   "cell_type": "markdown",
   "metadata": {},
   "source": [
    "**2) Add to geoserver from geonode_data database**. Need to follow: https://training.geonode.geo-solutions.it/004_admin_workshop/007_loading_data_into_geonode/geoserver.html"
   ]
  },
  {
   "cell_type": "code",
   "execution_count": 1,
   "metadata": {},
   "outputs": [],
   "source": [
    "from docker import APIClient\n"
   ]
  },
  {
   "cell_type": "code",
   "execution_count": 2,
   "metadata": {},
   "outputs": [],
   "source": [
    "c = APIClient(base_url='unix://var/run/docker.sock')"
   ]
  },
  {
   "cell_type": "code",
   "execution_count": 3,
   "metadata": {},
   "outputs": [],
   "source": [
    "string1 = \"from geoserver.catalog import Catalog;\"\n"
   ]
  },
  {
   "cell_type": "code",
   "execution_count": 4,
   "metadata": {},
   "outputs": [],
   "source": [
    "string2 = \"cat = Catalog('http://geonode.conabio.gob.mx' + '/geoserver/rest', \\'\""
   ]
  },
  {
   "cell_type": "code",
   "execution_count": 5,
   "metadata": {},
   "outputs": [],
   "source": [
    "user = \"miuser\""
   ]
  },
  {
   "cell_type": "code",
   "execution_count": 6,
   "metadata": {},
   "outputs": [],
   "source": [
    "passwd = \"mipassword\""
   ]
  },
  {
   "cell_type": "code",
   "execution_count": 8,
   "metadata": {},
   "outputs": [],
   "source": [
    "string3 = \"gstore = cat.get_stores(names=['geonode_data'], workspaces=['geonode']);\""
   ]
  },
  {
   "cell_type": "code",
   "execution_count": 9,
   "metadata": {},
   "outputs": [],
   "source": [
    "epsg_code = \"EPSG:4326\""
   ]
  },
  {
   "cell_type": "code",
   "execution_count": 10,
   "metadata": {},
   "outputs": [],
   "source": [
    "native_name = \"aguascalientes_merge_wgs84_fiona\""
   ]
  },
  {
   "cell_type": "code",
   "execution_count": 11,
   "metadata": {},
   "outputs": [],
   "source": [
    "string4 = \"cat.publish_featuretype(native_name, gstore[0], epsg_code, native_name=native_name)\""
   ]
  },
  {
   "cell_type": "code",
   "execution_count": 12,
   "metadata": {},
   "outputs": [],
   "source": [
    "string = \"\".join([string, string2, \n",
    "                  user, \"\\', \", \"\\'\", passwd, \"\\');\",\n",
    "                  string3,\n",
    "                  \"native_name = \\'\", native_name, \"\\';\", \n",
    "                  \"epsg_code = \\'\", epsg_code, \"\\';\", \n",
    "                  string4])"
   ]
  },
  {
   "cell_type": "code",
   "execution_count": 14,
   "metadata": {},
   "outputs": [],
   "source": [
    "cmd = \"\".join([\"python -c \", \"\\\"\", string, \"\\\"\"])"
   ]
  },
  {
   "cell_type": "code",
   "execution_count": 16,
   "metadata": {},
   "outputs": [],
   "source": [
    "ex = c.exec_create(container = 'spcgeonode_django_1', \n",
    "                   cmd = cmd)\n"
   ]
  },
  {
   "cell_type": "code",
   "execution_count": 17,
   "metadata": {},
   "outputs": [],
   "source": [
    "ex_start = c.exec_start(exec_id=ex)"
   ]
  },
  {
   "cell_type": "code",
   "execution_count": 18,
   "metadata": {},
   "outputs": [
    {
     "name": "stdout",
     "output_type": "stream",
     "text": [
      "b'Traceback (most recent call last):\\n  File \"<string>\", line 1, in <module>\\n  File \"/usr/local/lib/python3.7/site-packages/geoserver/catalog.py\", line 889, in publish_featuretype\\n    raise FailedRequestError(\\'Failed to publish feature type {} : {}, {}\\'.format(name, resp.status_code, resp.text))\\ngeoserver.catalog.FailedRequestError: Failed to publish feature type aguascalientes_merge_wgs84_fiona : 500, Resource named \\'aguascalientes_merge_wgs84_fiona\\' already exists in store: \\'geonode_data\\'\\n'\n"
     ]
    }
   ],
   "source": [
    "print(ex_start)"
   ]
  },
  {
   "cell_type": "markdown",
   "metadata": {},
   "source": [
    "**3) Update layers using docker container `spcgeonode_django_1`**"
   ]
  },
  {
   "cell_type": "code",
   "execution_count": 11,
   "metadata": {},
   "outputs": [],
   "source": [
    "from utils_docker import update_layers_via_docker"
   ]
  },
  {
   "cell_type": "code",
   "execution_count": 12,
   "metadata": {},
   "outputs": [],
   "source": [
    "result_update = update_layers_via_docker(name_table)"
   ]
  },
  {
   "cell_type": "code",
   "execution_count": 14,
   "metadata": {},
   "outputs": [],
   "source": [
    "#print(result_update)"
   ]
  },
  {
   "cell_type": "markdown",
   "metadata": {},
   "source": [
    "**4) Make sure you are able to download it and see thumbnail. If not click to button refresh attributes and statistics for the layer in geonode. For thumbnail increase nginx conf proxy_read_timeout parameter.**"
   ]
  },
  {
   "cell_type": "markdown",
   "metadata": {},
   "source": [
    "# 2) Small or medium size raster: lc MAD-Mex"
   ]
  },
  {
   "cell_type": "markdown",
   "metadata": {},
   "source": [
    "## a) Reproject to wgs84, compress and tile it"
   ]
  },
  {
   "cell_type": "markdown",
   "metadata": {},
   "source": [
    "Based on: \n",
    "\n",
    "https://rasterio.readthedocs.io/en/latest/topics/reproject.html\n",
    "\n",
    "https://rasterio.readthedocs.io/en/latest/topics/image_options.html"
   ]
  },
  {
   "cell_type": "code",
   "execution_count": 1,
   "metadata": {},
   "outputs": [],
   "source": [
    "from pyproj import Proj\n",
    "import rasterio\n",
    "\n",
    "from geonode_conabio.wrappers import reproj_and_write_one_band_raster"
   ]
  },
  {
   "cell_type": "code",
   "execution_count": 2,
   "metadata": {},
   "outputs": [],
   "source": [
    "#direc = '/LUSTRE/MADMEX/products/landcover/sentinel2/2017/31'\n",
    "#direc = '/LUSTRE/MADMEX/products/landcover/sentinel2/2017/estados/Aguascalientes/31/'\n",
    "#direc = '/LUSTRE/MADMEX/products/landcover/sentinel2/2017/estados/Hidalgo/31/'\n",
    "direc = '/LUSTRE/MADMEX/products/landcover/landsat/2015/32/'"
   ]
  },
  {
   "cell_type": "code",
   "execution_count": 4,
   "metadata": {},
   "outputs": [],
   "source": [
    "#input_filename = ''.join([direc, '/madmex_sentinel2_2017_31.tif'])\n",
    "#output_filename = ''.join([direc, '/madmex_sentinel2_2017_31_wgs84_tiled_rasterio.tif'])\n",
    "#input_filename = ''.join([direc, '/Aguascalientes_2017_31.tif'])\n",
    "#output_filename = ''.join([direc, '/Aguascalientes_2017_31_wgs84_tiled_rasterio.tif'])\n",
    "#input_filename = ''.join([direc, '/Hidalgo_2017_31.tif'])\n",
    "#output_filename = ''.join([direc, '/Hidalgo_2017_31_wgs84_tiled_rasterio.tif'])\n",
    "#input_filename = \"\".join([direc, \"/eoss4tnc_landcover_landsat8_2016_20200220_auxlabel_madmexplus_QRO.tif\"])\n",
    "#output_filename = \"\".join([direc, \"/eoss4tnc_landcover_landsat8_2016_20200220_auxlabel_madmexplus_QRO_rasterio.tif\"])\n",
    "input_filename = \"\".join([direc, \"madmex_lc_2015.tif\"])\n",
    "output_filename = \"\".join([direc, \"madmex_lc_2015_wgs84_tiled_rasterio.tif\"])\n",
    "#dst_crs = 'EPSG:4326'"
   ]
  },
  {
   "cell_type": "code",
   "execution_count": 5,
   "metadata": {},
   "outputs": [],
   "source": [
    "with rasterio.open(input_filename) as src:\n",
    "    src_crs = src.crs.to_string()\n",
    "    proj_crs = Proj(src_crs)\n",
    "    if not proj_crs.crs.is_geographic:\n",
    "        reproj_and_write_one_band_raster(src, output_filename,\n",
    "                                         is_geographic=False)\n",
    "    else:\n",
    "        reproj_and_write_one_band_raster(src, output_filename)"
   ]
  },
  {
   "cell_type": "markdown",
   "metadata": {},
   "source": [
    "## b) Register small, medium or large raster layer in geonode via `importlayers`"
   ]
  },
  {
   "cell_type": "markdown",
   "metadata": {},
   "source": [
    "**1) Importlayers cmd**"
   ]
  },
  {
   "cell_type": "code",
   "execution_count": 1,
   "metadata": {},
   "outputs": [],
   "source": [
    "direc = '/LUSTRE/MADMEX/products/landcover/landsat/2015/32/'"
   ]
  },
  {
   "cell_type": "code",
   "execution_count": 2,
   "metadata": {},
   "outputs": [],
   "source": [
    "output_filename = \"\".join([direc, \"madmex_lc_2015_wgs84_tiled_rasterio.tif\"])"
   ]
  },
  {
   "cell_type": "code",
   "execution_count": 3,
   "metadata": {},
   "outputs": [],
   "source": [
    "region = \"Mexico, North America, Latin America\"\n",
    "name=\"National_MAD-Mex_landsat8_lc_2015_32_classes\"\n",
    "title=\"National land cover map 2015 32 classes\"\n",
    "kw=\"MAD-Mex, Landsat8, GeoTIFF, WCS\"\n",
    "abstract=\"Land cover sourced by Landsat8 satellite images. All available images for the required calendar years were acquired through the ESPA processing system and were provided as atmospherically corrected surface reflectance and are accompanied by quality layers assigning, amongst others, pixels obscured by clouds and cloud shadows. Land cover is generated using a novel semi automated workflow based on time series processing and optimized training data generation. The workflow consists of the following procedures, including data acquisition, time series generation and processing, spectral clustering, training data generation and optimization, supervised object-based classifications, and geometry harmonization. \"\n"
   ]
  },
  {
   "cell_type": "code",
   "execution_count": 4,
   "metadata": {},
   "outputs": [],
   "source": [
    "region = ''.join([\"\\\"\", region, \"\\\"\"])\n",
    "name = ''.join([\"\\\"\", name, \"\\\"\"])\n",
    "title = ''.join([\"\\\"\", title, \"\\\"\"])\n",
    "abstract = ''.join([\"\\\"\", abstract, \"\\\"\"])\n",
    "kw = ''.join([\"\\\"\", kw, \"\\\"\"])"
   ]
  },
  {
   "cell_type": "code",
   "execution_count": 5,
   "metadata": {},
   "outputs": [
    {
     "name": "stderr",
     "output_type": "stream",
     "text": [
      "/LUSTRE/MADMEX/tasks/2020/6_geonode/geonode-master/python3_package_for_geonode/geonode_conabio/settings.py:12: UserWarning: No configuration file found in /root/.geonode_conabio, some functionalities won't be available\n",
      "  warnings.warn('No configuration file found in %s, some functionalities won\\'t be available' % dotenv_path)\n"
     ]
    }
   ],
   "source": [
    "from geonode_conabio.utils_docker import import_layers_via_docker"
   ]
  },
  {
   "cell_type": "code",
   "execution_count": 6,
   "metadata": {},
   "outputs": [],
   "source": [
    "result_import = import_layers_via_docker(region, name, title,\n",
    "                                         abstract, kw,\n",
    "                                         output_filename\n",
    "                                         )"
   ]
  },
  {
   "cell_type": "code",
   "execution_count": 14,
   "metadata": {},
   "outputs": [],
   "source": [
    "#print(result_import)"
   ]
  },
  {
   "cell_type": "markdown",
   "metadata": {},
   "source": [
    "**2) Make sure you are able to download it and see thumbnail. If not click to button refresh attributes and statistics for the layer in geonode. For thumbnail increase nginx conf proxy_read_timeout parameter.**"
   ]
  },
  {
   "cell_type": "markdown",
   "metadata": {},
   "source": [
    "# 2) Large size raster: lc MAD-Mex"
   ]
  },
  {
   "cell_type": "markdown",
   "metadata": {},
   "source": [
    "## a) Reproject to wgs84, compress and tile it"
   ]
  },
  {
   "cell_type": "code",
   "execution_count": 1,
   "metadata": {},
   "outputs": [],
   "source": [
    "from pyproj import Proj\n",
    "import rasterio\n",
    "\n",
    "from geonode_conabio.wrappers import reproj_and_write_one_band_raster"
   ]
  },
  {
   "cell_type": "code",
   "execution_count": 2,
   "metadata": {},
   "outputs": [],
   "source": [
    "#direc = '/LUSTRE/MADMEX/products/landcover/sentinel2/2017/31'\n",
    "#direc = '/LUSTRE/MADMEX/products/landcover/sentinel2/2017/estados/Aguascalientes/31/'\n",
    "#direc = '/LUSTRE/MADMEX/products/landcover/sentinel2/2017/estados/Hidalgo/31/'\n",
    "direc = '/LUSTRE/MADMEX/products/landcover/landsat/2015/32/'"
   ]
  },
  {
   "cell_type": "code",
   "execution_count": 4,
   "metadata": {},
   "outputs": [],
   "source": [
    "#input_filename = ''.join([direc, '/madmex_sentinel2_2017_31.tif'])\n",
    "#output_filename = ''.join([direc, '/madmex_sentinel2_2017_31_wgs84_tiled_rasterio.tif'])\n",
    "#input_filename = ''.join([direc, '/Aguascalientes_2017_31.tif'])\n",
    "#output_filename = ''.join([direc, '/Aguascalientes_2017_31_wgs84_tiled_rasterio.tif'])\n",
    "#input_filename = ''.join([direc, '/Hidalgo_2017_31.tif'])\n",
    "#output_filename = ''.join([direc, '/Hidalgo_2017_31_wgs84_tiled_rasterio.tif'])\n",
    "#input_filename = \"\".join([direc, \"/eoss4tnc_landcover_landsat8_2016_20200220_auxlabel_madmexplus_QRO.tif\"])\n",
    "#output_filename = \"\".join([direc, \"/eoss4tnc_landcover_landsat8_2016_20200220_auxlabel_madmexplus_QRO_rasterio.tif\"])\n",
    "input_filename = \"\".join([direc, \"madmex_lc_2015.tif\"])\n",
    "output_filename = \"\".join([direc, \"madmex_lc_2015_wgs84_tiled_rasterio.tif\"])\n",
    "#dst_crs = 'EPSG:4326'"
   ]
  },
  {
   "cell_type": "code",
   "execution_count": 5,
   "metadata": {},
   "outputs": [],
   "source": [
    "with rasterio.open(input_filename) as src:\n",
    "    src_crs = src.crs.to_string()\n",
    "    proj_crs = Proj(src_crs)\n",
    "    if not proj_crs.crs.is_geographic:\n",
    "        reproj_and_write_one_band_raster(src, output_filename,\n",
    "                                         is_geographic=False)\n",
    "    else:\n",
    "        reproj_and_write_one_band_raster(src, output_filename)"
   ]
  },
  {
   "cell_type": "markdown",
   "metadata": {},
   "source": [
    "## b) Register large raster layer in geonode via `importlayers`"
   ]
  },
  {
   "cell_type": "markdown",
   "metadata": {},
   "source": [
    "**1) Importlayers cmd**"
   ]
  },
  {
   "cell_type": "code",
   "execution_count": 1,
   "metadata": {},
   "outputs": [],
   "source": [
    "direc = '/LUSTRE/MADMEX/products/landcover/landsat/2015/32/'"
   ]
  },
  {
   "cell_type": "code",
   "execution_count": 2,
   "metadata": {},
   "outputs": [],
   "source": [
    "output_filename = \"\".join([direc, \"madmex_lc_2015_wgs84_tiled_rasterio.tif\"])"
   ]
  },
  {
   "cell_type": "code",
   "execution_count": 3,
   "metadata": {},
   "outputs": [],
   "source": [
    "region = \"Mexico, North America, Latin America\"\n",
    "name=\"National_MAD-Mex_landsat8_lc_2015_32_classes\"\n",
    "title=\"National land cover map 2015 32 classes\"\n",
    "kw=\"MAD-Mex, Landsat8, GeoTIFF, WCS\"\n",
    "abstract=\"Land cover sourced by Landsat8 satellite images. All available images for the required calendar years were acquired through the ESPA processing system and were provided as atmospherically corrected surface reflectance and are accompanied by quality layers assigning, amongst others, pixels obscured by clouds and cloud shadows. Land cover is generated using a novel semi automated workflow based on time series processing and optimized training data generation. The workflow consists of the following procedures, including data acquisition, time series generation and processing, spectral clustering, training data generation and optimization, supervised object-based classifications, and geometry harmonization. \"\n"
   ]
  },
  {
   "cell_type": "code",
   "execution_count": 4,
   "metadata": {},
   "outputs": [],
   "source": [
    "region = ''.join([\"\\\"\", region, \"\\\"\"])\n",
    "name = ''.join([\"\\\"\", name, \"\\\"\"])\n",
    "title = ''.join([\"\\\"\", title, \"\\\"\"])\n",
    "abstract = ''.join([\"\\\"\", abstract, \"\\\"\"])\n",
    "kw = ''.join([\"\\\"\", kw, \"\\\"\"])"
   ]
  },
  {
   "cell_type": "code",
   "execution_count": 5,
   "metadata": {},
   "outputs": [
    {
     "name": "stderr",
     "output_type": "stream",
     "text": [
      "/LUSTRE/MADMEX/tasks/2020/6_geonode/geonode-master/python3_package_for_geonode/geonode_conabio/settings.py:12: UserWarning: No configuration file found in /root/.geonode_conabio, some functionalities won't be available\n",
      "  warnings.warn('No configuration file found in %s, some functionalities won\\'t be available' % dotenv_path)\n"
     ]
    }
   ],
   "source": [
    "from geonode_conabio.utils_docker import import_layers_via_docker"
   ]
  },
  {
   "cell_type": "code",
   "execution_count": 6,
   "metadata": {},
   "outputs": [],
   "source": [
    "result_import = import_layers_via_docker(region, name, title,\n",
    "                                         abstract, kw,\n",
    "                                         output_filename\n",
    "                                         )"
   ]
  },
  {
   "cell_type": "code",
   "execution_count": 14,
   "metadata": {},
   "outputs": [],
   "source": [
    "#print(result_import)"
   ]
  },
  {
   "cell_type": "markdown",
   "metadata": {},
   "source": [
    "**2) Make sure you are able to download it and see thumbnail. If not click to button refresh attributes and statistics for the layer in geonode. For thumbnail increase nginx conf proxy_read_timeout parameter.**"
   ]
  },
  {
   "cell_type": "markdown",
   "metadata": {},
   "source": [
    "**3) Pack tif and style into zip and copy to path for ftp**"
   ]
  },
  {
   "cell_type": "markdown",
   "metadata": {},
   "source": [
    "```\n",
    "/shared_volume/geonode/scripts/spcgeonode/_volume_geodatadir/workspaces/geonode/styles/madmex_32_classes.sld\n",
    "\n",
    "/shared_volume/geonode/scripts/spcgeonode/_volume_geodatadir/workspaces/geonode/styles/madmex_31_classes.sld\n",
    "\n",
    "/shared_volume/geonode/scripts/spcgeonode/_volume_geodatadir/data/geonode/Test3_National_MAD-Mex_landsat8_lc_2015_32_classes_512_512/Test3_National_MAD-Mex_landsat8_lc_2015_32_classes_512_512.geotiff\n",
    "\n",
    "```"
   ]
  },
  {
   "cell_type": "code",
   "execution_count": 1,
   "metadata": {},
   "outputs": [],
   "source": [
    "from docker import APIClient"
   ]
  },
  {
   "cell_type": "code",
   "execution_count": 2,
   "metadata": {},
   "outputs": [],
   "source": [
    "c = APIClient(base_url='tcp://172.17.0.1:1111')\n",
    "#c = APIClient(base_url='unix://var/run/docker.sock')\n"
   ]
  },
  {
   "cell_type": "code",
   "execution_count": 3,
   "metadata": {},
   "outputs": [],
   "source": [
    "title_layer = \"Test3 National land cover map 2015 32 classes 512 512\" #this will be input of function\n",
    "destiny_dir = \"/shared_volume\""
   ]
  },
  {
   "cell_type": "code",
   "execution_count": 4,
   "metadata": {},
   "outputs": [],
   "source": [
    "string1 = \"\"\"import os;\n",
    "import django;\n",
    "os.chdir('/spcgeonode');\n",
    "os.environ.setdefault('DJANGO_SETTINGS_MODULE', 'geonode.local_settings');\n",
    "django.setup();\n",
    "from geonode.base.models import Link;\n",
    "from geonode.layers.models import Layer;\n",
    "\"\"\""
   ]
  },
  {
   "cell_type": "code",
   "execution_count": 5,
   "metadata": {},
   "outputs": [],
   "source": [
    "string2 = \"layer = Layer.objects.filter(title=\"\n",
    "                                         \n",
    "string3 = \").first();\""
   ]
  },
  {
   "cell_type": "code",
   "execution_count": 6,
   "metadata": {},
   "outputs": [],
   "source": [
    "string4 = \"style_name = layer.default_style.name;\"\n",
    "\n",
    "string5 = \"layer_name = layer.name;\"\n",
    "\n",
    "#string6 = "
   ]
  },
  {
   "cell_type": "code",
   "execution_count": 7,
   "metadata": {},
   "outputs": [],
   "source": [
    "string = \"\".join([string1, \n",
    "                  \"title_layer = \\'\", title_layer, \"\\';\",\n",
    "                  string2, \"\\'\",\n",
    "                  title_layer, \"\\'\", \n",
    "                  string3,\n",
    "                  string4,\n",
    "                  string5,\n",
    "                  \"print(layer_name);\",\n",
    "                  \"print(style_name)\"])"
   ]
  },
  {
   "cell_type": "code",
   "execution_count": 8,
   "metadata": {},
   "outputs": [],
   "source": [
    "cmd = \"\".join([\"python -c \", \"\\\"\", string, \"\\\"\"])"
   ]
  },
  {
   "cell_type": "code",
   "execution_count": 9,
   "metadata": {},
   "outputs": [
    {
     "name": "stdout",
     "output_type": "stream",
     "text": [
      "b'Test3_National_MAD-Mex_landsat8_lc_2015_32_classes_512_512\\nmadmex_32_classes\\n'\n"
     ]
    }
   ],
   "source": [
    "ex = c.exec_create(container = 'spcgeonode_django_1', \n",
    "                   cmd = cmd)\n",
    "ex_start = c.exec_start(exec_id=ex) #if arg stream=True in exec_start method, then returns generator\n",
    "\n",
    "print(ex_start)"
   ]
  },
  {
   "cell_type": "code",
   "execution_count": 10,
   "metadata": {},
   "outputs": [],
   "source": [
    "import os\n",
    "import shutil"
   ]
  },
  {
   "cell_type": "code",
   "execution_count": 11,
   "metadata": {},
   "outputs": [
    {
     "data": {
      "text/plain": [
       "['Test3_National_MAD-Mex_landsat8_lc_2015_32_classes_512_512',\n",
       " 'madmex_32_classes']"
      ]
     },
     "execution_count": 11,
     "metadata": {},
     "output_type": "execute_result"
    }
   ],
   "source": [
    "ex_start.decode().split(\"\\n\")[0:2]"
   ]
  },
  {
   "cell_type": "code",
   "execution_count": 12,
   "metadata": {},
   "outputs": [],
   "source": [
    "layer_name, style_name = ex_start.decode().split(\"\\n\")[0:2]"
   ]
  },
  {
   "cell_type": "code",
   "execution_count": 13,
   "metadata": {},
   "outputs": [
    {
     "data": {
      "text/plain": [
       "'Test3_National_MAD-Mex_landsat8_lc_2015_32_classes_512_512'"
      ]
     },
     "execution_count": 13,
     "metadata": {},
     "output_type": "execute_result"
    }
   ],
   "source": [
    "layer_name"
   ]
  },
  {
   "cell_type": "code",
   "execution_count": 14,
   "metadata": {},
   "outputs": [
    {
     "data": {
      "text/plain": [
       "'madmex_32_classes'"
      ]
     },
     "execution_count": 14,
     "metadata": {},
     "output_type": "execute_result"
    }
   ],
   "source": [
    "style_name"
   ]
  },
  {
   "cell_type": "code",
   "execution_count": 15,
   "metadata": {},
   "outputs": [],
   "source": [
    "destiny_path = \"/shared_volume/ftp_dir/\"\n",
    "style_source_path = \"/shared_volume/geonode/scripts/spcgeonode/_volume_geodatadir/workspaces/geonode/styles/\" + style_name + \".sld\"\n",
    "layer_source_path = \"/shared_volume/geonode/scripts/spcgeonode/_volume_geodatadir/data/geonode/\" + layer_name + \"/\" + layer_name + \".geotiff\""
   ]
  },
  {
   "cell_type": "markdown",
   "metadata": {},
   "source": [
    "**Read sld and write cmap to raster**"
   ]
  },
  {
   "cell_type": "markdown",
   "metadata": {},
   "source": [
    "References:\n",
    "\n",
    "https://github.com/CONABIO/antares3-sandbox/blob/master/notebooks/forests_maps_julian/model_predict_and_db_to_raster_pipeline.ipynb\n",
    "\n",
    "https://github.com/CONABIO/antares3/blob/develop/madmex/util/db.py\n",
    "\n",
    "https://github.com/CONABIO/antares3-sandbox/blob/master/notebooks/rapideye_parsing_metadaata/metadata_parser.ipynb"
   ]
  },
  {
   "cell_type": "code",
   "execution_count": 17,
   "metadata": {},
   "outputs": [],
   "source": [
    "import rasterio\n",
    "import xml.etree.ElementTree as ET"
   ]
  },
  {
   "cell_type": "code",
   "execution_count": 20,
   "metadata": {},
   "outputs": [],
   "source": [
    "root = ET.parse(style_source_path).getroot()"
   ]
  },
  {
   "cell_type": "code",
   "execution_count": 21,
   "metadata": {},
   "outputs": [],
   "source": [
    "ns = \"http://www.opengis.net/sld\""
   ]
  },
  {
   "cell_type": "code",
   "execution_count": 22,
   "metadata": {},
   "outputs": [],
   "source": [
    "rf = root.find('ns:UserLayer/ns:UserStyle/ns:FeatureTypeStyle/ns:Rule/ns:RasterSymbolizer/ns:ColorMap',namespaces={'ns': ns})"
   ]
  },
  {
   "cell_type": "code",
   "execution_count": 23,
   "metadata": {},
   "outputs": [],
   "source": [
    "rf_children = rf.getchildren()"
   ]
  },
  {
   "cell_type": "code",
   "execution_count": 24,
   "metadata": {},
   "outputs": [],
   "source": [
    "def hex_to_rgba(hex_code):\n",
    "    return tuple(int(hex_code[i:i+2], 16) for i in (1, 3 ,5)) + (255,)"
   ]
  },
  {
   "cell_type": "code",
   "execution_count": 25,
   "metadata": {},
   "outputs": [],
   "source": [
    "hex_dict = dict([(i.attrib[\"quantity\"], i.attrib[\"color\"]) for i in rf_children])"
   ]
  },
  {
   "cell_type": "code",
   "execution_count": 26,
   "metadata": {},
   "outputs": [],
   "source": [
    "rgb_dict = {k:hex_to_rgba(v) for k,v in hex_dict.items()}\n",
    "rgb_dict[0] = (0,0,0,0)"
   ]
  },
  {
   "cell_type": "code",
   "execution_count": 27,
   "metadata": {},
   "outputs": [
    {
     "data": {
      "text/plain": [
       "{'1': (0, 81, 0, 255),\n",
       " '2': (0, 126, 0, 255),\n",
       " '3': (0, 60, 0, 255),\n",
       " '4': (170, 170, 0, 255),\n",
       " '5': (170, 128, 0, 255),\n",
       " '6': (139, 170, 0, 255),\n",
       " '7': (255, 178, 101, 255),\n",
       " '8': (0, 217, 0, 255),\n",
       " '9': (170, 0, 127, 255),\n",
       " '10': (255, 85, 255, 255),\n",
       " '11': (255, 85, 127, 255),\n",
       " '12': (255, 0, 127, 255),\n",
       " '13': (255, 85, 255, 255),\n",
       " '14': (170, 255, 255, 255),\n",
       " '15': (0, 255, 255, 255),\n",
       " '16': (85, 170, 255, 255),\n",
       " '17': (226, 151, 0, 255),\n",
       " '18': (189, 126, 0, 255),\n",
       " '19': (150, 100, 0, 255),\n",
       " '20': (162, 236, 177, 255),\n",
       " '21': (196, 98, 0, 255),\n",
       " '22': (170, 85, 0, 255),\n",
       " '23': (109, 54, 0, 255),\n",
       " '24': (0, 170, 127, 255),\n",
       " '25': (0, 138, 101, 255),\n",
       " '26': (0, 89, 65, 255),\n",
       " '27': (233, 233, 175, 255),\n",
       " '28': (250, 255, 152, 255),\n",
       " '29': (0, 0, 127, 255),\n",
       " '30': (199, 200, 188, 255),\n",
       " '31': (77, 16, 9, 255),\n",
       " '123': (58, 117, 0, 255),\n",
       " 0: (0, 0, 0, 0)}"
      ]
     },
     "execution_count": 27,
     "metadata": {},
     "output_type": "execute_result"
    }
   ],
   "source": [
    "rgb_dict"
   ]
  },
  {
   "cell_type": "markdown",
   "metadata": {},
   "source": [
    "Write cmap to raster"
   ]
  },
  {
   "cell_type": "code",
   "execution_count": 30,
   "metadata": {},
   "outputs": [],
   "source": [
    "#if not os.path.exists(destiny_path + layer_name):\n",
    "#    os.makedirs(destiny_path + layer_name)"
   ]
  },
  {
   "cell_type": "code",
   "execution_count": 19,
   "metadata": {},
   "outputs": [],
   "source": [
    "#shutil.copy(style_source_path, destiny_path + layer_name)\n",
    "#shutil.copy(layer_source_path, destiny_path + layer_name)"
   ]
  },
  {
   "cell_type": "code",
   "execution_count": 33,
   "metadata": {},
   "outputs": [],
   "source": [
    "layer_cmap_source_path = destiny_path + \"/\" + layer_name + \".geotiff\""
   ]
  },
  {
   "cell_type": "code",
   "execution_count": null,
   "metadata": {},
   "outputs": [],
   "source": [
    "with rasterio.open(layer_source_path) as src:\n",
    "    arr = src.read(1)\n",
    "    meta = src.meta\n",
    "with rasterio.open(layer_cmap_source_path, 'w', **meta) as dst:\n",
    "    dst.write(arr, indexes=1)\n",
    "    dst.write_colormap(1,rgb_dict)\n",
    "    cmap_result = dst.colormap(1)"
   ]
  },
  {
   "cell_type": "code",
   "execution_count": null,
   "metadata": {},
   "outputs": [],
   "source": [
    "print(cmap_result)"
   ]
  },
  {
   "cell_type": "markdown",
   "metadata": {},
   "source": [
    "References for zipfile:\n",
    "\n",
    "https://thispointer.com/python-how-to-create-a-zip-archive-from-multiple-files-or-directory/\n",
    "\n",
    "https://stackoverflow.com/questions/1855095/how-to-create-a-zip-archive-of-a-directory-in-python"
   ]
  },
  {
   "cell_type": "code",
   "execution_count": 25,
   "metadata": {},
   "outputs": [],
   "source": [
    "import zipfile\n",
    "from os.path import basename"
   ]
  },
  {
   "cell_type": "code",
   "execution_count": 32,
   "metadata": {},
   "outputs": [],
   "source": [
    "zip_file = destiny_path + layer_name + \".zip\""
   ]
  },
  {
   "cell_type": "code",
   "execution_count": 33,
   "metadata": {},
   "outputs": [
    {
     "data": {
      "text/plain": [
       "'/shared_volume/ftp_dir/Test3_National_MAD-Mex_landsat8_lc_2015_32_classes_512_512.zip'"
      ]
     },
     "execution_count": 33,
     "metadata": {},
     "output_type": "execute_result"
    }
   ],
   "source": [
    "zip_file"
   ]
  },
  {
   "cell_type": "code",
   "execution_count": 36,
   "metadata": {},
   "outputs": [],
   "source": [
    "zipf = zipfile.ZipFile(zip_file, 'w', zipfile.ZIP_DEFLATED)\n",
    "zipf.write(style_source_path, basename(style_source_path))\n",
    "zipf.write(layer_source_path, basename(layer_cmap_source_path))\n",
    "zipf.close()"
   ]
  },
  {
   "cell_type": "markdown",
   "metadata": {},
   "source": [
    "**4) Execute update link for original dataset**"
   ]
  },
  {
   "cell_type": "markdown",
   "metadata": {},
   "source": [
    "References:\n",
    "\n",
    "\n",
    "https://github.com/GeoNode/geonode/blob/master/geonode/utils.py#L1668\n",
    "\n",
    "https://github.com/GeoNode/geonode/blob/89ea8460f23b90c085b33b10b8f0700b9ab506d4/geonode/base/management/commands/set_all_layers_metadata.py#L116\n",
    "\n",
    "https://github.com/CONABIO/geonode/blob/master/notebooks/3_geonode_metadata_update.ipynb\n",
    "\n"
   ]
  },
  {
   "cell_type": "markdown",
   "metadata": {},
   "source": [
    "In `/shared_volume/geonode/geonode/settings.py` remove `GZIP` as its not working. First stop and then up:\n",
    "\n",
    "```\n",
    "docker-compose stop\n",
    "\n",
    "docker-compose up -d django geoserver postgres nginx\n",
    "```\n",
    "\n",
    "And remove `GZIP` from `/shared_volume/geonode/geonode/settings.py`\n",
    "\n",
    "```\n",
    "DOWNLOAD_FORMATS_RASTER = [\n",
    "    'JPEG',\n",
    "    'PDF',\n",
    "    'PNG',\n",
    "    'ArcGrid',\n",
    "    'GeoTIFF',\n",
    "    'Gtopo30',\n",
    "    'ImageMosaic',\n",
    "    'KML',\n",
    "    'View in Google Earth',\n",
    "    'Tiles',\n",
    "    'GML',\n",
    "    'QGIS layer file (.qlr)',\n",
    "    'QGIS project file (.qgs)',\n",
    "    'Zipped All Files'\n",
    "]\n",
    "```"
   ]
  },
  {
   "cell_type": "markdown",
   "metadata": {},
   "source": [
    "```\n",
    "#being in docker exec -it spcgeonode_django_1 bash\n",
    "\n",
    "import os\n",
    "import django\n",
    "\n",
    "os.chdir(\"/spcgeonode\")\n",
    "\n",
    "os.environ.setdefault(\"DJANGO_SETTINGS_MODULE\", \"geonode.local_settings\")\n",
    "\n",
    "django.setup()\n",
    "\n",
    "from geonode.base.models import Link\n",
    "\n",
    "from geonode.layers.models import Layer\n",
    "\n",
    "layer = Layer.objects.all()[1]\n",
    "\n",
    "print(layer.title)\n",
    "\n",
    "download_url = \"the url\"\n",
    "\n",
    "extension = \"zip\"\n",
    "\n",
    "name = \"Original Dataset\" #could be \"Raw Data\"\n",
    "\n",
    "mime = \"application/octet-stream\"\n",
    "\n",
    "link_type = \"original\"\n",
    "\n",
    "Link.objects.update_or_create(resource=layer, url=download_url, defaults=dict(extension=extension, name=name, mime=mime, link_type=link_type))\n",
    "\n",
    "\n",
    "```\n"
   ]
  },
  {
   "cell_type": "markdown",
   "metadata": {},
   "source": [
    "```\n",
    "#to delete link:\n",
    "\n",
    "Link.objects.filter(resource=layer,url=download_url).first().delete()\n",
    "\n",
    "```"
   ]
  },
  {
   "cell_type": "markdown",
   "metadata": {},
   "source": [
    "Last lines can be executed with:"
   ]
  },
  {
   "cell_type": "code",
   "execution_count": 1,
   "metadata": {},
   "outputs": [],
   "source": [
    "from docker import APIClient\n"
   ]
  },
  {
   "cell_type": "code",
   "execution_count": 2,
   "metadata": {},
   "outputs": [],
   "source": [
    "c = APIClient(base_url='tcp://172.17.0.1:1111')\n",
    "#c = APIClient(base_url='unix://var/run/docker.sock')\n"
   ]
  },
  {
   "cell_type": "code",
   "execution_count": 3,
   "metadata": {},
   "outputs": [],
   "source": [
    "title_layer = \"Test3 National land cover map 2015 32 classes 512 512\" #this will be input of function\n",
    "\n",
    "name_tif = \"my_tif.zip\" #this will be input of function"
   ]
  },
  {
   "cell_type": "code",
   "execution_count": 4,
   "metadata": {},
   "outputs": [],
   "source": [
    "#string1 = \"import os;import django;os.chdir('/spcgeonode');os.environ.setdefault('DJANGO_SETTINGS_MODULE', 'geonode.local_settings');django.setup();from geonode.base.models import Link;from geonode.layers.models import Layer;\"\n",
    "string1 = \"\"\"import os;\n",
    "import django;\n",
    "os.chdir('/spcgeonode');\n",
    "os.environ.setdefault('DJANGO_SETTINGS_MODULE', 'geonode.local_settings');\n",
    "django.setup();\n",
    "from geonode.base.models import Link;\n",
    "from geonode.layers.models import Layer;\n",
    "\"\"\""
   ]
  },
  {
   "cell_type": "code",
   "execution_count": 5,
   "metadata": {},
   "outputs": [],
   "source": [
    "string2 = \"layer = Layer.objects.filter(title=\"\n",
    "                                         \n",
    "string3 = \").first();\""
   ]
  },
  {
   "cell_type": "code",
   "execution_count": 6,
   "metadata": {},
   "outputs": [],
   "source": [
    "download_url = \"ftp://geonode.conabio.gob.mx/pub/\" + name_tif\n",
    "\n",
    "string4 = \"\"\"Link.objects.update_or_create(resource=layer, url=download_url, \n",
    "defaults=dict(extension=extension, name=name_link, mime=mime, link_type=link_type))\n",
    "\"\"\""
   ]
  },
  {
   "cell_type": "code",
   "execution_count": 7,
   "metadata": {},
   "outputs": [],
   "source": [
    "string = \"\".join([string1, \n",
    "                  \"title_layer = \\'\", title_layer, \"\\';\",\n",
    "                  \"name_tif = \\'\", name_tif, \"\\';\",\n",
    "                  string2, \"\\'\",\n",
    "                  title_layer, \"\\'\", \n",
    "                  string3,\n",
    "                  \"download_url = \\'\", download_url, \"\\';\",\n",
    "                  \"extension = \\'zip\\';\",\n",
    "                  \"name_link = \\'ZIP\\';\", #could be \"Raw Data or Original Dataset\"\n",
    "                  \"mime = \\'application/octet-stream\\';\",\n",
    "                  \"link_type = \\'original\\';\", \n",
    "                  string4])"
   ]
  },
  {
   "cell_type": "code",
   "execution_count": 8,
   "metadata": {},
   "outputs": [],
   "source": [
    "cmd = \"\".join([\"python -c \", \"\\\"\", string, \"\\\"\"])"
   ]
  },
  {
   "cell_type": "code",
   "execution_count": 10,
   "metadata": {},
   "outputs": [
    {
     "name": "stdout",
     "output_type": "stream",
     "text": [
      "<generator object APIClient._read_from_socket.<locals>.<genexpr> at 0x7fe2b5ae2888>\n"
     ]
    }
   ],
   "source": [
    "ex = c.exec_create(container = 'spcgeonode_django_1', \n",
    "                   cmd = cmd)\n",
    "ex_start = c.exec_start(exec_id=ex) #if arg stream=True in exec_start method, then returns generator\n",
    "\n",
    "print(ex_start)"
   ]
  },
  {
   "cell_type": "markdown",
   "metadata": {},
   "source": [
    "# 3) Small to Medium size vectors: lcc MAD-Mex\n"
   ]
  },
  {
   "cell_type": "markdown",
   "metadata": {},
   "source": [
    "## a) Normalize, reproject to wgs84"
   ]
  },
  {
   "cell_type": "code",
   "execution_count": 1,
   "metadata": {},
   "outputs": [],
   "source": [
    "import geopandas as gpd\n",
    "from pyproj import Proj\n",
    "\n",
    "from geonode_conabio.wrappers import reproj_normalize_and_write_small_medium_size_vector"
   ]
  },
  {
   "cell_type": "code",
   "execution_count": 2,
   "metadata": {},
   "outputs": [],
   "source": [
    "direc = '/LUSTRE/MADMEX/tnc_data_steffen_thilo/tnc_marismas/'"
   ]
  },
  {
   "cell_type": "code",
   "execution_count": 3,
   "metadata": {},
   "outputs": [],
   "source": [
    "input_file = direc + '/marismasnacionales_cambiodecoberturadesuelo_2011-2019_final_20190925.gpkg'\n",
    "output_filename = direc + '/marismasnacionales_cambiodecoberturadesuelo_2011-2019_final_20190925_using_geopandas.shp'\n",
    "layer = 'marismasnacionales_cambiodecoberturadesuelo_2011-2019_final_20190925_using_geopandas'"
   ]
  },
  {
   "cell_type": "code",
   "execution_count": 4,
   "metadata": {},
   "outputs": [],
   "source": [
    "name_attribute1 = \"nombre01t1\"\n",
    "name_attribute2 = \"nombre01t2\"\n",
    "name_attribute3 = \"cambio01\""
   ]
  },
  {
   "cell_type": "code",
   "execution_count": 5,
   "metadata": {},
   "outputs": [],
   "source": [
    "list_name_attributes = [name_attribute1, name_attribute2,\n",
    "                        name_attribute3\n",
    "                       ]"
   ]
  },
  {
   "cell_type": "markdown",
   "metadata": {},
   "source": [
    "**Read and call wrapper**"
   ]
  },
  {
   "cell_type": "code",
   "execution_count": 6,
   "metadata": {},
   "outputs": [],
   "source": [
    "gdf = gpd.read_file(input_file)\n",
    "#dropNA's\n",
    "gdf.dropna(subset=list_name_attributes, inplace=True)\n"
   ]
  },
  {
   "cell_type": "code",
   "execution_count": 7,
   "metadata": {},
   "outputs": [],
   "source": [
    "#check geographic proj\n",
    "crs_src = gdf.crs\n",
    "src_crs = crs_src.to_string()\n",
    "proj_src_crs = Proj(src_crs)\n",
    "if not proj_src_crs.crs.is_geographic:\n",
    "    reproj_normalize_and_write_small_medium_size_vector(gdf, \n",
    "                                                        list_name_attributes,\n",
    "                                                        layer, output_filename,\n",
    "                                                        is_geographic=False)\n",
    "else:\n",
    "    reproj_normalize_and_write_small_medium_size_vector(gdf, \n",
    "                                                        list_name_attributes,\n",
    "                                                        layer, output_filename)"
   ]
  },
  {
   "cell_type": "markdown",
   "metadata": {},
   "source": [
    "## b) Register vector layer in geonode via `importlayers`"
   ]
  },
  {
   "cell_type": "markdown",
   "metadata": {},
   "source": [
    "**1) Importlayers cmd**"
   ]
  },
  {
   "cell_type": "code",
   "execution_count": 15,
   "metadata": {},
   "outputs": [],
   "source": [
    "region = \"\".join([\"\\\"Aguascalientes, Mexico, North America, Latin America\\\"\"])\n",
    "name = \"\\\"madmex_sentinel2_aguascalientes_2017_2018_lcc_2\\\"\"\n",
    "title = \"\\\"madmex_sentinel2_aguascalientes_2017_2018_lcc_2\\\"\"\n",
    "abstract = \"\\\"Sentinel2 MAD-Mex land cover change\\\"\"\n",
    "kw = \"\\\"MAD-Mex, Sentinel2, GeoTIFF, WCS\\\"\"\n"
   ]
  },
  {
   "cell_type": "code",
   "execution_count": 16,
   "metadata": {},
   "outputs": [],
   "source": [
    "from utils_docker import import_layers_via_docker"
   ]
  },
  {
   "cell_type": "code",
   "execution_count": 17,
   "metadata": {},
   "outputs": [],
   "source": [
    "result_import = import_layers_via_docker(region, name, title,\n",
    "                                         abstract, kw,\n",
    "                                         output_filename\n",
    "                                         )"
   ]
  },
  {
   "cell_type": "code",
   "execution_count": 19,
   "metadata": {},
   "outputs": [],
   "source": [
    "#print(result_import)"
   ]
  },
  {
   "cell_type": "markdown",
   "metadata": {},
   "source": [
    "**2) Make sure you are able to download it and see thumbnail. If not click to button refresh attributes and statistics for the layer in geonode. For thumbnail increase nginx conf proxy_read_timeout parameter.**"
   ]
  },
  {
   "cell_type": "markdown",
   "metadata": {},
   "source": [
    "# Towards python3 package"
   ]
  },
  {
   "cell_type": "markdown",
   "metadata": {},
   "source": [
    "Following\n",
    "\n",
    "https://python-packaging.readthedocs.io/en/latest/minimal.html"
   ]
  }
 ],
 "metadata": {
  "kernelspec": {
   "display_name": "Python 3",
   "language": "python",
   "name": "python3"
  },
  "kubeflow_notebook": {
   "docker_image": "",
   "experiment": {
    "id": "",
    "name": ""
   },
   "experiment_name": "",
   "pipeline_description": "",
   "pipeline_name": "",
   "volumes": []
  },
  "language_info": {
   "codemirror_mode": {
    "name": "ipython",
    "version": 3
   },
   "file_extension": ".py",
   "mimetype": "text/x-python",
   "name": "python",
   "nbconvert_exporter": "python",
   "pygments_lexer": "ipython3",
   "version": "3.6.9"
  }
 },
 "nbformat": 4,
 "nbformat_minor": 4
}
