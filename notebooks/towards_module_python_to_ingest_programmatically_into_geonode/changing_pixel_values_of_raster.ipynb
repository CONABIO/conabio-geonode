{
 "cells": [
  {
   "cell_type": "markdown",
   "metadata": {},
   "source": [
    "# Change value of some pixels for some raster"
   ]
  },
  {
   "cell_type": "code",
   "execution_count": 1,
   "metadata": {},
   "outputs": [],
   "source": [
    "import rasterio\n",
    "import numpy as np"
   ]
  },
  {
   "cell_type": "code",
   "execution_count": 2,
   "metadata": {},
   "outputs": [],
   "source": [
    "file = \"/LUSTRE/MADMEX/tnc_data_steffen_thilo/tnc_marismas/marismasnacionales_coberturadesuelo_2019_nivel2_final_20190925.tif\""
   ]
  },
  {
   "cell_type": "code",
   "execution_count": 3,
   "metadata": {},
   "outputs": [
    {
     "name": "stdout",
     "output_type": "stream",
     "text": [
      "continue with registration in geonode\n"
     ]
    }
   ],
   "source": [
    "with rasterio.open(file) as src:\n",
    "    array = src.read()\n",
    "    unique_values = np.unique(array)\n",
    "    if np.any(unique_values > 255):\n",
    "        print(\"Raster has pixel values that are greater than 255 value, then either relabel it to have values under 255 and it can be written with a dtype of uint8 -uses less memory- or use different command line\")   \n",
    "    else:\n",
    "        (unique, counts) = np.unique(array, return_counts=True)\n",
    "        frequencies = np.asarray((unique, counts)).T"
   ]
  },
  {
   "cell_type": "code",
   "execution_count": 11,
   "metadata": {},
   "outputs": [
    {
     "name": "stdout",
     "output_type": "stream",
     "text": [
      "[[        0 619402283]\n",
      " [        8  19851102]\n",
      " [       11   9279440]\n",
      " [       26   3129843]\n",
      " [       27   4543740]\n",
      " [       28  36435802]\n",
      " [       29   1615838]\n",
      " [       30   5443540]\n",
      " [       31  18049360]\n",
      " [       80   8755045]\n",
      " [      110  22505468]\n",
      " [      270   5953989]\n",
      " [      280  37497533]\n",
      " [      310  22065977]]\n"
     ]
    }
   ],
   "source": [
    "print(frequencies)"
   ]
  },
  {
   "cell_type": "markdown",
   "metadata": {},
   "source": [
    "## Change labels with values 270, 280 and 310 for writing raster in `uint8` this will consume less memory and register it in geonode"
   ]
  },
  {
   "cell_type": "markdown",
   "metadata": {},
   "source": [
    "**Replacing 270 value with 111**"
   ]
  },
  {
   "cell_type": "code",
   "execution_count": 12,
   "metadata": {},
   "outputs": [],
   "source": [
    "array = np.where(array == 270, 111, array)"
   ]
  },
  {
   "cell_type": "code",
   "execution_count": 13,
   "metadata": {},
   "outputs": [],
   "source": [
    "(unique, counts) = np.unique(array, return_counts=True)"
   ]
  },
  {
   "cell_type": "code",
   "execution_count": 14,
   "metadata": {},
   "outputs": [],
   "source": [
    "frequencies = np.asarray((unique, counts)).T"
   ]
  },
  {
   "cell_type": "code",
   "execution_count": 15,
   "metadata": {},
   "outputs": [
    {
     "name": "stdout",
     "output_type": "stream",
     "text": [
      "[[        0 619402283]\n",
      " [        8  19851102]\n",
      " [       11   9279440]\n",
      " [       26   3129843]\n",
      " [       27   4543740]\n",
      " [       28  36435802]\n",
      " [       29   1615838]\n",
      " [       30   5443540]\n",
      " [       31  18049360]\n",
      " [       80   8755045]\n",
      " [      110  22505468]\n",
      " [      111   5953989]\n",
      " [      280  37497533]\n",
      " [      310  22065977]]\n"
     ]
    }
   ],
   "source": [
    "print(frequencies)"
   ]
  },
  {
   "cell_type": "markdown",
   "metadata": {},
   "source": [
    "**Replacing 280 value for 112**"
   ]
  },
  {
   "cell_type": "code",
   "execution_count": 16,
   "metadata": {},
   "outputs": [],
   "source": [
    "array = np.where(array == 280, 112, array)"
   ]
  },
  {
   "cell_type": "code",
   "execution_count": 17,
   "metadata": {},
   "outputs": [],
   "source": [
    "(unique, counts) = np.unique(array, return_counts=True)"
   ]
  },
  {
   "cell_type": "code",
   "execution_count": 18,
   "metadata": {},
   "outputs": [],
   "source": [
    "frequencies = np.asarray((unique, counts)).T"
   ]
  },
  {
   "cell_type": "code",
   "execution_count": 19,
   "metadata": {},
   "outputs": [
    {
     "name": "stdout",
     "output_type": "stream",
     "text": [
      "[[        0 619402283]\n",
      " [        8  19851102]\n",
      " [       11   9279440]\n",
      " [       26   3129843]\n",
      " [       27   4543740]\n",
      " [       28  36435802]\n",
      " [       29   1615838]\n",
      " [       30   5443540]\n",
      " [       31  18049360]\n",
      " [       80   8755045]\n",
      " [      110  22505468]\n",
      " [      111   5953989]\n",
      " [      112  37497533]\n",
      " [      310  22065977]]\n"
     ]
    }
   ],
   "source": [
    "print(frequencies)"
   ]
  },
  {
   "cell_type": "markdown",
   "metadata": {},
   "source": [
    "**Replacing 280 value for 112**"
   ]
  },
  {
   "cell_type": "code",
   "execution_count": 20,
   "metadata": {},
   "outputs": [],
   "source": [
    "array = np.where(array == 310, 113, array)"
   ]
  },
  {
   "cell_type": "code",
   "execution_count": 21,
   "metadata": {},
   "outputs": [],
   "source": [
    "(unique, counts) = np.unique(array, return_counts=True)"
   ]
  },
  {
   "cell_type": "code",
   "execution_count": 22,
   "metadata": {},
   "outputs": [],
   "source": [
    "frequencies = np.asarray((unique, counts)).T"
   ]
  },
  {
   "cell_type": "code",
   "execution_count": 23,
   "metadata": {},
   "outputs": [
    {
     "name": "stdout",
     "output_type": "stream",
     "text": [
      "[[        0 619402283]\n",
      " [        8  19851102]\n",
      " [       11   9279440]\n",
      " [       26   3129843]\n",
      " [       27   4543740]\n",
      " [       28  36435802]\n",
      " [       29   1615838]\n",
      " [       30   5443540]\n",
      " [       31  18049360]\n",
      " [       80   8755045]\n",
      " [      110  22505468]\n",
      " [      111   5953989]\n",
      " [      112  37497533]\n",
      " [      113  22065977]]\n"
     ]
    }
   ],
   "source": [
    "print(frequencies)"
   ]
  },
  {
   "cell_type": "code",
   "execution_count": 24,
   "metadata": {},
   "outputs": [],
   "source": [
    "source_meta = r.meta.copy()"
   ]
  },
  {
   "cell_type": "code",
   "execution_count": 26,
   "metadata": {},
   "outputs": [
    {
     "data": {
      "text/plain": [
       "{'driver': 'GTiff',\n",
       " 'dtype': 'int16',\n",
       " 'nodata': None,\n",
       " 'width': 22960,\n",
       " 'height': 35476,\n",
       " 'count': 1,\n",
       " 'crs': CRS.from_epsg(32613),\n",
       " 'transform': Affine(5.0, 0.0, 393227.5,\n",
       "        0.0, -5.0, 2553657.5)}"
      ]
     },
     "execution_count": 26,
     "metadata": {},
     "output_type": "execute_result"
    }
   ],
   "source": [
    "source_meta"
   ]
  },
  {
   "cell_type": "code",
   "execution_count": 40,
   "metadata": {},
   "outputs": [],
   "source": [
    "source_meta.update({\"dtype\": rasterio.uint8,\n",
    "                    \"compress\": \"lzw\"})"
   ]
  },
  {
   "cell_type": "code",
   "execution_count": 41,
   "metadata": {},
   "outputs": [
    {
     "data": {
      "text/plain": [
       "{'driver': 'GTiff',\n",
       " 'dtype': 'uint8',\n",
       " 'nodata': None,\n",
       " 'width': 22960,\n",
       " 'height': 35476,\n",
       " 'count': 1,\n",
       " 'crs': CRS.from_epsg(32613),\n",
       " 'transform': Affine(5.0, 0.0, 393227.5,\n",
       "        0.0, -5.0, 2553657.5),\n",
       " 'compress': 'lzw'}"
      ]
     },
     "execution_count": 41,
     "metadata": {},
     "output_type": "execute_result"
    }
   ],
   "source": [
    "source_meta"
   ]
  },
  {
   "cell_type": "code",
   "execution_count": 32,
   "metadata": {},
   "outputs": [
    {
     "data": {
      "text/plain": [
       "(35476, 22960)"
      ]
     },
     "execution_count": 32,
     "metadata": {},
     "output_type": "execute_result"
    }
   ],
   "source": [
    "array[0].shape"
   ]
  },
  {
   "cell_type": "code",
   "execution_count": 34,
   "metadata": {},
   "outputs": [],
   "source": [
    "array = array[0]"
   ]
  },
  {
   "cell_type": "code",
   "execution_count": 35,
   "metadata": {},
   "outputs": [
    {
     "data": {
      "text/plain": [
       "(35476, 22960)"
      ]
     },
     "execution_count": 35,
     "metadata": {},
     "output_type": "execute_result"
    }
   ],
   "source": [
    "array.shape"
   ]
  },
  {
   "cell_type": "code",
   "execution_count": 36,
   "metadata": {},
   "outputs": [],
   "source": [
    "array = np.array(array, dtype = np.uint8)"
   ]
  },
  {
   "cell_type": "code",
   "execution_count": 37,
   "metadata": {},
   "outputs": [
    {
     "data": {
      "text/plain": [
       "dtype('uint8')"
      ]
     },
     "execution_count": 37,
     "metadata": {},
     "output_type": "execute_result"
    }
   ],
   "source": [
    "array.dtype"
   ]
  },
  {
   "cell_type": "code",
   "execution_count": 29,
   "metadata": {},
   "outputs": [],
   "source": [
    "output_filename = \"/LUSTRE/MADMEX/tnc_data_steffen_thilo/tnc_marismas/marismasnacionales_coberturadesuelo_2019_nivel2_final_20190925_relabeled.tif\""
   ]
  },
  {
   "cell_type": "code",
   "execution_count": 42,
   "metadata": {},
   "outputs": [],
   "source": [
    "with rasterio.open(output_filename, 'w', **source_meta,\n",
    "                   ) as dst:\n",
    "    dst.write(array, 1)"
   ]
  },
  {
   "cell_type": "code",
   "execution_count": 43,
   "metadata": {},
   "outputs": [],
   "source": [
    "r.close()"
   ]
  },
  {
   "cell_type": "code",
   "execution_count": null,
   "metadata": {},
   "outputs": [],
   "source": []
  }
 ],
 "metadata": {
  "kernelspec": {
   "display_name": "Python 3",
   "language": "python",
   "name": "python3"
  },
  "language_info": {
   "codemirror_mode": {
    "name": "ipython",
    "version": 3
   },
   "file_extension": ".py",
   "mimetype": "text/x-python",
   "name": "python",
   "nbconvert_exporter": "python",
   "pygments_lexer": "ipython3",
   "version": "3.6.9"
  }
 },
 "nbformat": 4,
 "nbformat_minor": 4
}
