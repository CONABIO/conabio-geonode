{
 "cells": [
  {
   "cell_type": "code",
   "execution_count": 1,
   "metadata": {},
   "outputs": [],
   "source": [
    "import os\n",
    "from glob import glob\n",
    "\n",
    "import geopandas as gpd\n",
    "\n",
    "from geonode_conabio.wrappers import reproj_normalize_and_write_small_medium_size_vector"
   ]
  },
  {
   "cell_type": "code",
   "execution_count": 2,
   "metadata": {},
   "outputs": [],
   "source": [
    "input_directory = \"/LUSTRE/MADMEX/tnc_data_steffen_thilo/tnc_samof/landcoverchanges/\"\n",
    "input_filename = \"eoss4tnc_landcoverchanges_landsat8_2016-2019_20200313_madmexplus_YUC.shp\"\n",
    "destiny_path = \"/data/var/ftp/pub/\"\n",
    "list_name_attributes = [\"class\", \"class_t0\", \"ipccdsc\", \"ipccdsc_t0\"]\n",
    "layername = \"MAD-Mex_TNC_landsat8_Yucatan_lcc_2016-2019_40_classes\"\n",
    "input_filename = os.path.join(input_directory, input_filename)\n",
    "output_filename = os.path.join(destiny_path, layername)"
   ]
  },
  {
   "cell_type": "code",
   "execution_count": 3,
   "metadata": {},
   "outputs": [],
   "source": [
    "gdf = gpd.read_file(input_filename)"
   ]
  },
  {
   "cell_type": "code",
   "execution_count": 4,
   "metadata": {},
   "outputs": [],
   "source": [
    "if list_name_attributes[0]:\n",
    "    gdf.dropna(subset=list_name_attributes, inplace=True, how=\"all\")"
   ]
  },
  {
   "cell_type": "code",
   "execution_count": 5,
   "metadata": {},
   "outputs": [],
   "source": [
    "output_filename_geonode = reproj_normalize_and_write_small_medium_size_vector(gdf,\n",
    "                                                                              list_name_attributes,\n",
    "                                                                              layername,\n",
    "                                                                              input_directory,\n",
    "                                                                              output_filename)"
   ]
  },
  {
   "cell_type": "code",
   "execution_count": 6,
   "metadata": {},
   "outputs": [],
   "source": [
    "output_filename_without_extension = output_filename_geonode.split('.')[0]"
   ]
  },
  {
   "cell_type": "code",
   "execution_count": 7,
   "metadata": {},
   "outputs": [
    {
     "data": {
      "text/plain": [
       "'/LUSTRE/MADMEX/tnc_data_steffen_thilo/tnc_samof/landcoverchanges/MAD-Mex_TNC_landsat8_Yucatan_lcc_2016-2019_40_classes/MAD-Mex_TNC_landsat8_Yucatan_lcc_2016-2019_40_classes'"
      ]
     },
     "execution_count": 7,
     "metadata": {},
     "output_type": "execute_result"
    }
   ],
   "source": [
    "output_filename_without_extension"
   ]
  },
  {
   "cell_type": "code",
   "execution_count": 8,
   "metadata": {},
   "outputs": [],
   "source": [
    "l_output_filenames = glob(output_filename_without_extension +'*',recursive=True)"
   ]
  },
  {
   "cell_type": "code",
   "execution_count": 9,
   "metadata": {},
   "outputs": [],
   "source": [
    "for filenames in l_output_filenames:\n",
    "    os.remove(filenames)\n"
   ]
  },
  {
   "cell_type": "code",
   "execution_count": 10,
   "metadata": {},
   "outputs": [],
   "source": [
    "dir_shapefile = os.path.join(input_directory, layername)"
   ]
  },
  {
   "cell_type": "code",
   "execution_count": 11,
   "metadata": {},
   "outputs": [
    {
     "data": {
      "text/plain": [
       "'/LUSTRE/MADMEX/tnc_data_steffen_thilo/tnc_samof/landcoverchanges/MAD-Mex_TNC_landsat8_Quintana_Roo_lcc_2016-2019_40_classes'"
      ]
     },
     "execution_count": 11,
     "metadata": {},
     "output_type": "execute_result"
    }
   ],
   "source": [
    "dir_shapefile"
   ]
  },
  {
   "cell_type": "code",
   "execution_count": 12,
   "metadata": {},
   "outputs": [],
   "source": [
    "os.removedirs(dir_shapefile)"
   ]
  },
  {
   "cell_type": "code",
   "execution_count": null,
   "metadata": {},
   "outputs": [],
   "source": []
  }
 ],
 "metadata": {
  "kernelspec": {
   "display_name": "Python 3",
   "language": "python",
   "name": "python3"
  },
  "language_info": {
   "codemirror_mode": {
    "name": "ipython",
    "version": 3
   },
   "file_extension": ".py",
   "mimetype": "text/x-python",
   "name": "python",
   "nbconvert_exporter": "python",
   "pygments_lexer": "ipython3",
   "version": "3.6.9"
  }
 },
 "nbformat": 4,
 "nbformat_minor": 4
}
