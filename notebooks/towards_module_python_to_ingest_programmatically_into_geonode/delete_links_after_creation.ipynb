{
 "cells": [
  {
   "cell_type": "markdown",
   "metadata": {},
   "source": [
    "#being in docker exec -it spcgeonode_django_1 bash\n"
   ]
  },
  {
   "cell_type": "code",
   "execution_count": null,
   "metadata": {},
   "outputs": [],
   "source": [
    "```\n",
    "import os\n",
    "import django\n",
    "\n",
    "os.chdir(\"/spcgeonode\")\n",
    "\n",
    "os.environ.setdefault(\"DJANGO_SETTINGS_MODULE\", \"geonode.local_settings\")\n",
    "\n",
    "django.setup()\n",
    "\n",
    "from geonode.base.models import Link\n",
    "\n",
    "from geonode.layers.models import Layer\n",
    "\n",
    "layer = Layer.objects.filter(title=\"My title\").first()\n",
    "\n",
    "print(layer.title)\n",
    "\n",
    "download_url = \"the url\"\n",
    "\n",
    "Link.objects.filter(resource=layer,url=download_url).first().delete()\n",
    "```"
   ]
  }
 ],
 "metadata": {
  "kernelspec": {
   "display_name": "Python 3",
   "language": "python",
   "name": "python3"
  },
  "language_info": {
   "codemirror_mode": {
    "name": "ipython",
    "version": 3
   },
   "file_extension": ".py",
   "mimetype": "text/x-python",
   "name": "python",
   "nbconvert_exporter": "python",
   "pygments_lexer": "ipython3",
   "version": "3.6.9"
  }
 },
 "nbformat": 4,
 "nbformat_minor": 4
}
